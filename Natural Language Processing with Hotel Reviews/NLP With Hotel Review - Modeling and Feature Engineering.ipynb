{
 "cells": [
  {
   "cell_type": "markdown",
   "id": "20385aed",
   "metadata": {},
   "source": [
    "***\n",
    "# NLP With Hotel Review Part 2\n",
    "---\n",
    "## Author: Tolulope Acquah\n",
    "---"
   ]
  },
  {
   "cell_type": "markdown",
   "id": "464c6fbc",
   "metadata": {},
   "source": [
    "***\n",
    "# Table of Contents\n",
    "\n",
    "\n",
    "[Introduction](#Introduction)<br>\n",
    "\n",
    "[Importing Libraries and Datasets](#Importing-Libraries-and-the-Datasets:)<br>\n",
    "\n",
    "[Question 1 - Linear Classifier](#Question-1:-Employ-a-Linear-Classifier-on-this-Dataset) <br> \n",
    "- [Question A - Logistic Regression Model](#Question-1---Part-A:) <br>\n",
    "- [Question B - 20 Words Most Predictive](#Question-1---Part-B:) <br>\n",
    "- [Question C - Reduced Dimensionality](#Question-1---Part-C:) <br>\n",
    "- [Question D - Advantage and Disadvantage of Dimensionality Reduction](#Question-1---Part-D:) <br>\n",
    "\n",
    "\n",
    "[Question 2 - K-Nearest Neighbor Classifier](#Question-2:-Employ-a-K-Nearest-Neighbour-Classifier-on-this-Dataset:) <br>\n",
    "- [Question A - KNN Model](#Question-2---Part-A:) <br>\n",
    "- [Question B - Reduced Number of Observations](#Question-2---Part-B:) <br>\n",
    "- [Question C - Advantage and Disadvantage of Reducing the Number of Observations](#Question-2---Part-C:) <br>\n",
    "- [Question D - Optimal Value for K](#Question-2---Part-D:) <br>\n",
    "- [Question E - Issue with Splitting the Data AFTER Performing Vectorization](#Question-2---Part-E:) <br>\n",
    "\n",
    "\n",
    "[Question 3 - Decision Tree Classifier](#Question-3:-Employ-a-Decision-Tree-Classifier-in-this-Dataset:) <br> \n",
    "- [Question A - Decision Tree Model](#Question-3---Part-A:) <br>\n",
    "- [Question B - Optimal Value for the Maximum Depth](#Question-3---Part-B:) <br>\n",
    "- [Question C - Advantages of Decision Trees over KNN and Weaknesses of Decision Trees](#Question-3---Part-C:) <br>\n",
    "\n",
    "\n",
    "[Question 4 - Purpose of the Validation Test](#Question-4:-What-is-the-purpose-of-the-validation-set,-i.e.,-how-is-it-different-than-the-test-set?)<br>\n",
    "\n",
    "\n",
    "[Question 5 - Re-run Logistic Regression](#Question-5:-Re-run-a-decision-tree-or-logistic-regression-on-the-data-again:) <br> \n",
    "- [Question A - 5-Fold Cross Validation](#Question-5---Part-A:) <br>\n",
    "- [Question B - Confusion Matrix](#Question-5---Part-B:) <br>\n",
    "\n",
    "\n",
    "\n",
    "[Question 6 - Creation of One New Feature](#Question-6:-Create-one-new-feature-of-your-choice:) <br> \n",
    "- [Question A - Explain New Feature](#Question-6---Part-A:) <br>\n",
    "- [Question B - Run Model From Question 5](#Question-6---Part-B:) <br>\n",
    "\n",
    "\n",
    "***"
   ]
  },
  {
   "cell_type": "markdown",
   "id": "5171a677",
   "metadata": {},
   "source": [
    "---\n",
    "\n",
    "# Introduction\n",
    "\n",
    "\n",
    "In this deliverable, I developed several machine learning models to correctly label the sentiment behind hotel reviews.\n",
    "\n",
    "---"
   ]
  },
  {
   "cell_type": "markdown",
   "id": "80cf4d7e",
   "metadata": {},
   "source": [
    "---\n",
    "\n",
    "# Importing Libraries and the Datasets:\n",
    "\n",
    "---"
   ]
  },
  {
   "cell_type": "code",
   "execution_count": 1,
   "id": "4733ec32",
   "metadata": {},
   "outputs": [],
   "source": [
    "# Importing Libraries\n",
    "\n",
    "import numpy as np\n",
    "import pandas as pd\n",
    "import matplotlib.pyplot as plt\n",
    "import seaborn as sns\n",
    "import warnings\n",
    "warnings.filterwarnings('ignore')"
   ]
  },
  {
   "cell_type": "code",
   "execution_count": 2,
   "id": "a343d7e9",
   "metadata": {},
   "outputs": [],
   "source": [
    "# Importing the datasets\n",
    "\n",
    "train_df = pd.read_csv('data/clean_train_dataframe.csv')\n",
    "test_df = pd.read_csv('data/clean_test_dataframe.csv')"
   ]
  },
  {
   "cell_type": "code",
   "execution_count": 3,
   "id": "4ed56abe",
   "metadata": {},
   "outputs": [
    {
     "data": {
      "text/html": [
       "<div>\n",
       "<style scoped>\n",
       "    .dataframe tbody tr th:only-of-type {\n",
       "        vertical-align: middle;\n",
       "    }\n",
       "\n",
       "    .dataframe tbody tr th {\n",
       "        vertical-align: top;\n",
       "    }\n",
       "\n",
       "    .dataframe thead th {\n",
       "        text-align: right;\n",
       "    }\n",
       "</style>\n",
       "<table border=\"1\" class=\"dataframe\">\n",
       "  <thead>\n",
       "    <tr style=\"text-align: right;\">\n",
       "      <th></th>\n",
       "      <th>Additional_Number_of_Scoring</th>\n",
       "      <th>Average_Score</th>\n",
       "      <th>Review_Total_Negative_Word_Counts</th>\n",
       "      <th>Total_Number_of_Reviews</th>\n",
       "      <th>Review_Total_Positive_Word_Counts</th>\n",
       "      <th>Total_Number_of_Reviews_Reviewer_Has_Given</th>\n",
       "      <th>days_since_review</th>\n",
       "      <th>lat</th>\n",
       "      <th>lng</th>\n",
       "      <th>weekday_of_review</th>\n",
       "      <th>...</th>\n",
       "      <th>n_worry</th>\n",
       "      <th>n_worth</th>\n",
       "      <th>n_would</th>\n",
       "      <th>n_write</th>\n",
       "      <th>n_wrong</th>\n",
       "      <th>n_year</th>\n",
       "      <th>n_yes</th>\n",
       "      <th>n_yet</th>\n",
       "      <th>n_young</th>\n",
       "      <th>rating</th>\n",
       "    </tr>\n",
       "  </thead>\n",
       "  <tbody>\n",
       "    <tr>\n",
       "      <th>0</th>\n",
       "      <td>620</td>\n",
       "      <td>9.0</td>\n",
       "      <td>0</td>\n",
       "      <td>1974</td>\n",
       "      <td>164</td>\n",
       "      <td>1</td>\n",
       "      <td>562</td>\n",
       "      <td>51.506558</td>\n",
       "      <td>-0.004514</td>\n",
       "      <td>1</td>\n",
       "      <td>...</td>\n",
       "      <td>0</td>\n",
       "      <td>0</td>\n",
       "      <td>0</td>\n",
       "      <td>0</td>\n",
       "      <td>0</td>\n",
       "      <td>0</td>\n",
       "      <td>0</td>\n",
       "      <td>0</td>\n",
       "      <td>0</td>\n",
       "      <td>1</td>\n",
       "    </tr>\n",
       "    <tr>\n",
       "      <th>1</th>\n",
       "      <td>1258</td>\n",
       "      <td>9.4</td>\n",
       "      <td>6</td>\n",
       "      <td>4204</td>\n",
       "      <td>4</td>\n",
       "      <td>5</td>\n",
       "      <td>276</td>\n",
       "      <td>51.502435</td>\n",
       "      <td>-0.000250</td>\n",
       "      <td>0</td>\n",
       "      <td>...</td>\n",
       "      <td>0</td>\n",
       "      <td>0</td>\n",
       "      <td>0</td>\n",
       "      <td>0</td>\n",
       "      <td>0</td>\n",
       "      <td>0</td>\n",
       "      <td>0</td>\n",
       "      <td>0</td>\n",
       "      <td>0</td>\n",
       "      <td>1</td>\n",
       "    </tr>\n",
       "    <tr>\n",
       "      <th>2</th>\n",
       "      <td>995</td>\n",
       "      <td>8.1</td>\n",
       "      <td>2</td>\n",
       "      <td>3826</td>\n",
       "      <td>38</td>\n",
       "      <td>1</td>\n",
       "      <td>129</td>\n",
       "      <td>51.504348</td>\n",
       "      <td>-0.033444</td>\n",
       "      <td>0</td>\n",
       "      <td>...</td>\n",
       "      <td>0</td>\n",
       "      <td>0</td>\n",
       "      <td>0</td>\n",
       "      <td>0</td>\n",
       "      <td>0</td>\n",
       "      <td>0</td>\n",
       "      <td>0</td>\n",
       "      <td>0</td>\n",
       "      <td>0</td>\n",
       "      <td>1</td>\n",
       "    </tr>\n",
       "    <tr>\n",
       "      <th>3</th>\n",
       "      <td>853</td>\n",
       "      <td>8.4</td>\n",
       "      <td>7</td>\n",
       "      <td>2726</td>\n",
       "      <td>10</td>\n",
       "      <td>10</td>\n",
       "      <td>164</td>\n",
       "      <td>51.507377</td>\n",
       "      <td>0.038657</td>\n",
       "      <td>0</td>\n",
       "      <td>...</td>\n",
       "      <td>0</td>\n",
       "      <td>0</td>\n",
       "      <td>0</td>\n",
       "      <td>0</td>\n",
       "      <td>0</td>\n",
       "      <td>0</td>\n",
       "      <td>0</td>\n",
       "      <td>0</td>\n",
       "      <td>0</td>\n",
       "      <td>0</td>\n",
       "    </tr>\n",
       "    <tr>\n",
       "      <th>4</th>\n",
       "      <td>1243</td>\n",
       "      <td>8.1</td>\n",
       "      <td>11</td>\n",
       "      <td>6608</td>\n",
       "      <td>8</td>\n",
       "      <td>69</td>\n",
       "      <td>639</td>\n",
       "      <td>51.513556</td>\n",
       "      <td>-0.180002</td>\n",
       "      <td>1</td>\n",
       "      <td>...</td>\n",
       "      <td>0</td>\n",
       "      <td>0</td>\n",
       "      <td>0</td>\n",
       "      <td>0</td>\n",
       "      <td>0</td>\n",
       "      <td>0</td>\n",
       "      <td>0</td>\n",
       "      <td>0</td>\n",
       "      <td>0</td>\n",
       "      <td>0</td>\n",
       "    </tr>\n",
       "  </tbody>\n",
       "</table>\n",
       "<p>5 rows × 2744 columns</p>\n",
       "</div>"
      ],
      "text/plain": [
       "   Additional_Number_of_Scoring  Average_Score  \\\n",
       "0                           620            9.0   \n",
       "1                          1258            9.4   \n",
       "2                           995            8.1   \n",
       "3                           853            8.4   \n",
       "4                          1243            8.1   \n",
       "\n",
       "   Review_Total_Negative_Word_Counts  Total_Number_of_Reviews  \\\n",
       "0                                  0                     1974   \n",
       "1                                  6                     4204   \n",
       "2                                  2                     3826   \n",
       "3                                  7                     2726   \n",
       "4                                 11                     6608   \n",
       "\n",
       "   Review_Total_Positive_Word_Counts  \\\n",
       "0                                164   \n",
       "1                                  4   \n",
       "2                                 38   \n",
       "3                                 10   \n",
       "4                                  8   \n",
       "\n",
       "   Total_Number_of_Reviews_Reviewer_Has_Given  days_since_review        lat  \\\n",
       "0                                           1                562  51.506558   \n",
       "1                                           5                276  51.502435   \n",
       "2                                           1                129  51.504348   \n",
       "3                                          10                164  51.507377   \n",
       "4                                          69                639  51.513556   \n",
       "\n",
       "        lng  weekday_of_review  ...  n_worry  n_worth  n_would  n_write  \\\n",
       "0 -0.004514                  1  ...        0        0        0        0   \n",
       "1 -0.000250                  0  ...        0        0        0        0   \n",
       "2 -0.033444                  0  ...        0        0        0        0   \n",
       "3  0.038657                  0  ...        0        0        0        0   \n",
       "4 -0.180002                  1  ...        0        0        0        0   \n",
       "\n",
       "   n_wrong  n_year  n_yes  n_yet  n_young  rating  \n",
       "0        0       0      0      0        0       1  \n",
       "1        0       0      0      0        0       1  \n",
       "2        0       0      0      0        0       1  \n",
       "3        0       0      0      0        0       0  \n",
       "4        0       0      0      0        0       0  \n",
       "\n",
       "[5 rows x 2744 columns]"
      ]
     },
     "execution_count": 3,
     "metadata": {},
     "output_type": "execute_result"
    }
   ],
   "source": [
    "train_df.head()"
   ]
  },
  {
   "cell_type": "code",
   "execution_count": 4,
   "id": "d95c5dbc",
   "metadata": {},
   "outputs": [
    {
     "data": {
      "text/html": [
       "<div>\n",
       "<style scoped>\n",
       "    .dataframe tbody tr th:only-of-type {\n",
       "        vertical-align: middle;\n",
       "    }\n",
       "\n",
       "    .dataframe tbody tr th {\n",
       "        vertical-align: top;\n",
       "    }\n",
       "\n",
       "    .dataframe thead th {\n",
       "        text-align: right;\n",
       "    }\n",
       "</style>\n",
       "<table border=\"1\" class=\"dataframe\">\n",
       "  <thead>\n",
       "    <tr style=\"text-align: right;\">\n",
       "      <th></th>\n",
       "      <th>Additional_Number_of_Scoring</th>\n",
       "      <th>Average_Score</th>\n",
       "      <th>Review_Total_Negative_Word_Counts</th>\n",
       "      <th>Total_Number_of_Reviews</th>\n",
       "      <th>Review_Total_Positive_Word_Counts</th>\n",
       "      <th>Total_Number_of_Reviews_Reviewer_Has_Given</th>\n",
       "      <th>days_since_review</th>\n",
       "      <th>lat</th>\n",
       "      <th>lng</th>\n",
       "      <th>weekday_of_review</th>\n",
       "      <th>...</th>\n",
       "      <th>n_worry</th>\n",
       "      <th>n_worth</th>\n",
       "      <th>n_would</th>\n",
       "      <th>n_write</th>\n",
       "      <th>n_wrong</th>\n",
       "      <th>n_year</th>\n",
       "      <th>n_yes</th>\n",
       "      <th>n_yet</th>\n",
       "      <th>n_young</th>\n",
       "      <th>rating</th>\n",
       "    </tr>\n",
       "  </thead>\n",
       "  <tbody>\n",
       "    <tr>\n",
       "      <th>0</th>\n",
       "      <td>1005</td>\n",
       "      <td>8.3</td>\n",
       "      <td>0</td>\n",
       "      <td>3469</td>\n",
       "      <td>6</td>\n",
       "      <td>2</td>\n",
       "      <td>297</td>\n",
       "      <td>51.559096</td>\n",
       "      <td>-0.284704</td>\n",
       "      <td>0</td>\n",
       "      <td>...</td>\n",
       "      <td>0</td>\n",
       "      <td>0</td>\n",
       "      <td>0</td>\n",
       "      <td>0</td>\n",
       "      <td>0</td>\n",
       "      <td>0</td>\n",
       "      <td>0</td>\n",
       "      <td>0</td>\n",
       "      <td>0</td>\n",
       "      <td>0</td>\n",
       "    </tr>\n",
       "    <tr>\n",
       "      <th>1</th>\n",
       "      <td>487</td>\n",
       "      <td>8.8</td>\n",
       "      <td>46</td>\n",
       "      <td>1805</td>\n",
       "      <td>121</td>\n",
       "      <td>1</td>\n",
       "      <td>4</td>\n",
       "      <td>51.474469</td>\n",
       "      <td>-0.019428</td>\n",
       "      <td>6</td>\n",
       "      <td>...</td>\n",
       "      <td>0</td>\n",
       "      <td>0</td>\n",
       "      <td>0</td>\n",
       "      <td>0</td>\n",
       "      <td>0</td>\n",
       "      <td>0</td>\n",
       "      <td>0</td>\n",
       "      <td>0</td>\n",
       "      <td>0</td>\n",
       "      <td>1</td>\n",
       "    </tr>\n",
       "    <tr>\n",
       "      <th>2</th>\n",
       "      <td>570</td>\n",
       "      <td>9.3</td>\n",
       "      <td>0</td>\n",
       "      <td>2319</td>\n",
       "      <td>9</td>\n",
       "      <td>1</td>\n",
       "      <td>590</td>\n",
       "      <td>51.505696</td>\n",
       "      <td>-0.101525</td>\n",
       "      <td>1</td>\n",
       "      <td>...</td>\n",
       "      <td>0</td>\n",
       "      <td>0</td>\n",
       "      <td>0</td>\n",
       "      <td>0</td>\n",
       "      <td>0</td>\n",
       "      <td>0</td>\n",
       "      <td>0</td>\n",
       "      <td>0</td>\n",
       "      <td>0</td>\n",
       "      <td>1</td>\n",
       "    </tr>\n",
       "    <tr>\n",
       "      <th>3</th>\n",
       "      <td>2623</td>\n",
       "      <td>8.7</td>\n",
       "      <td>19</td>\n",
       "      <td>12158</td>\n",
       "      <td>0</td>\n",
       "      <td>2</td>\n",
       "      <td>269</td>\n",
       "      <td>51.500961</td>\n",
       "      <td>-0.116591</td>\n",
       "      <td>0</td>\n",
       "      <td>...</td>\n",
       "      <td>0</td>\n",
       "      <td>0</td>\n",
       "      <td>0</td>\n",
       "      <td>0</td>\n",
       "      <td>0</td>\n",
       "      <td>0</td>\n",
       "      <td>0</td>\n",
       "      <td>0</td>\n",
       "      <td>0</td>\n",
       "      <td>0</td>\n",
       "    </tr>\n",
       "    <tr>\n",
       "      <th>4</th>\n",
       "      <td>365</td>\n",
       "      <td>8.1</td>\n",
       "      <td>13</td>\n",
       "      <td>1567</td>\n",
       "      <td>0</td>\n",
       "      <td>2</td>\n",
       "      <td>373</td>\n",
       "      <td>51.515125</td>\n",
       "      <td>-0.160066</td>\n",
       "      <td>1</td>\n",
       "      <td>...</td>\n",
       "      <td>0</td>\n",
       "      <td>0</td>\n",
       "      <td>0</td>\n",
       "      <td>0</td>\n",
       "      <td>0</td>\n",
       "      <td>0</td>\n",
       "      <td>0</td>\n",
       "      <td>0</td>\n",
       "      <td>0</td>\n",
       "      <td>0</td>\n",
       "    </tr>\n",
       "  </tbody>\n",
       "</table>\n",
       "<p>5 rows × 2744 columns</p>\n",
       "</div>"
      ],
      "text/plain": [
       "   Additional_Number_of_Scoring  Average_Score  \\\n",
       "0                          1005            8.3   \n",
       "1                           487            8.8   \n",
       "2                           570            9.3   \n",
       "3                          2623            8.7   \n",
       "4                           365            8.1   \n",
       "\n",
       "   Review_Total_Negative_Word_Counts  Total_Number_of_Reviews  \\\n",
       "0                                  0                     3469   \n",
       "1                                 46                     1805   \n",
       "2                                  0                     2319   \n",
       "3                                 19                    12158   \n",
       "4                                 13                     1567   \n",
       "\n",
       "   Review_Total_Positive_Word_Counts  \\\n",
       "0                                  6   \n",
       "1                                121   \n",
       "2                                  9   \n",
       "3                                  0   \n",
       "4                                  0   \n",
       "\n",
       "   Total_Number_of_Reviews_Reviewer_Has_Given  days_since_review        lat  \\\n",
       "0                                           2                297  51.559096   \n",
       "1                                           1                  4  51.474469   \n",
       "2                                           1                590  51.505696   \n",
       "3                                           2                269  51.500961   \n",
       "4                                           2                373  51.515125   \n",
       "\n",
       "        lng  weekday_of_review  ...  n_worry  n_worth  n_would  n_write  \\\n",
       "0 -0.284704                  0  ...        0        0        0        0   \n",
       "1 -0.019428                  6  ...        0        0        0        0   \n",
       "2 -0.101525                  1  ...        0        0        0        0   \n",
       "3 -0.116591                  0  ...        0        0        0        0   \n",
       "4 -0.160066                  1  ...        0        0        0        0   \n",
       "\n",
       "   n_wrong  n_year  n_yes  n_yet  n_young  rating  \n",
       "0        0       0      0      0        0       0  \n",
       "1        0       0      0      0        0       1  \n",
       "2        0       0      0      0        0       1  \n",
       "3        0       0      0      0        0       0  \n",
       "4        0       0      0      0        0       0  \n",
       "\n",
       "[5 rows x 2744 columns]"
      ]
     },
     "execution_count": 4,
     "metadata": {},
     "output_type": "execute_result"
    }
   ],
   "source": [
    "test_df.head()"
   ]
  },
  {
   "cell_type": "code",
   "execution_count": 5,
   "id": "a785b96f",
   "metadata": {},
   "outputs": [
    {
     "name": "stdout",
     "output_type": "stream",
     "text": [
      "(12798, 2744) (4267, 2744)\n"
     ]
    }
   ],
   "source": [
    "print(train_df.shape, test_df.shape)"
   ]
  },
  {
   "cell_type": "markdown",
   "id": "73af9fda",
   "metadata": {},
   "source": [
    "The **clean_train_dataframe csv file** has **12,798 rows** and **2,744 columns**.\n",
    "The **clean_test_dataframe csv** file has **4,267 rows** and **2,744 columns**."
   ]
  },
  {
   "cell_type": "markdown",
   "id": "f93adcea",
   "metadata": {},
   "source": [
    "# Question 1: Employ a Linear Classifier on this Dataset\n",
    "\n",
    "---"
   ]
  },
  {
   "cell_type": "markdown",
   "id": "c568201f",
   "metadata": {},
   "source": [
    "## Question 1 - Part A:\n",
    "\n",
    "Fit a logistic regression model to this data with the solver set to `lbfgs`. What is the accuracy score on the test set?"
   ]
  },
  {
   "cell_type": "markdown",
   "id": "bc1a50f6",
   "metadata": {},
   "source": [
    "To fit a logistic regression model, I followed the following process:\n",
    "\n",
    "**1. Assign the independent and dependent variable:** since the `rating` column is the target variable, I assigned that column to be \"y\" (dependent variable), and the rest of the columns to be \"X\" (independent variables). There are 2 datasets, train and test, so the variables were named accordingly: X_train, y_train, X_test, and y_test."
   ]
  },
  {
   "cell_type": "code",
   "execution_count": 6,
   "id": "50546879",
   "metadata": {},
   "outputs": [],
   "source": [
    "# Assign the independent and dependent variable\n",
    "X_train = train_df.drop('rating', axis=1)\n",
    "y_train = train_df['rating']\n",
    "X_test = test_df.drop('rating', axis=1)\n",
    "y_test = test_df['rating']"
   ]
  },
  {
   "cell_type": "markdown",
   "id": "03a9433e",
   "metadata": {},
   "source": [
    "**2. Scale the data:** By visually inspecting the dataset, it is clear that the numeric columns are not on the same scale, and knowing that model fitting on scaled data does better than model fitting on unscaled data, I decided to scale the data using StandardScaler by importing it from the \"sklearn.preprocessing\" package. I used the StandardScaler as opposed to the MinMaxScaler since the use of StandardScaler is what is done in practice."
   ]
  },
  {
   "cell_type": "code",
   "execution_count": 7,
   "id": "331ccfcc",
   "metadata": {},
   "outputs": [],
   "source": [
    "# Import the scaler\n",
    "from sklearn.preprocessing import StandardScaler\n",
    "\n",
    "# Instantiate the scaler\n",
    "scaler = StandardScaler()\n",
    "\n",
    "# Fit the scaler to the X_train dataset\n",
    "scaler.fit(X_train)\n",
    "\n",
    "# Transform the X_train and X_test dataset\n",
    "X_train = scaler.transform(X_train)\n",
    "X_test = scaler.transform(X_test)"
   ]
  },
  {
   "cell_type": "markdown",
   "id": "a6c133cc",
   "metadata": {},
   "source": [
    "**3. Find the best regularization parameter for the logistic regression:** Next, I created a for loop to find the best C-value for the Logistic Regression model, that would result in the most optimal accuracy score for the model. I then plotted both the train and test accuracy scores to see what the best C-value would be for the model."
   ]
  },
  {
   "cell_type": "code",
   "execution_count": 8,
   "id": "e5460713",
   "metadata": {},
   "outputs": [],
   "source": [
    "# Import LogisticRegression from sklearn\n",
    "from sklearn.linear_model import LogisticRegression\n",
    "\n",
    "# Created empty lists to store the accuracy scores for the different regularization parameters\n",
    "train_accuracy = []\n",
    "test_accuracy = []\n",
    "\n",
    "# Created 11 C-values from 10^-5 to 10^5\n",
    "C_vals = np.logspace(start=-5, stop=5, num=11, base=10)\n",
    "\n",
    "for C_val in C_vals:\n",
    "    \n",
    "    # Instantiate the model with solver set to lbfgs\n",
    "    log_reg_model = LogisticRegression(solver='lbfgs', \n",
    "                                       random_state=1,\n",
    "                                       C = C_val)\n",
    "    \n",
    "    # Fit the model\n",
    "    log_reg_model.fit(X_train, y_train)\n",
    "    \n",
    "    # Accuracy Score for the train and test set\n",
    "    train_accuracy.append(log_reg_model.score(X_train, y_train))\n",
    "    test_accuracy.append(log_reg_model.score(X_test, y_test))"
   ]
  },
  {
   "cell_type": "code",
   "execution_count": 9,
   "id": "c8cacd3d",
   "metadata": {},
   "outputs": [
    {
     "data": {
      "image/png": "[encoded data removed]",
      "text/plain": [
       "<Figure size 432x288 with 1 Axes>"
      ]
     },
     "metadata": {
      "needs_background": "light"
     },
     "output_type": "display_data"
    }
   ],
   "source": [
    "# Plot both train and test accuracies against the C values\n",
    "plt.figure()\n",
    "plt.plot(C_vals, train_accuracy, label='Train', marker='.')\n",
    "plt.plot(C_vals, test_accuracy, label='Test', marker='.')\n",
    "plt.xscale('log')\n",
    "plt.title('Logistic Regression Accuracy vs. C')\n",
    "plt.xlabel('Regularization Parameter: C')\n",
    "plt.ylabel('Accuracy Score')\n",
    "plt.grid()\n",
    "plt.legend()\n",
    "plt.show()"
   ]
  },
  {
   "cell_type": "markdown",
   "id": "fcd0a7e7",
   "metadata": {},
   "source": [
    "\n",
    "Based on the plot, it can be seen that over-fitting starts to happen on the train set after C=0.01, and the accuracy score declines for the test set after C=0.0001. It looks like the best model has a C-value of 0.0001, as that provides the highest accuracy score on the test set, while also avoiding over-fitting on the train set as there is a minimal accuracy score difference between both sets.\n",
    "\n",
    "\n",
    "\n",
    "I ran the Logistic Regression model again with a C-parameter value of 0.0001."
   ]
  },
  {
   "cell_type": "markdown",
   "id": "edb5ec03",
   "metadata": {},
   "source": [
    "**4. Fit the Logistic Regression Model with the Optimal Regularization Parameter:** Next, I fit the logistic regression model with a C-value of 0.0001."
   ]
  },
  {
   "cell_type": "code",
   "execution_count": 10,
   "id": "e5e4e8b1",
   "metadata": {},
   "outputs": [
    {
     "name": "stdout",
     "output_type": "stream",
     "text": [
      "The accuracy score on the TRAIN set is: 0.8059853102047195\n",
      "The accuracy score on the TEST set is: 0.7811108507147879\n"
     ]
    }
   ],
   "source": [
    "# 1. Instantiate the model with solver set to lbfgs\n",
    "log_reg_model = LogisticRegression(solver='lbfgs', \n",
    "                                   random_state=1, \n",
    "                                   C = 0.0001)\n",
    "\n",
    "# 2. Fit the model\n",
    "log_reg_model.fit(X_train, y_train)\n",
    "\n",
    "# 3. Get the accuracy score on the train and test set\n",
    "print(f\"The accuracy score on the TRAIN set is: {log_reg_model.score(X_train,y_train)}\")\n",
    "\n",
    "print(f\"The accuracy score on the TEST set is: {log_reg_model.score(X_test,y_test)}\")"
   ]
  },
  {
   "cell_type": "markdown",
   "id": "73f875fc",
   "metadata": {},
   "source": [
    "The accuracy score on the TRAIN set is 80.60% for the logistic regression model. \\\n",
    "**The accuracy score on the TEST set is 78.11% for the logistic regression model.**"
   ]
  },
  {
   "cell_type": "markdown",
   "id": "e5d9f2cb",
   "metadata": {},
   "source": [
    "## Question 1 - Part B:\n",
    "\n",
    "What are the 20 words most predictive of a good review (from the positive review column)? What are the 20 words most predictive with a bad review (from the negative review column)? Use the regression coefficients to answer this question"
   ]
  },
  {
   "cell_type": "markdown",
   "id": "94890e7b",
   "metadata": {},
   "source": [
    "To find the 20 words most predictive of a good and bad review, I created dataframes for the negative and positive words using the regression coefficients. I did this by using the `str.startswith` function to filter columns that start with \"n\" for negative and \"p\" for positive.\n",
    "\n",
    "Reference for `str.startswith`:\n",
    "- https://pandas.pydata.org/docs/reference/api/pandas.Series.str.startswith.html"
   ]
  },
  {
   "cell_type": "markdown",
   "id": "1bb6dc1a",
   "metadata": {},
   "source": [
    "**1. Created a dataframe with the regression coefficients and feature names:** Since the regression coefficients align with the column names, I created a column named \"coefficients\" that contained all the regression coefficients, and another column of the indexes which are the column names associated with the regression coefficients."
   ]
  },
  {
   "cell_type": "code",
   "execution_count": 11,
   "id": "842f49ba",
   "metadata": {
    "scrolled": true
   },
   "outputs": [],
   "source": [
    "# Made a copy of the initial X_train (unscaled) to get the column names for the coefficients\n",
    "copy_df = train_df.drop('rating', axis=1)\n",
    "\n",
    "# Created a dataframe with the coefficients and feature names\n",
    "columns_coefficient = pd.DataFrame({\"coefficients\": log_reg_model.coef_[0]},\n",
    "                                   index=copy_df.columns)"
   ]
  },
  {
   "cell_type": "markdown",
   "id": "47552de8",
   "metadata": {},
   "source": [
    "**2. Created 2 Dataframes Containing Negative and Positive Reviews and Sorted it By Descending Order:** With the created dataframe containing all the regression coefficients and feature names, I created 2 separate dataframes containing only feature names that start with \"n\" for negative reviews and \"p\" for positive reviews. \\\n",
    "I then filtered the dataframes to show the columns in descending order for positive (to show the highest positive regression coefficients), and ascending order (to show the highest negative regression coefficients). So the feature name with the highest regression coefficients would show first."
   ]
  },
  {
   "cell_type": "code",
   "execution_count": 12,
   "id": "8198a633",
   "metadata": {},
   "outputs": [],
   "source": [
    "# Separated dataframe based on the negative and positive review columns\n",
    "negative_word_counts_df = columns_coefficient[columns_coefficient.index.str.startswith('n')]\n",
    "positive_word_counts_df = columns_coefficient[columns_coefficient.index.str.startswith('p')]\n",
    "\n",
    "# Filtered the dataframe to be shown in ascending and descending order\n",
    "negative_word_counts = negative_word_counts_df.sort_values(\"coefficients\", ascending=True)\n",
    "positive_word_counts = positive_word_counts_df.sort_values(\"coefficients\", ascending=False)"
   ]
  },
  {
   "cell_type": "markdown",
   "id": "fc240fbf",
   "metadata": {},
   "source": [
    "**3. Plotted the 20 Words Most Predictive of a Good and Bad Review:** Using the created dataframes showing the negative and positive reviews, I created two bar plots, one for good review and the other for bad reviews. "
   ]
  },
  {
   "cell_type": "code",
   "execution_count": 13,
   "id": "abe1c9ef",
   "metadata": {
    "scrolled": false
   },
   "outputs": [
    {
     "data": {
      "image/png": "[encoded data removed]",
      "text/plain": [
       "<Figure size 1080x360 with 1 Axes>"
      ]
     },
     "metadata": {
      "needs_background": "light"
     },
     "output_type": "display_data"
    }
   ],
   "source": [
    "# For positive review columns\n",
    "positive_word_counts.head(21).plot(kind=\"bar\", figsize=(15, 5), legend=False)\n",
    "plt.title(\"The 20 Words Most Predictive of a Good Review\")\n",
    "plt.ylabel(\"Regression Coefficients\")\n",
    "plt.xticks(rotation=45)\n",
    "plt.show()"
   ]
  },
  {
   "cell_type": "markdown",
   "id": "d16340ea",
   "metadata": {},
   "source": [
    "**The 20 words most predictive of a good review (from the positive review column) are:** staff, excellent, everything, lovely, great, helpful, friendly, hotel, room, amaze, fantastic, perfect, stay, love, beautiful, definitely, service, extremely, comfortable, and comfy."
   ]
  },
  {
   "cell_type": "code",
   "execution_count": 14,
   "id": "bb3b3dfe",
   "metadata": {
    "scrolled": false
   },
   "outputs": [
    {
     "data": {
      "image/png": "[encoded data removed]",
      "text/plain": [
       "<Figure size 1080x360 with 1 Axes>"
      ]
     },
     "metadata": {
      "needs_background": "light"
     },
     "output_type": "display_data"
    }
   ],
   "source": [
    "# For negative review columns\n",
    "negative_word_counts.head(21).plot(kind=\"bar\", figsize=(15, 5), legend=False)\n",
    "plt.title(\"The 20 Words Most Predictive of a Bad Review\")\n",
    "plt.ylabel(\"Regression Coefficients\")\n",
    "plt.xticks(rotation=45)\n",
    "plt.show()"
   ]
  },
  {
   "cell_type": "markdown",
   "id": "82e2f2e0",
   "metadata": {},
   "source": [
    "**The 20 words most predictive with a bad review (from the negative review column):** room, small, staff, poor, bed, noisy, tire, bathroom, work, uncomfortable, basic, tiny, noise, date, decor, sleep, shower, rude, dark, and air."
   ]
  },
  {
   "cell_type": "markdown",
   "id": "41b0d77d",
   "metadata": {},
   "source": [
    "## Question 1 - Part C:\n",
    "\n",
    "Reduce the dimensionality of the dataset using PCA, what is the relationship between the number of dimensions and run-time for a logistic regression?"
   ]
  },
  {
   "cell_type": "markdown",
   "id": "31d28529",
   "metadata": {},
   "source": [
    "**1. Import PCA from the sklearn.decomposition submodule, Fit and Transform the Data:** I imported PCA and instantiated it with `n_components` of 0.9 (90%) because I wanted enough features to explain at least 90% of the variance."
   ]
  },
  {
   "cell_type": "code",
   "execution_count": 15,
   "id": "5fbd1efe",
   "metadata": {},
   "outputs": [],
   "source": [
    "# Instantiate and fit the PCA model to the data\n",
    "from sklearn.decomposition import PCA\n",
    "model_PCA = PCA(n_components=0.9)\n",
    "model_PCA.fit(X_train)\n",
    "\n",
    "# Transform the data\n",
    "X_train_PCA = model_PCA.transform(X_train)\n",
    "X_test_PCA = model_PCA.transform(X_test)"
   ]
  },
  {
   "cell_type": "code",
   "execution_count": 16,
   "id": "aec62586",
   "metadata": {},
   "outputs": [
    {
     "name": "stdout",
     "output_type": "stream",
     "text": [
      "The original shape used for the logistic regression model was: (12798, 2743)\n",
      "The PCA Transformed shape is: (12798, 1891)\n"
     ]
    }
   ],
   "source": [
    "print(f\"The original shape used for the logistic regression model was: {X_train.shape}\")\n",
    "print(f\"The PCA Transformed shape is: {X_train_PCA.shape}\")"
   ]
  },
  {
   "cell_type": "markdown",
   "id": "0e828c53",
   "metadata": {},
   "source": [
    "**2. Fit the Logistic Regression Model Again with PCA Transformed Data:** Using the PCA transformed X_train and X_test, I then fit the logistic regression model again to see if it would improve the accuracy score."
   ]
  },
  {
   "cell_type": "code",
   "execution_count": 17,
   "id": "247c3b2b",
   "metadata": {
    "scrolled": true
   },
   "outputs": [
    {
     "name": "stdout",
     "output_type": "stream",
     "text": [
      "TRAIN Score with PCA: 0.7999687451164245\n",
      "TEST Score with PCA: 0.7818139207874385\n"
     ]
    }
   ],
   "source": [
    "# Instantiate the model with solver set to lbfgs\n",
    "log_reg_model_PCA = LogisticRegression(solver='lbfgs', \n",
    "                                       random_state=1, \n",
    "                                       C = 0.0001)\n",
    "\n",
    "\n",
    "# Fit the model\n",
    "log_reg_model_PCA.fit(X_train_PCA, y_train)\n",
    "\n",
    "# Get the accuracy score on the PCA train and test sets\n",
    "print(f\"TRAIN Score with PCA: {log_reg_model_PCA.score(X_train_PCA,y_train)}\")\n",
    "print(f\"TEST Score with PCA: {log_reg_model_PCA.score(X_test_PCA,y_test)}\")"
   ]
  },
  {
   "cell_type": "markdown",
   "id": "0cbfbad1",
   "metadata": {},
   "source": [
    "**The test score after the PCA transformation for the logistic regression model is 78.18% which is a slight improvement from the regression model prior to the PCA transformation, with 852 fewer features.**"
   ]
  },
  {
   "cell_type": "markdown",
   "id": "32433e82",
   "metadata": {},
   "source": [
    "|Model Type || Accuracy Score on the Test Set || \n",
    "|-|-|--------------------||\n",
    "|**Logistic Regression without PCA**||78.11%||\n",
    "|**Logistic Regression with PCA**|| 78.18% || \n"
   ]
  },
  {
   "cell_type": "markdown",
   "id": "e5880695",
   "metadata": {},
   "source": [
    "**3. Differentiated between the run time for the logistic regression model without PCA and with PCA:** Using `timeit` I differentiated between the run time for logistic regression model with and without PCA."
   ]
  },
  {
   "cell_type": "code",
   "execution_count": 18,
   "id": "e3752793",
   "metadata": {},
   "outputs": [
    {
     "name": "stdout",
     "output_type": "stream",
     "text": [
      "428 ms ± 90.8 ms per loop (mean ± std. dev. of 7 runs, 1 loop each)\n"
     ]
    }
   ],
   "source": [
    "# Run-time for Logistic Regression model\n",
    "%timeit log_reg_model.fit(X_train, y_train)"
   ]
  },
  {
   "cell_type": "code",
   "execution_count": 19,
   "id": "dce1c1e7",
   "metadata": {},
   "outputs": [
    {
     "name": "stdout",
     "output_type": "stream",
     "text": [
      "161 ms ± 19.4 ms per loop (mean ± std. dev. of 7 runs, 1 loop each)\n"
     ]
    }
   ],
   "source": [
    "# Run-time for PCA Transformed Logistic Regression model\n",
    "%timeit log_reg_model_PCA.fit(X_train_PCA, y_train)"
   ]
  },
  {
   "cell_type": "markdown",
   "id": "c123c170",
   "metadata": {},
   "source": [
    "**The relationship between the number of dimensions and run-time for a logistic regression:**\n",
    "\n",
    "`n_components` was given a threshold of 90%, signifying that the number of principal components should be able to explain 90% of the original dataset's variance. This resulted in 852 columns being dropped from the original dataset. The original dataset had a shape of 12,798 rows and 2,743 columns. The new PCA transformed shape has 12,798 rows and 1,891 columns. This means that 1,891 features were needed to explain 90% of the original dataset's variance.\n",
    "\n",
    "The run-time for the original logistic regression model without the PCA transformation was approximately 428 milliseconds. The run-time with the PCA transformation was 161 milliseconds, meaning that the run-time for the logistic regression model without the PCA transformation was slower than the time it took the PCA transformation logistic regression model to run. With less features (reduced dimensions), the run-time is faster than if the original features were used."
   ]
  },
  {
   "cell_type": "markdown",
   "id": "6a5d5492",
   "metadata": {},
   "source": [
    "## Question 1 - Part D:\n",
    "\n",
    "List one advantage and one disadvantage of dimensionality reduction"
   ]
  },
  {
   "cell_type": "markdown",
   "id": "72a2696b",
   "metadata": {},
   "source": [
    "**Advantage of Dimensionality Reduction:**\n",
    "\n",
    "Too many features could lead to over-fitting as was observed in the logistic regression model without the PCA transformation. One advantage of dimensionality reduction is that it reduces the risk of over-fitting by using less features, without losing all the data from the dropped features."
   ]
  },
  {
   "cell_type": "markdown",
   "id": "2f697a78",
   "metadata": {},
   "source": [
    "**Disadvantage of Dimensionality Reduction:**\n",
    "\n",
    "It is more tedious to interpret the results of the model when conducting PCA transformation. With logistic regression, the coefficients directly impact the prediction of the odds of an outcome of a categorical variable, but when dimensionality reduction occurs, it is more work to interpret the loadings to see how features impact the prediction of the odds of an outcome."
   ]
  },
  {
   "cell_type": "markdown",
   "id": "7ca2047b",
   "metadata": {},
   "source": [
    "---\n",
    "\n",
    "# Question 2: Employ a K-Nearest Neighbour Classifier on this Dataset:\n",
    "\n",
    "---"
   ]
  },
  {
   "cell_type": "markdown",
   "id": "60364663",
   "metadata": {},
   "source": [
    "## Question 2 - Part A:\n",
    "\n",
    "Fit a KNN model to this data. What is the accuracy score on the test set?"
   ]
  },
  {
   "cell_type": "markdown",
   "id": "87dcdc13",
   "metadata": {},
   "source": [
    "**1. Import, Instantiate and Fit the Model and Score the Train and Test Sets:** To fit a KNN model to the data, I imported `KNeighborsClassifier` and instantiated the model without providing a specific size of the nearest neighbor, `n_neighbors`. By not providing a specific value for `n_neighbors`, a default value of 5 is used. I then fit the KNN model to the X_train and y_train set, and scored the X_test and y_test to see what the accuracy score is."
   ]
  },
  {
   "cell_type": "code",
   "execution_count": 20,
   "id": "58d15176",
   "metadata": {
    "scrolled": true
   },
   "outputs": [
    {
     "name": "stdout",
     "output_type": "stream",
     "text": [
      "The number of neighbors is: 5\n",
      "The training accuracy score is: 0.751211126738553\n",
      "The test accuracy score is: 0.6367471291305367\n"
     ]
    }
   ],
   "source": [
    "# Import the KNeighborsClassifier\n",
    "from sklearn.neighbors import KNeighborsClassifier\n",
    "\n",
    "# Instantiate the Model and Fit it to the data using the default n_neighbors of 5\n",
    "KNN_model = KNeighborsClassifier()\n",
    "KNN_model.fit(X_train, y_train)\n",
    "\n",
    "# Score the Model on the Test Set\n",
    "print(f\"The number of neighbors is: {KNN_model.n_neighbors}\")\n",
    "print(f\"The training accuracy score is: {KNN_model.score(X_train, y_train)}\")\n",
    "print(f\"The test accuracy score is: {KNN_model.score(X_test, y_test)}\")"
   ]
  },
  {
   "cell_type": "markdown",
   "id": "31e8abf2",
   "metadata": {},
   "source": [
    "**The accuracy score on the test set is 63.67%**, and the accuracy score on the train set is 75.12%, indicating severe over-fitting as there is a big gap between the train and test accuracy."
   ]
  },
  {
   "cell_type": "markdown",
   "id": "b597016b",
   "metadata": {},
   "source": [
    "|Model Type || Accuracy Score on the Test Set || \n",
    "|-|-|--------------------||\n",
    "|**Logistic Regression without PCA**||78.11%||\n",
    "|**Logistic Regression with PCA**|| 78.18% || \n",
    "|**KNN with default number of observations (5)**||63.67%||"
   ]
  },
  {
   "cell_type": "markdown",
   "id": "3cacf2c8",
   "metadata": {},
   "source": [
    "## Question 2 - Part B:\n",
    "\n",
    "KNN is a computationally expensive model. Reduce the number of observations (data points) in the dataset. What is the relationship between the number of observations and run-time for KNN?"
   ]
  },
  {
   "cell_type": "markdown",
   "id": "0a65203f",
   "metadata": {},
   "source": [
    "I reduced the number of observations to a value of 3. The reasoning behind this was because I couldn't reduce it to 4, since it is an even number. An odd number of observations would be able to break any ties."
   ]
  },
  {
   "cell_type": "code",
   "execution_count": 21,
   "id": "d41113c4",
   "metadata": {},
   "outputs": [
    {
     "name": "stdout",
     "output_type": "stream",
     "text": [
      "The number of neighbors is: 3\n",
      "The training accuracy score is: 0.7961400218784185\n",
      "The test accuracy score is: 0.6320599953128662\n"
     ]
    }
   ],
   "source": [
    "# Instantiate the Model and Fit it to the data using the default n_neighbors of 3\n",
    "KNN_model_reduced = KNeighborsClassifier(n_neighbors=3)\n",
    "KNN_model_reduced.fit(X_train, y_train)\n",
    "\n",
    "# Score the Model on the Test Set\n",
    "print(f\"The number of neighbors is: {KNN_model_reduced.n_neighbors}\")\n",
    "print(f\"The training accuracy score is: {KNN_model_reduced.score(X_train, y_train)}\")\n",
    "print(f\"The test accuracy score is: {KNN_model_reduced.score(X_test, y_test)}\")"
   ]
  },
  {
   "cell_type": "markdown",
   "id": "ce12690c",
   "metadata": {},
   "source": [
    "**The accuracy score of the test accuracy with a number of observations set to 3, is 63.21%**, while the training accuracy score is 79.61%, which still signifies severe over-fitting, and provides a lower accuracy score than when the number of neighbors was 5."
   ]
  },
  {
   "cell_type": "markdown",
   "id": "283e831c",
   "metadata": {},
   "source": [
    "|Model Type || Accuracy Score on the Test Set || \n",
    "|-|-|--------------------||\n",
    "|**Logistic Regression without PCA**||78.11%||\n",
    "|**Logistic Regression with PCA**|| 78.18% || \n",
    "|**KNN with default number of observations (5)**||63.67%||\n",
    "|**KNN with number of observations of 3**||63.21%||"
   ]
  },
  {
   "cell_type": "code",
   "execution_count": 22,
   "id": "15842b60",
   "metadata": {},
   "outputs": [
    {
     "name": "stdout",
     "output_type": "stream",
     "text": [
      "8.05 ms ± 262 µs per loop (mean ± std. dev. of 7 runs, 100 loops each)\n"
     ]
    }
   ],
   "source": [
    "# Run-time for n_neighbors = 5\n",
    "%timeit KNN_model.fit(X_train, y_train)"
   ]
  },
  {
   "cell_type": "code",
   "execution_count": 23,
   "id": "05db72cd",
   "metadata": {
    "scrolled": true
   },
   "outputs": [
    {
     "name": "stdout",
     "output_type": "stream",
     "text": [
      "7.69 ms ± 338 µs per loop (mean ± std. dev. of 7 runs, 100 loops each)\n"
     ]
    }
   ],
   "source": [
    "# Run-time for n_neighbors = 3\n",
    "%timeit KNN_model_reduced.fit(X_train, y_train)"
   ]
  },
  {
   "cell_type": "markdown",
   "id": "6ff12f0a",
   "metadata": {},
   "source": [
    "**The relationship between the number of observations and run-time for KNN:**\n",
    "\n",
    "When the number of observations was 5, the run-time was 8.05 milliseconds. When the number of observations was 3, the run-time was 7.69 milliseconds. This means that when the number of observations is low, the run-time is shorter meaning that the code runs faster than when the number of observations is higher.\n",
    "\n",
    "As the number of observations increase, so does the run-time."
   ]
  },
  {
   "cell_type": "markdown",
   "id": "d69054ac",
   "metadata": {},
   "source": [
    "## Question 2 - Part C:\n",
    "\n",
    "List one advantage and one disadvantage of reducing the number of observations."
   ]
  },
  {
   "cell_type": "markdown",
   "id": "bd6a0d43",
   "metadata": {},
   "source": [
    "**Advantage of Reducing the Number of Observations:**\n",
    "\n",
    "An advantage of reducing the number of observations is that it reduces the intensity of computing predictions. It only looks at the specified number of closest data points to the point that is being predicted, so with a reduced number of observations, it won't take too long to predict the data point."
   ]
  },
  {
   "cell_type": "markdown",
   "id": "90774539",
   "metadata": {},
   "source": [
    "**Disadvantage of Reducing the Number of Observations:**\n",
    "\n",
    "A disadvantage of reducing the number of observations is that it only uses 'n' number of observations to predict, which would result in a lower accuracy score on the model since the number of observations might not consider the other important features."
   ]
  },
  {
   "cell_type": "markdown",
   "id": "10713e2c",
   "metadata": {},
   "source": [
    "## Question 2 - Part D:\n",
    "\n",
    "Use the dataset to find an optimal value for K in the KNN algorithm. You will need to split your dataset into train and validation sets."
   ]
  },
  {
   "cell_type": "markdown",
   "id": "2ffad661",
   "metadata": {},
   "source": [
    "**1. Import `train_test_split` and Split Data:** Before finding an optimal value for K in the KNN algorithm, I split the `train_df` into a train set and validation set. I used a percentage of 30% of the data to be the validation set, and 70% of the data to be the train set."
   ]
  },
  {
   "cell_type": "code",
   "execution_count": 24,
   "id": "54134e41",
   "metadata": {},
   "outputs": [
    {
     "name": "stdout",
     "output_type": "stream",
     "text": [
      "The shape of original train set: (12798, 2743)\n",
      "The shape of the new train set: (8958, 2743)\n",
      "The shape of the validation set: (3840, 2743)\n"
     ]
    }
   ],
   "source": [
    "# Import train_test_split \n",
    "from sklearn.model_selection import train_test_split\n",
    "\n",
    "\n",
    "# Split the dataset into train and validation sets\n",
    "X_train_new, X_validation, y_train_new, y_validation = train_test_split(X_train,\n",
    "                                                                       y_train,\n",
    "                                                                       test_size = 0.3,\n",
    "                                                                       random_state=1)\n",
    "print(f\"The shape of original train set: {X_train.shape}\")\n",
    "print(f\"The shape of the new train set: {X_train_new.shape}\")\n",
    "print(f\"The shape of the validation set: {X_validation.shape}\")"
   ]
  },
  {
   "cell_type": "markdown",
   "id": "3e6c2a6a",
   "metadata": {},
   "source": [
    "**2. Create a For Loop to find the Optimal value for K:** I created a for loop with values from 1 to 51, with a step of 2 (to only have odd values) to use as number of observations to see which K value has the best accuracy score, and plot the train and validation scores to compare, and retrieve the optimal value for K in the KNN algorithm."
   ]
  },
  {
   "cell_type": "code",
   "execution_count": 25,
   "id": "76a3f20b",
   "metadata": {},
   "outputs": [],
   "source": [
    "# For loop to determine the best number of data points to use\n",
    "neighbors = range(1,51,2)\n",
    "\n",
    "# Make empty lists for the train and test accuracy score to compare\n",
    "train_scores = []\n",
    "validation_scores = [ ]\n",
    "\n",
    "for neighbor in neighbors:\n",
    "    \n",
    "    # Instantiate and Fit\n",
    "    KNN_model = KNeighborsClassifier(n_neighbors = neighbor)\n",
    "    KNN_model.fit(X_train_new, y_train_new)\n",
    "    \n",
    "    # Append the scores to the empty list\n",
    "    train_scores.append(KNN_model.score(X_train_new, y_train_new))\n",
    "    validation_scores.append(KNN_model.score(X_validation, y_validation))"
   ]
  },
  {
   "cell_type": "code",
   "execution_count": 26,
   "id": "8ba49ac7",
   "metadata": {
    "scrolled": true
   },
   "outputs": [
    {
     "data": {
      "image/png": "[encoded data removed]",
      "text/plain": [
       "<Figure size 1080x360 with 1 Axes>"
      ]
     },
     "metadata": {
      "needs_background": "light"
     },
     "output_type": "display_data"
    }
   ],
   "source": [
    "# Plot the train and validation accuracy scores\n",
    "plt.figure(figsize=(15,5))\n",
    "plt.plot(neighbors, train_scores, color=\"red\", label=\"Train Scores\", marker='.')\n",
    "plt.plot(neighbors, validation_scores, color=\"blue\", label=\"Validation Scores\", marker='.')\n",
    "plt.legend()\n",
    "plt.grid()\n",
    "plt.ylabel(\"Accuracy Score\")\n",
    "plt.xlabel(\"Number of Neighbors\")\n",
    "plt.title(\"Number of Neighbors vs Accuracy Score\")\n",
    "plt.show()"
   ]
  },
  {
   "cell_type": "markdown",
   "id": "85457d05",
   "metadata": {},
   "source": [
    "By visually inspecting the plot, it seems that the optimal value for K is 19, because it has the highest validation score, and the difference in train and validation score at that optimal value is not significant.\n",
    "\n",
    "To make sure that n_neighbors at 19 is really the highest validation accuracy score, I used `np.argmax` to find the index with the highest score, and used that to find out what the value of K is."
   ]
  },
  {
   "cell_type": "code",
   "execution_count": 27,
   "id": "da418259",
   "metadata": {},
   "outputs": [
    {
     "data": {
      "text/plain": [
       "9"
      ]
     },
     "execution_count": 27,
     "metadata": {},
     "output_type": "execute_result"
    }
   ],
   "source": [
    "# Index of the highest validation accuracy\n",
    "\n",
    "highest_k_index = np.argmax(validation_scores)\n",
    "highest_k_index"
   ]
  },
  {
   "cell_type": "code",
   "execution_count": 28,
   "id": "cfea0ff2",
   "metadata": {},
   "outputs": [
    {
     "data": {
      "text/plain": [
       "19"
      ]
     },
     "execution_count": 28,
     "metadata": {},
     "output_type": "execute_result"
    }
   ],
   "source": [
    "optimal_k = neighbors[highest_k_index]\n",
    "optimal_k"
   ]
  },
  {
   "cell_type": "markdown",
   "id": "fe5809f4",
   "metadata": {},
   "source": [
    "**The optimal value for K is where `n_neighbors` is 19.**"
   ]
  },
  {
   "cell_type": "markdown",
   "id": "297ad84d",
   "metadata": {},
   "source": [
    "**3. Run the KNN Model again with the Optimal Value for K:**"
   ]
  },
  {
   "cell_type": "code",
   "execution_count": 29,
   "id": "3314892d",
   "metadata": {},
   "outputs": [
    {
     "data": {
      "text/plain": [
       "0.6594797281462386"
      ]
     },
     "execution_count": 29,
     "metadata": {},
     "output_type": "execute_result"
    }
   ],
   "source": [
    "# Run the KNN Model with the Optimal Value for K\n",
    "KNN_final_model = KNeighborsClassifier(n_neighbors = 19)\n",
    "KNN_model.fit(X_train, y_train)\n",
    "\n",
    "# Score on the test set\n",
    "KNN_model.score(X_test, y_test)"
   ]
  },
  {
   "cell_type": "markdown",
   "id": "830f3767",
   "metadata": {},
   "source": [
    "**The test accuracy score using the optimal value for K where `n_neighbors` is 19, is 65.95% which is slightly better than the original KNN model using the default number of observations of 5 which had an accuracy score of 63.21%.**"
   ]
  },
  {
   "cell_type": "markdown",
   "id": "a52315a1",
   "metadata": {},
   "source": [
    "|Model Type || Accuracy Score on the Test Set || \n",
    "|-|-|--------------------||\n",
    "|**Logistic Regression without PCA**||78.11%||\n",
    "|**Logistic Regression with PCA**|| 78.18% || \n",
    "|**KNN with default number of observations (5)**||63.67%||\n",
    "|**KNN with number of observations of 3**||63.21%||\n",
    "|**KNN with optimal value for K=19**||65.95%||"
   ]
  },
  {
   "cell_type": "markdown",
   "id": "64b500d7",
   "metadata": {},
   "source": [
    "## Question 2 - Part E:\n",
    "\n",
    "**What is the issue with splitting the data into train and validation sets after performing vectorization?**"
   ]
  },
  {
   "cell_type": "markdown",
   "id": "514c6535",
   "metadata": {},
   "source": [
    "During vectorization, the data has already been fit resulting in some data leakage. The model has already seen the train and validation sets during vectorization, and ideally the model should not be able to see the validation data prior to scoring to prevent data leakage. \n",
    "\n",
    "To make sure the model does not see the validation/test sets, it would be best to split the data first, prior to vectorization."
   ]
  },
  {
   "cell_type": "markdown",
   "id": "586a3f01",
   "metadata": {},
   "source": [
    "---\n",
    "\n",
    "# Question 3: Employ a Decision Tree Classifier in this Dataset:\n",
    "\n",
    "---"
   ]
  },
  {
   "cell_type": "markdown",
   "id": "6c43126f",
   "metadata": {},
   "source": [
    "## Question 3 - Part A:\n",
    "\n",
    "Fit a decision tree model to this data. What is the accuracy score on the test set?"
   ]
  },
  {
   "cell_type": "markdown",
   "id": "05770316",
   "metadata": {},
   "source": [
    "**1. Import, Instantiate, Fit, and Retrieve Accuracy Score:** To fit a decision tree model to the data, I imported the `DecisionTreeClassifier`, instantiated the model with an unbounded depth to see how the accuracy score would be. I then fit the model to the X_train and y_train, and scored the test set."
   ]
  },
  {
   "cell_type": "code",
   "execution_count": 30,
   "id": "ae74a0cf",
   "metadata": {},
   "outputs": [
    {
     "name": "stdout",
     "output_type": "stream",
     "text": [
      "The train set accuracy score is: 1.0\n",
      "The test set accuracy score is: 0.6976798687602531\n"
     ]
    }
   ],
   "source": [
    "# Import Decision Tree Classifier\n",
    "from sklearn.tree import DecisionTreeClassifier\n",
    "\n",
    "# Instantiate and Fit the Model with unbounded max_depth\n",
    "DT_model = DecisionTreeClassifier(random_state=1)\n",
    "DT_model.fit(X_train, y_train)\n",
    "\n",
    "# Accuracy Score\n",
    "print(f\"The train set accuracy score is: {DT_model.score(X_train, y_train)}\")\n",
    "print(f\"The test set accuracy score is: {DT_model.score(X_test, y_test)}\")"
   ]
  },
  {
   "cell_type": "markdown",
   "id": "a04bb7b9",
   "metadata": {},
   "source": [
    "**The accuracy score on the test set is 69.77%.** The accuracy score on the train set is 100%. The difference between the accuracy scores indicate that there is over-fitting happening."
   ]
  },
  {
   "cell_type": "markdown",
   "id": "a91428db",
   "metadata": {},
   "source": [
    "|Model Type || Accuracy Score on the Test Set || \n",
    "|-|-|--------------------||\n",
    "|**Logistic Regression without PCA**||78.11%||\n",
    "|**Logistic Regression with PCA**|| 78.18% || \n",
    "|**KNN with default number of observations (5)**||63.67%||\n",
    "|**KNN with number of observations of 3**||63.21%||\n",
    "|**KNN with optimal value for K=19**||65.95%||\n",
    "|**Decision Tree with unbounded depth**||69.77%||"
   ]
  },
  {
   "cell_type": "markdown",
   "id": "3d8ea713",
   "metadata": {},
   "source": [
    "## Question 3 - Part B:\n",
    "\n",
    "Use the data set (or a subsample) to find an optimal value for the maximum depth of the decision tree. You will need to split your data set into train and validation."
   ]
  },
  {
   "cell_type": "markdown",
   "id": "1e4268f6",
   "metadata": {},
   "source": [
    "To find an optimal value for the maximum depth of the decision tree, I created a for loop with a range of 1 to 20 for the max_depth. Each value from 1 to 20 was fit to the decision tree classifier model and the accuracy score for each depth was put in a list to compare what depth provided the best accuracy score for both the test and validation sets."
   ]
  },
  {
   "cell_type": "code",
   "execution_count": 31,
   "id": "6967bf66",
   "metadata": {},
   "outputs": [
    {
     "data": {
      "image/png": "[encoded data removed]",
      "text/plain": [
       "<Figure size 720x360 with 1 Axes>"
      ]
     },
     "metadata": {
      "needs_background": "light"
     },
     "output_type": "display_data"
    }
   ],
   "source": [
    "# Created empty lists for the validation and train accuracy scores\n",
    "validation_scores = []\n",
    "train_scores = []\n",
    "\n",
    "# Range from 1 to 20 for the max_depth\n",
    "max_depth_values = range(1,20)\n",
    "\n",
    "# for loop for the decision tree classifier\n",
    "for depth in max_depth_values:\n",
    "    \n",
    "    DT_model = DecisionTreeClassifier(max_depth=depth,random_state=1)\n",
    "    \n",
    "    # Used the already created train and validation sets to fit and score the model \n",
    "    DT_model.fit(X_train_new, y_train_new)\n",
    "    \n",
    "    validation_scores.append(DT_model.score(X_validation, y_validation))\n",
    "    train_scores.append(DT_model.score(X_train_new, y_train_new))\n",
    "\n",
    "# Plot the train and validation scores\n",
    "plt.figure(figsize=(10,5))\n",
    "plt.plot(max_depth_values, train_scores, label='Train Scores', marker='.')\n",
    "plt.plot(max_depth_values, validation_scores, label='Validation Scores', marker='.')\n",
    "plt.legend()\n",
    "plt.title('Decision Tree: Train and Validation Accuracy Based on max_depth')\n",
    "plt.xlabel('max_depth')\n",
    "plt.ylabel('Accuracy Score')\n",
    "plt.grid()\n",
    "plt.show()"
   ]
  },
  {
   "cell_type": "markdown",
   "id": "96eda69e",
   "metadata": {},
   "source": [
    "By visually inspecting the plot, the `max_depth` of 5 has the highest validation score without over-fitting. After a max_depth of 5, the validation accuracy score starts to decrease.\n",
    "\n",
    "Next, I fitted the model with the optimal `max_depth`:"
   ]
  },
  {
   "cell_type": "code",
   "execution_count": 32,
   "id": "c20e0721",
   "metadata": {},
   "outputs": [
    {
     "data": {
      "text/plain": [
       "0.739629716428404"
      ]
     },
     "execution_count": 32,
     "metadata": {},
     "output_type": "execute_result"
    }
   ],
   "source": [
    "final_DT_model = DecisionTreeClassifier(max_depth=5,random_state=1)\n",
    "final_DT_model.fit(X_train,y_train)\n",
    "\n",
    "final_DT_model.score(X_test, y_test)"
   ]
  },
  {
   "cell_type": "markdown",
   "id": "3dbab8d0",
   "metadata": {},
   "source": [
    "**The accuracy test score for the optimal value for the maximum depth is 73.96% which is better than the original Decision Tree model that had an accuracy score of 69.77%.**"
   ]
  },
  {
   "cell_type": "markdown",
   "id": "4d1e55b3",
   "metadata": {},
   "source": [
    "|Model Type || Accuracy Score on the Test Set || \n",
    "|-|-|--------------------||\n",
    "|**Logistic Regression without PCA**||78.11%||\n",
    "|**Logistic Regression with PCA**|| 78.18% || \n",
    "|**KNN with default number of observations (5)**||63.67%||\n",
    "|**KNN with number of observations of 3**||63.21%||\n",
    "|**KNN with optimal value for K=19**||65.95%||\n",
    "|**Decision Tree with unbounded depth**||69.77%||\n",
    "|**Decision Tree with optimal value for depth (5)**||73.96%||"
   ]
  },
  {
   "cell_type": "markdown",
   "id": "2ec2f4ee",
   "metadata": {},
   "source": [
    "## Question 3 - Part C:\n",
    "\n",
    "Provide two advantages of decision trees over KNN. Provide two weaknesses of decision trees (classification or regression trees)"
   ]
  },
  {
   "cell_type": "markdown",
   "id": "87b641f7",
   "metadata": {},
   "source": [
    "**Advantages of Decision Trees over KNN:**\n",
    "1. KNN is computationally intensive since it tries to remember each point in the dataset, it is slow with large datasets when it comes to making predictions. In this regard, Decision Trees are faster.\n",
    "\n",
    "\n",
    "2. Decision Trees don't need the data scaled or normalized but KNN needs the data to be normalized/scaled since it tries to remember each point in the dataset prior to prediction, but that is not the case with Decision Trees because they look at the features one at a time, not all together like KNN.\n",
    "\n",
    "\n",
    "**Weaknesses of Decision Trees:**\n",
    "1. Decision Tree is very sensitive to the dataset. A minor change in the data can result in significantly different outcome in prediction.\n",
    "\n",
    "\n",
    "2. It is prone to over-fitting, as the size of the decision tree increases, the higher the chance of over-fitting."
   ]
  },
  {
   "cell_type": "markdown",
   "id": "a5c1240e",
   "metadata": {},
   "source": [
    "---\n",
    "\n",
    "# Question 4: What is the purpose of the validation set, i.e., how is it different than the test set?\n",
    "\n",
    "---"
   ]
  },
  {
   "cell_type": "markdown",
   "id": "b7854e1d",
   "metadata": {},
   "source": [
    "The purpose of the validation set is to optimize hyper-parameters, to try different parameters (i.e, different number of observations, regularization penalties, etc.) that can be used to optimize the model, without exposing the test set (which should be unseen by the model). \n",
    "\n",
    "It's different from the test set because the hyper-parameters are fine tuned using the validation set. The test set is used as a final test of the model, after the test set has been exposed to the model, changes to the model or fine tuning of the parameters used in the model can't be changed. The validation set is the dataset used to provide the most optimal model possible by tuning the model's hyper-parameters, prior to the final testing using the test set."
   ]
  },
  {
   "cell_type": "markdown",
   "id": "aba9807e",
   "metadata": {},
   "source": [
    "---\n",
    "\n",
    "# Question 5: Re-run a decision tree or logistic regression on the data again:\n",
    "\n",
    "---"
   ]
  },
  {
   "cell_type": "markdown",
   "id": "528e2b29",
   "metadata": {},
   "source": [
    "## Question 5 - Part A:\n",
    "\n",
    "Perform a 5-fold cross validation to optimize the hyperparameters of your model."
   ]
  },
  {
   "cell_type": "markdown",
   "id": "fb938c99",
   "metadata": {},
   "source": [
    "To perform a 5-fold cross validation, I imported the `cross_val_score` from the `sklearn.model_selection` package. Since a logistic regression model will be run, I also did a for loop to find the best C-value to use for the model based on the highest cross validation score."
   ]
  },
  {
   "cell_type": "code",
   "execution_count": 33,
   "id": "69ed72e4",
   "metadata": {},
   "outputs": [
    {
     "data": {
      "image/png": "[encoded data removed]",
      "text/plain": [
       "<Figure size 720x360 with 1 Axes>"
      ]
     },
     "metadata": {
      "needs_background": "light"
     },
     "output_type": "display_data"
    },
    {
     "name": "stdout",
     "output_type": "stream",
     "text": [
      "The best model has C = 0.001\n"
     ]
    }
   ],
   "source": [
    "# Import cross_val_score\n",
    "from sklearn.model_selection import cross_val_score\n",
    "\n",
    "# Create range for C-value\n",
    "C_range = np.logspace(start=-5, stop=5, num=11, base=10)\n",
    "\n",
    "# List to put in the cross validation scores\n",
    "cross_validation_scores = []\n",
    "\n",
    "# For loop to find the optimal C-value\n",
    "for c in C_range:\n",
    "    \n",
    "    # Instantiate the model\n",
    "    fold_logreg = LogisticRegression(C=c,random_state=1)\n",
    "    \n",
    "    # calculation to get the cross validation score which is the mean of scores from all the folds\n",
    "    scores = np.mean(cross_val_score(fold_logreg, X_train, y_train, cv=5))\n",
    "    \n",
    "    # append the scores to the list above\n",
    "    cross_validation_scores.append(scores)\n",
    "\n",
    "# Plot the cross validation scores and the C-values\n",
    "plt.figure(figsize=(10,5))\n",
    "plt.plot(C_range, cross_validation_scores, label=\"Cross Validation Score\", marker='.')\n",
    "plt.legend()\n",
    "plt.xscale(\"log\")\n",
    "plt.xlabel(\"Regularization Parameter: C\")\n",
    "plt.ylabel(\"Cross Validation Score\")\n",
    "plt.grid()\n",
    "plt.show()\n",
    "\n",
    "\n",
    "# Print out the C-value with the highest cross validation score\n",
    "max_score = np.array(cross_validation_scores).argmax()\n",
    "\n",
    "print(f\"The best model has C = {C_range[max_score]}\")"
   ]
  },
  {
   "cell_type": "markdown",
   "id": "b151f495",
   "metadata": {},
   "source": [
    "C=0.001 has the highest cross validation score. I ran the Logistic Regression model again with this C-value, and scored it on the test set."
   ]
  },
  {
   "cell_type": "code",
   "execution_count": 34,
   "id": "26de979f",
   "metadata": {},
   "outputs": [
    {
     "data": {
      "text/plain": [
       "LogisticRegression(C=0.001)"
      ]
     },
     "execution_count": 34,
     "metadata": {},
     "output_type": "execute_result"
    }
   ],
   "source": [
    "final_logreg = LogisticRegression(C=0.001)\n",
    "final_logreg.fit(X_train, y_train)"
   ]
  },
  {
   "cell_type": "code",
   "execution_count": 35,
   "id": "41bc6bd0",
   "metadata": {},
   "outputs": [
    {
     "data": {
      "text/plain": [
       "0.777595500351535"
      ]
     },
     "execution_count": 35,
     "metadata": {},
     "output_type": "execute_result"
    }
   ],
   "source": [
    "final_logreg.score(X_test, y_test)"
   ]
  },
  {
   "cell_type": "markdown",
   "id": "003dd600",
   "metadata": {},
   "source": [
    "**The accuracy score on the test set is 77.76%**"
   ]
  },
  {
   "cell_type": "markdown",
   "id": "67485a3e",
   "metadata": {},
   "source": [
    "|Model Type || Accuracy Score on the Test Set || \n",
    "|-|-|--------------------||\n",
    "|**Logistic Regression without PCA**||78.11%||\n",
    "|**Logistic Regression with PCA**|| 78.18% || \n",
    "|**KNN with default number of observations (5)**||63.67%||\n",
    "|**KNN with number of observations of 3**||63.21%||\n",
    "|**KNN with optimal value for K=19**||65.95%||\n",
    "|**Decision Tree with unbounded depth**||69.77%||\n",
    "|**Decision Tree with optimal value for depth (5)**||73.96%||\n",
    "|**Logistic Regression after using cross validation**||77.76%||"
   ]
  },
  {
   "cell_type": "markdown",
   "id": "1486eaaa",
   "metadata": {},
   "source": [
    "## Question 5 - Part B:\n",
    "\n",
    "What does your confusion matrix look like for your best model on the test set?"
   ]
  },
  {
   "cell_type": "markdown",
   "id": "4be98924",
   "metadata": {},
   "source": [
    "To get the confusion matrix, I used the `confusion_matrix` function in the metrics module of sklearn. Since the best model on the test set is Logistic Regression with PCA, I used that model to get class predictions, I then used the predictions to create the matrix using `confusion_matrix`.\n",
    "\n",
    "The confusion matrix is named first with Predicted Class 0, then Predicted Class 1, which in this case is Predicted Not Good and then Predicted Good. The indexes are named the same with True Class 0, then True Class 1."
   ]
  },
  {
   "cell_type": "code",
   "execution_count": 36,
   "id": "bdd67526",
   "metadata": {},
   "outputs": [
    {
     "data": {
      "text/html": [
       "<div>\n",
       "<style scoped>\n",
       "    .dataframe tbody tr th:only-of-type {\n",
       "        vertical-align: middle;\n",
       "    }\n",
       "\n",
       "    .dataframe tbody tr th {\n",
       "        vertical-align: top;\n",
       "    }\n",
       "\n",
       "    .dataframe thead th {\n",
       "        text-align: right;\n",
       "    }\n",
       "</style>\n",
       "<table border=\"1\" class=\"dataframe\">\n",
       "  <thead>\n",
       "    <tr style=\"text-align: right;\">\n",
       "      <th></th>\n",
       "      <th>Predicted Not Good</th>\n",
       "      <th>Predicted Good</th>\n",
       "    </tr>\n",
       "  </thead>\n",
       "  <tbody>\n",
       "    <tr>\n",
       "      <th>True Not Good</th>\n",
       "      <td>1159</td>\n",
       "      <td>650</td>\n",
       "    </tr>\n",
       "    <tr>\n",
       "      <th>True Good</th>\n",
       "      <td>281</td>\n",
       "      <td>2177</td>\n",
       "    </tr>\n",
       "  </tbody>\n",
       "</table>\n",
       "</div>"
      ],
      "text/plain": [
       "               Predicted Not Good  Predicted Good\n",
       "True Not Good                1159             650\n",
       "True Good                     281            2177"
      ]
     },
     "metadata": {},
     "output_type": "display_data"
    }
   ],
   "source": [
    "# Import confusion_matrix\n",
    "from sklearn.metrics import confusion_matrix\n",
    "\n",
    "# Get the class predictions for the ratings\n",
    "y_pred = log_reg_model_PCA.predict(X_test_PCA)\n",
    "\n",
    "# Use the class predictions to create the confusion matrix\n",
    "confusion_matrix = confusion_matrix(y_test, y_pred)\n",
    "\n",
    "# Put the confusion matrix in a dataframe\n",
    "# Columns and Index is named starting from Class 0\n",
    "confusion_df = pd.DataFrame(confusion_matrix,\n",
    "                           columns=[\"Predicted Not Good\", \"Predicted Good\"],\n",
    "                           index=[\"True Not Good\", \"True Good\"])\n",
    "\n",
    "# Display the confusion matrix in the dataframe\n",
    "display(confusion_df)"
   ]
  },
  {
   "cell_type": "markdown",
   "id": "83a450f9",
   "metadata": {},
   "source": [
    "The confusion matrix shows that 1,159 reviews in the test set was predicted as not good (rating class of 0) and was actually true not good, hence a \"True Negative\". 650 reviews were predicted as good reviews (rating class of 1), but were truly not good reviews, resulting in a \"False Positive\". 281 reviews were predicted as not good, but were actually true good. 2,177 reviews were predicted as having good ratings, and were truly good ratings.\n",
    "\n",
    "This means that 281 reviews were misclassified as having a bad rating, when it was actually a good rating. While, 650 reviews were misclassified as having a good rating, when it was actually a bad rating. Overall, majority of the reviews were predicted correctly."
   ]
  },
  {
   "cell_type": "markdown",
   "id": "fd061c41",
   "metadata": {},
   "source": [
    "---\n",
    "\n",
    "# Question 6: Create one new feature of your choice:\n",
    "\n",
    "---"
   ]
  },
  {
   "cell_type": "markdown",
   "id": "2784cbca",
   "metadata": {},
   "source": [
    "## Question 6 - Part A:\n",
    "\n",
    "Explain your new feature and why you consider it will improve accuracy."
   ]
  },
  {
   "cell_type": "markdown",
   "id": "37a101be",
   "metadata": {},
   "source": [
    "The new feature that I added was a categorical column indicating if the total positive word counts was greater than the total negative word counts in the review. Logically, if the total number of positive word counts outweigh the total number of negative word counts, it would arguably mean that the experience at the hotel was more pleasant than unpleasant, equating to a good rating. This way, 2 features will be considered in this new feature.\n",
    "\n",
    "To add this new feature, I first made a copy of the original train dataset:"
   ]
  },
  {
   "cell_type": "code",
   "execution_count": 37,
   "id": "f5ab4c9e",
   "metadata": {
    "scrolled": true
   },
   "outputs": [
    {
     "data": {
      "text/html": [
       "<div>\n",
       "<style scoped>\n",
       "    .dataframe tbody tr th:only-of-type {\n",
       "        vertical-align: middle;\n",
       "    }\n",
       "\n",
       "    .dataframe tbody tr th {\n",
       "        vertical-align: top;\n",
       "    }\n",
       "\n",
       "    .dataframe thead th {\n",
       "        text-align: right;\n",
       "    }\n",
       "</style>\n",
       "<table border=\"1\" class=\"dataframe\">\n",
       "  <thead>\n",
       "    <tr style=\"text-align: right;\">\n",
       "      <th></th>\n",
       "      <th>Additional_Number_of_Scoring</th>\n",
       "      <th>Average_Score</th>\n",
       "      <th>Review_Total_Negative_Word_Counts</th>\n",
       "      <th>Total_Number_of_Reviews</th>\n",
       "      <th>Review_Total_Positive_Word_Counts</th>\n",
       "      <th>Total_Number_of_Reviews_Reviewer_Has_Given</th>\n",
       "      <th>days_since_review</th>\n",
       "      <th>lat</th>\n",
       "      <th>lng</th>\n",
       "      <th>weekday_of_review</th>\n",
       "      <th>...</th>\n",
       "      <th>n_worry</th>\n",
       "      <th>n_worth</th>\n",
       "      <th>n_would</th>\n",
       "      <th>n_write</th>\n",
       "      <th>n_wrong</th>\n",
       "      <th>n_year</th>\n",
       "      <th>n_yes</th>\n",
       "      <th>n_yet</th>\n",
       "      <th>n_young</th>\n",
       "      <th>rating</th>\n",
       "    </tr>\n",
       "  </thead>\n",
       "  <tbody>\n",
       "    <tr>\n",
       "      <th>0</th>\n",
       "      <td>620</td>\n",
       "      <td>9.0</td>\n",
       "      <td>0</td>\n",
       "      <td>1974</td>\n",
       "      <td>164</td>\n",
       "      <td>1</td>\n",
       "      <td>562</td>\n",
       "      <td>51.506558</td>\n",
       "      <td>-0.004514</td>\n",
       "      <td>1</td>\n",
       "      <td>...</td>\n",
       "      <td>0</td>\n",
       "      <td>0</td>\n",
       "      <td>0</td>\n",
       "      <td>0</td>\n",
       "      <td>0</td>\n",
       "      <td>0</td>\n",
       "      <td>0</td>\n",
       "      <td>0</td>\n",
       "      <td>0</td>\n",
       "      <td>1</td>\n",
       "    </tr>\n",
       "    <tr>\n",
       "      <th>1</th>\n",
       "      <td>1258</td>\n",
       "      <td>9.4</td>\n",
       "      <td>6</td>\n",
       "      <td>4204</td>\n",
       "      <td>4</td>\n",
       "      <td>5</td>\n",
       "      <td>276</td>\n",
       "      <td>51.502435</td>\n",
       "      <td>-0.000250</td>\n",
       "      <td>0</td>\n",
       "      <td>...</td>\n",
       "      <td>0</td>\n",
       "      <td>0</td>\n",
       "      <td>0</td>\n",
       "      <td>0</td>\n",
       "      <td>0</td>\n",
       "      <td>0</td>\n",
       "      <td>0</td>\n",
       "      <td>0</td>\n",
       "      <td>0</td>\n",
       "      <td>1</td>\n",
       "    </tr>\n",
       "    <tr>\n",
       "      <th>2</th>\n",
       "      <td>995</td>\n",
       "      <td>8.1</td>\n",
       "      <td>2</td>\n",
       "      <td>3826</td>\n",
       "      <td>38</td>\n",
       "      <td>1</td>\n",
       "      <td>129</td>\n",
       "      <td>51.504348</td>\n",
       "      <td>-0.033444</td>\n",
       "      <td>0</td>\n",
       "      <td>...</td>\n",
       "      <td>0</td>\n",
       "      <td>0</td>\n",
       "      <td>0</td>\n",
       "      <td>0</td>\n",
       "      <td>0</td>\n",
       "      <td>0</td>\n",
       "      <td>0</td>\n",
       "      <td>0</td>\n",
       "      <td>0</td>\n",
       "      <td>1</td>\n",
       "    </tr>\n",
       "    <tr>\n",
       "      <th>3</th>\n",
       "      <td>853</td>\n",
       "      <td>8.4</td>\n",
       "      <td>7</td>\n",
       "      <td>2726</td>\n",
       "      <td>10</td>\n",
       "      <td>10</td>\n",
       "      <td>164</td>\n",
       "      <td>51.507377</td>\n",
       "      <td>0.038657</td>\n",
       "      <td>0</td>\n",
       "      <td>...</td>\n",
       "      <td>0</td>\n",
       "      <td>0</td>\n",
       "      <td>0</td>\n",
       "      <td>0</td>\n",
       "      <td>0</td>\n",
       "      <td>0</td>\n",
       "      <td>0</td>\n",
       "      <td>0</td>\n",
       "      <td>0</td>\n",
       "      <td>0</td>\n",
       "    </tr>\n",
       "    <tr>\n",
       "      <th>4</th>\n",
       "      <td>1243</td>\n",
       "      <td>8.1</td>\n",
       "      <td>11</td>\n",
       "      <td>6608</td>\n",
       "      <td>8</td>\n",
       "      <td>69</td>\n",
       "      <td>639</td>\n",
       "      <td>51.513556</td>\n",
       "      <td>-0.180002</td>\n",
       "      <td>1</td>\n",
       "      <td>...</td>\n",
       "      <td>0</td>\n",
       "      <td>0</td>\n",
       "      <td>0</td>\n",
       "      <td>0</td>\n",
       "      <td>0</td>\n",
       "      <td>0</td>\n",
       "      <td>0</td>\n",
       "      <td>0</td>\n",
       "      <td>0</td>\n",
       "      <td>0</td>\n",
       "    </tr>\n",
       "  </tbody>\n",
       "</table>\n",
       "<p>5 rows × 2744 columns</p>\n",
       "</div>"
      ],
      "text/plain": [
       "   Additional_Number_of_Scoring  Average_Score  \\\n",
       "0                           620            9.0   \n",
       "1                          1258            9.4   \n",
       "2                           995            8.1   \n",
       "3                           853            8.4   \n",
       "4                          1243            8.1   \n",
       "\n",
       "   Review_Total_Negative_Word_Counts  Total_Number_of_Reviews  \\\n",
       "0                                  0                     1974   \n",
       "1                                  6                     4204   \n",
       "2                                  2                     3826   \n",
       "3                                  7                     2726   \n",
       "4                                 11                     6608   \n",
       "\n",
       "   Review_Total_Positive_Word_Counts  \\\n",
       "0                                164   \n",
       "1                                  4   \n",
       "2                                 38   \n",
       "3                                 10   \n",
       "4                                  8   \n",
       "\n",
       "   Total_Number_of_Reviews_Reviewer_Has_Given  days_since_review        lat  \\\n",
       "0                                           1                562  51.506558   \n",
       "1                                           5                276  51.502435   \n",
       "2                                           1                129  51.504348   \n",
       "3                                          10                164  51.507377   \n",
       "4                                          69                639  51.513556   \n",
       "\n",
       "        lng  weekday_of_review  ...  n_worry  n_worth  n_would  n_write  \\\n",
       "0 -0.004514                  1  ...        0        0        0        0   \n",
       "1 -0.000250                  0  ...        0        0        0        0   \n",
       "2 -0.033444                  0  ...        0        0        0        0   \n",
       "3  0.038657                  0  ...        0        0        0        0   \n",
       "4 -0.180002                  1  ...        0        0        0        0   \n",
       "\n",
       "   n_wrong  n_year  n_yes  n_yet  n_young  rating  \n",
       "0        0       0      0      0        0       1  \n",
       "1        0       0      0      0        0       1  \n",
       "2        0       0      0      0        0       1  \n",
       "3        0       0      0      0        0       0  \n",
       "4        0       0      0      0        0       0  \n",
       "\n",
       "[5 rows x 2744 columns]"
      ]
     },
     "execution_count": 37,
     "metadata": {},
     "output_type": "execute_result"
    }
   ],
   "source": [
    "# Made a copy of the original train dataset\n",
    "feature_testing_train_df = train_df.copy()\n",
    "feature_testing_test_df = test_df.copy()\n",
    "\n",
    "# Check to make sure it worked\n",
    "feature_testing_train_df.head()"
   ]
  },
  {
   "cell_type": "code",
   "execution_count": 38,
   "id": "90dbe287",
   "metadata": {},
   "outputs": [
    {
     "data": {
      "text/html": [
       "<div>\n",
       "<style scoped>\n",
       "    .dataframe tbody tr th:only-of-type {\n",
       "        vertical-align: middle;\n",
       "    }\n",
       "\n",
       "    .dataframe tbody tr th {\n",
       "        vertical-align: top;\n",
       "    }\n",
       "\n",
       "    .dataframe thead th {\n",
       "        text-align: right;\n",
       "    }\n",
       "</style>\n",
       "<table border=\"1\" class=\"dataframe\">\n",
       "  <thead>\n",
       "    <tr style=\"text-align: right;\">\n",
       "      <th></th>\n",
       "      <th>Additional_Number_of_Scoring</th>\n",
       "      <th>Average_Score</th>\n",
       "      <th>Review_Total_Negative_Word_Counts</th>\n",
       "      <th>Total_Number_of_Reviews</th>\n",
       "      <th>Review_Total_Positive_Word_Counts</th>\n",
       "      <th>Total_Number_of_Reviews_Reviewer_Has_Given</th>\n",
       "      <th>days_since_review</th>\n",
       "      <th>lat</th>\n",
       "      <th>lng</th>\n",
       "      <th>weekday_of_review</th>\n",
       "      <th>...</th>\n",
       "      <th>n_worry</th>\n",
       "      <th>n_worth</th>\n",
       "      <th>n_would</th>\n",
       "      <th>n_write</th>\n",
       "      <th>n_wrong</th>\n",
       "      <th>n_year</th>\n",
       "      <th>n_yes</th>\n",
       "      <th>n_yet</th>\n",
       "      <th>n_young</th>\n",
       "      <th>rating</th>\n",
       "    </tr>\n",
       "  </thead>\n",
       "  <tbody>\n",
       "    <tr>\n",
       "      <th>0</th>\n",
       "      <td>1005</td>\n",
       "      <td>8.3</td>\n",
       "      <td>0</td>\n",
       "      <td>3469</td>\n",
       "      <td>6</td>\n",
       "      <td>2</td>\n",
       "      <td>297</td>\n",
       "      <td>51.559096</td>\n",
       "      <td>-0.284704</td>\n",
       "      <td>0</td>\n",
       "      <td>...</td>\n",
       "      <td>0</td>\n",
       "      <td>0</td>\n",
       "      <td>0</td>\n",
       "      <td>0</td>\n",
       "      <td>0</td>\n",
       "      <td>0</td>\n",
       "      <td>0</td>\n",
       "      <td>0</td>\n",
       "      <td>0</td>\n",
       "      <td>0</td>\n",
       "    </tr>\n",
       "    <tr>\n",
       "      <th>1</th>\n",
       "      <td>487</td>\n",
       "      <td>8.8</td>\n",
       "      <td>46</td>\n",
       "      <td>1805</td>\n",
       "      <td>121</td>\n",
       "      <td>1</td>\n",
       "      <td>4</td>\n",
       "      <td>51.474469</td>\n",
       "      <td>-0.019428</td>\n",
       "      <td>6</td>\n",
       "      <td>...</td>\n",
       "      <td>0</td>\n",
       "      <td>0</td>\n",
       "      <td>0</td>\n",
       "      <td>0</td>\n",
       "      <td>0</td>\n",
       "      <td>0</td>\n",
       "      <td>0</td>\n",
       "      <td>0</td>\n",
       "      <td>0</td>\n",
       "      <td>1</td>\n",
       "    </tr>\n",
       "    <tr>\n",
       "      <th>2</th>\n",
       "      <td>570</td>\n",
       "      <td>9.3</td>\n",
       "      <td>0</td>\n",
       "      <td>2319</td>\n",
       "      <td>9</td>\n",
       "      <td>1</td>\n",
       "      <td>590</td>\n",
       "      <td>51.505696</td>\n",
       "      <td>-0.101525</td>\n",
       "      <td>1</td>\n",
       "      <td>...</td>\n",
       "      <td>0</td>\n",
       "      <td>0</td>\n",
       "      <td>0</td>\n",
       "      <td>0</td>\n",
       "      <td>0</td>\n",
       "      <td>0</td>\n",
       "      <td>0</td>\n",
       "      <td>0</td>\n",
       "      <td>0</td>\n",
       "      <td>1</td>\n",
       "    </tr>\n",
       "    <tr>\n",
       "      <th>3</th>\n",
       "      <td>2623</td>\n",
       "      <td>8.7</td>\n",
       "      <td>19</td>\n",
       "      <td>12158</td>\n",
       "      <td>0</td>\n",
       "      <td>2</td>\n",
       "      <td>269</td>\n",
       "      <td>51.500961</td>\n",
       "      <td>-0.116591</td>\n",
       "      <td>0</td>\n",
       "      <td>...</td>\n",
       "      <td>0</td>\n",
       "      <td>0</td>\n",
       "      <td>0</td>\n",
       "      <td>0</td>\n",
       "      <td>0</td>\n",
       "      <td>0</td>\n",
       "      <td>0</td>\n",
       "      <td>0</td>\n",
       "      <td>0</td>\n",
       "      <td>0</td>\n",
       "    </tr>\n",
       "    <tr>\n",
       "      <th>4</th>\n",
       "      <td>365</td>\n",
       "      <td>8.1</td>\n",
       "      <td>13</td>\n",
       "      <td>1567</td>\n",
       "      <td>0</td>\n",
       "      <td>2</td>\n",
       "      <td>373</td>\n",
       "      <td>51.515125</td>\n",
       "      <td>-0.160066</td>\n",
       "      <td>1</td>\n",
       "      <td>...</td>\n",
       "      <td>0</td>\n",
       "      <td>0</td>\n",
       "      <td>0</td>\n",
       "      <td>0</td>\n",
       "      <td>0</td>\n",
       "      <td>0</td>\n",
       "      <td>0</td>\n",
       "      <td>0</td>\n",
       "      <td>0</td>\n",
       "      <td>0</td>\n",
       "    </tr>\n",
       "  </tbody>\n",
       "</table>\n",
       "<p>5 rows × 2744 columns</p>\n",
       "</div>"
      ],
      "text/plain": [
       "   Additional_Number_of_Scoring  Average_Score  \\\n",
       "0                          1005            8.3   \n",
       "1                           487            8.8   \n",
       "2                           570            9.3   \n",
       "3                          2623            8.7   \n",
       "4                           365            8.1   \n",
       "\n",
       "   Review_Total_Negative_Word_Counts  Total_Number_of_Reviews  \\\n",
       "0                                  0                     3469   \n",
       "1                                 46                     1805   \n",
       "2                                  0                     2319   \n",
       "3                                 19                    12158   \n",
       "4                                 13                     1567   \n",
       "\n",
       "   Review_Total_Positive_Word_Counts  \\\n",
       "0                                  6   \n",
       "1                                121   \n",
       "2                                  9   \n",
       "3                                  0   \n",
       "4                                  0   \n",
       "\n",
       "   Total_Number_of_Reviews_Reviewer_Has_Given  days_since_review        lat  \\\n",
       "0                                           2                297  51.559096   \n",
       "1                                           1                  4  51.474469   \n",
       "2                                           1                590  51.505696   \n",
       "3                                           2                269  51.500961   \n",
       "4                                           2                373  51.515125   \n",
       "\n",
       "        lng  weekday_of_review  ...  n_worry  n_worth  n_would  n_write  \\\n",
       "0 -0.284704                  0  ...        0        0        0        0   \n",
       "1 -0.019428                  6  ...        0        0        0        0   \n",
       "2 -0.101525                  1  ...        0        0        0        0   \n",
       "3 -0.116591                  0  ...        0        0        0        0   \n",
       "4 -0.160066                  1  ...        0        0        0        0   \n",
       "\n",
       "   n_wrong  n_year  n_yes  n_yet  n_young  rating  \n",
       "0        0       0      0      0        0       0  \n",
       "1        0       0      0      0        0       1  \n",
       "2        0       0      0      0        0       1  \n",
       "3        0       0      0      0        0       0  \n",
       "4        0       0      0      0        0       0  \n",
       "\n",
       "[5 rows x 2744 columns]"
      ]
     },
     "execution_count": 38,
     "metadata": {},
     "output_type": "execute_result"
    }
   ],
   "source": [
    "# Check to make sure it worked\n",
    "feature_testing_test_df.head()"
   ]
  },
  {
   "cell_type": "markdown",
   "id": "745193cc",
   "metadata": {},
   "source": [
    "I then created the new feature, `positive_over_negative` where if the total positive word counts in the review are greater than the total negative word counts in the review, it should be given a value of 1, indicating a good rating. If the positive word counts is not greater than the negative word counts, then the row should be given a value of 0, indicating a \"not good\" rating."
   ]
  },
  {
   "cell_type": "code",
   "execution_count": 39,
   "id": "ddd2c640",
   "metadata": {},
   "outputs": [
    {
     "data": {
      "text/html": [
       "<div>\n",
       "<style scoped>\n",
       "    .dataframe tbody tr th:only-of-type {\n",
       "        vertical-align: middle;\n",
       "    }\n",
       "\n",
       "    .dataframe tbody tr th {\n",
       "        vertical-align: top;\n",
       "    }\n",
       "\n",
       "    .dataframe thead th {\n",
       "        text-align: right;\n",
       "    }\n",
       "</style>\n",
       "<table border=\"1\" class=\"dataframe\">\n",
       "  <thead>\n",
       "    <tr style=\"text-align: right;\">\n",
       "      <th></th>\n",
       "      <th>Additional_Number_of_Scoring</th>\n",
       "      <th>Average_Score</th>\n",
       "      <th>Review_Total_Negative_Word_Counts</th>\n",
       "      <th>Total_Number_of_Reviews</th>\n",
       "      <th>Review_Total_Positive_Word_Counts</th>\n",
       "      <th>Total_Number_of_Reviews_Reviewer_Has_Given</th>\n",
       "      <th>days_since_review</th>\n",
       "      <th>lat</th>\n",
       "      <th>lng</th>\n",
       "      <th>weekday_of_review</th>\n",
       "      <th>...</th>\n",
       "      <th>n_worth</th>\n",
       "      <th>n_would</th>\n",
       "      <th>n_write</th>\n",
       "      <th>n_wrong</th>\n",
       "      <th>n_year</th>\n",
       "      <th>n_yes</th>\n",
       "      <th>n_yet</th>\n",
       "      <th>n_young</th>\n",
       "      <th>rating</th>\n",
       "      <th>positive_over_negative</th>\n",
       "    </tr>\n",
       "  </thead>\n",
       "  <tbody>\n",
       "    <tr>\n",
       "      <th>0</th>\n",
       "      <td>620</td>\n",
       "      <td>9.0</td>\n",
       "      <td>0</td>\n",
       "      <td>1974</td>\n",
       "      <td>164</td>\n",
       "      <td>1</td>\n",
       "      <td>562</td>\n",
       "      <td>51.506558</td>\n",
       "      <td>-0.004514</td>\n",
       "      <td>1</td>\n",
       "      <td>...</td>\n",
       "      <td>0</td>\n",
       "      <td>0</td>\n",
       "      <td>0</td>\n",
       "      <td>0</td>\n",
       "      <td>0</td>\n",
       "      <td>0</td>\n",
       "      <td>0</td>\n",
       "      <td>0</td>\n",
       "      <td>1</td>\n",
       "      <td>1</td>\n",
       "    </tr>\n",
       "    <tr>\n",
       "      <th>1</th>\n",
       "      <td>1258</td>\n",
       "      <td>9.4</td>\n",
       "      <td>6</td>\n",
       "      <td>4204</td>\n",
       "      <td>4</td>\n",
       "      <td>5</td>\n",
       "      <td>276</td>\n",
       "      <td>51.502435</td>\n",
       "      <td>-0.000250</td>\n",
       "      <td>0</td>\n",
       "      <td>...</td>\n",
       "      <td>0</td>\n",
       "      <td>0</td>\n",
       "      <td>0</td>\n",
       "      <td>0</td>\n",
       "      <td>0</td>\n",
       "      <td>0</td>\n",
       "      <td>0</td>\n",
       "      <td>0</td>\n",
       "      <td>1</td>\n",
       "      <td>0</td>\n",
       "    </tr>\n",
       "    <tr>\n",
       "      <th>2</th>\n",
       "      <td>995</td>\n",
       "      <td>8.1</td>\n",
       "      <td>2</td>\n",
       "      <td>3826</td>\n",
       "      <td>38</td>\n",
       "      <td>1</td>\n",
       "      <td>129</td>\n",
       "      <td>51.504348</td>\n",
       "      <td>-0.033444</td>\n",
       "      <td>0</td>\n",
       "      <td>...</td>\n",
       "      <td>0</td>\n",
       "      <td>0</td>\n",
       "      <td>0</td>\n",
       "      <td>0</td>\n",
       "      <td>0</td>\n",
       "      <td>0</td>\n",
       "      <td>0</td>\n",
       "      <td>0</td>\n",
       "      <td>1</td>\n",
       "      <td>1</td>\n",
       "    </tr>\n",
       "    <tr>\n",
       "      <th>3</th>\n",
       "      <td>853</td>\n",
       "      <td>8.4</td>\n",
       "      <td>7</td>\n",
       "      <td>2726</td>\n",
       "      <td>10</td>\n",
       "      <td>10</td>\n",
       "      <td>164</td>\n",
       "      <td>51.507377</td>\n",
       "      <td>0.038657</td>\n",
       "      <td>0</td>\n",
       "      <td>...</td>\n",
       "      <td>0</td>\n",
       "      <td>0</td>\n",
       "      <td>0</td>\n",
       "      <td>0</td>\n",
       "      <td>0</td>\n",
       "      <td>0</td>\n",
       "      <td>0</td>\n",
       "      <td>0</td>\n",
       "      <td>0</td>\n",
       "      <td>1</td>\n",
       "    </tr>\n",
       "    <tr>\n",
       "      <th>4</th>\n",
       "      <td>1243</td>\n",
       "      <td>8.1</td>\n",
       "      <td>11</td>\n",
       "      <td>6608</td>\n",
       "      <td>8</td>\n",
       "      <td>69</td>\n",
       "      <td>639</td>\n",
       "      <td>51.513556</td>\n",
       "      <td>-0.180002</td>\n",
       "      <td>1</td>\n",
       "      <td>...</td>\n",
       "      <td>0</td>\n",
       "      <td>0</td>\n",
       "      <td>0</td>\n",
       "      <td>0</td>\n",
       "      <td>0</td>\n",
       "      <td>0</td>\n",
       "      <td>0</td>\n",
       "      <td>0</td>\n",
       "      <td>0</td>\n",
       "      <td>0</td>\n",
       "    </tr>\n",
       "  </tbody>\n",
       "</table>\n",
       "<p>5 rows × 2745 columns</p>\n",
       "</div>"
      ],
      "text/plain": [
       "   Additional_Number_of_Scoring  Average_Score  \\\n",
       "0                           620            9.0   \n",
       "1                          1258            9.4   \n",
       "2                           995            8.1   \n",
       "3                           853            8.4   \n",
       "4                          1243            8.1   \n",
       "\n",
       "   Review_Total_Negative_Word_Counts  Total_Number_of_Reviews  \\\n",
       "0                                  0                     1974   \n",
       "1                                  6                     4204   \n",
       "2                                  2                     3826   \n",
       "3                                  7                     2726   \n",
       "4                                 11                     6608   \n",
       "\n",
       "   Review_Total_Positive_Word_Counts  \\\n",
       "0                                164   \n",
       "1                                  4   \n",
       "2                                 38   \n",
       "3                                 10   \n",
       "4                                  8   \n",
       "\n",
       "   Total_Number_of_Reviews_Reviewer_Has_Given  days_since_review        lat  \\\n",
       "0                                           1                562  51.506558   \n",
       "1                                           5                276  51.502435   \n",
       "2                                           1                129  51.504348   \n",
       "3                                          10                164  51.507377   \n",
       "4                                          69                639  51.513556   \n",
       "\n",
       "        lng  weekday_of_review  ...  n_worth  n_would  n_write  n_wrong  \\\n",
       "0 -0.004514                  1  ...        0        0        0        0   \n",
       "1 -0.000250                  0  ...        0        0        0        0   \n",
       "2 -0.033444                  0  ...        0        0        0        0   \n",
       "3  0.038657                  0  ...        0        0        0        0   \n",
       "4 -0.180002                  1  ...        0        0        0        0   \n",
       "\n",
       "   n_year  n_yes  n_yet  n_young  rating  positive_over_negative  \n",
       "0       0      0      0        0       1                       1  \n",
       "1       0      0      0        0       1                       0  \n",
       "2       0      0      0        0       1                       1  \n",
       "3       0      0      0        0       0                       1  \n",
       "4       0      0      0        0       0                       0  \n",
       "\n",
       "[5 rows x 2745 columns]"
      ]
     },
     "execution_count": 39,
     "metadata": {},
     "output_type": "execute_result"
    }
   ],
   "source": [
    "# Creation of new column\n",
    "feature_testing_train_df['positive_over_negative'] = np.where((feature_testing_train_df['Review_Total_Positive_Word_Counts'] > feature_testing_train_df['Review_Total_Negative_Word_Counts']), 1, 0)\n",
    "feature_testing_test_df['positive_over_negative'] = np.where((feature_testing_test_df['Review_Total_Positive_Word_Counts'] > feature_testing_test_df['Review_Total_Negative_Word_Counts']), 1, 0)\n",
    "\n",
    "# Check to make sure it worked\n",
    "feature_testing_train_df.head()"
   ]
  },
  {
   "cell_type": "code",
   "execution_count": 40,
   "id": "e2fba053",
   "metadata": {},
   "outputs": [
    {
     "data": {
      "text/html": [
       "<div>\n",
       "<style scoped>\n",
       "    .dataframe tbody tr th:only-of-type {\n",
       "        vertical-align: middle;\n",
       "    }\n",
       "\n",
       "    .dataframe tbody tr th {\n",
       "        vertical-align: top;\n",
       "    }\n",
       "\n",
       "    .dataframe thead th {\n",
       "        text-align: right;\n",
       "    }\n",
       "</style>\n",
       "<table border=\"1\" class=\"dataframe\">\n",
       "  <thead>\n",
       "    <tr style=\"text-align: right;\">\n",
       "      <th></th>\n",
       "      <th>Additional_Number_of_Scoring</th>\n",
       "      <th>Average_Score</th>\n",
       "      <th>Review_Total_Negative_Word_Counts</th>\n",
       "      <th>Total_Number_of_Reviews</th>\n",
       "      <th>Review_Total_Positive_Word_Counts</th>\n",
       "      <th>Total_Number_of_Reviews_Reviewer_Has_Given</th>\n",
       "      <th>days_since_review</th>\n",
       "      <th>lat</th>\n",
       "      <th>lng</th>\n",
       "      <th>weekday_of_review</th>\n",
       "      <th>...</th>\n",
       "      <th>n_worth</th>\n",
       "      <th>n_would</th>\n",
       "      <th>n_write</th>\n",
       "      <th>n_wrong</th>\n",
       "      <th>n_year</th>\n",
       "      <th>n_yes</th>\n",
       "      <th>n_yet</th>\n",
       "      <th>n_young</th>\n",
       "      <th>rating</th>\n",
       "      <th>positive_over_negative</th>\n",
       "    </tr>\n",
       "  </thead>\n",
       "  <tbody>\n",
       "    <tr>\n",
       "      <th>0</th>\n",
       "      <td>1005</td>\n",
       "      <td>8.3</td>\n",
       "      <td>0</td>\n",
       "      <td>3469</td>\n",
       "      <td>6</td>\n",
       "      <td>2</td>\n",
       "      <td>297</td>\n",
       "      <td>51.559096</td>\n",
       "      <td>-0.284704</td>\n",
       "      <td>0</td>\n",
       "      <td>...</td>\n",
       "      <td>0</td>\n",
       "      <td>0</td>\n",
       "      <td>0</td>\n",
       "      <td>0</td>\n",
       "      <td>0</td>\n",
       "      <td>0</td>\n",
       "      <td>0</td>\n",
       "      <td>0</td>\n",
       "      <td>0</td>\n",
       "      <td>1</td>\n",
       "    </tr>\n",
       "    <tr>\n",
       "      <th>1</th>\n",
       "      <td>487</td>\n",
       "      <td>8.8</td>\n",
       "      <td>46</td>\n",
       "      <td>1805</td>\n",
       "      <td>121</td>\n",
       "      <td>1</td>\n",
       "      <td>4</td>\n",
       "      <td>51.474469</td>\n",
       "      <td>-0.019428</td>\n",
       "      <td>6</td>\n",
       "      <td>...</td>\n",
       "      <td>0</td>\n",
       "      <td>0</td>\n",
       "      <td>0</td>\n",
       "      <td>0</td>\n",
       "      <td>0</td>\n",
       "      <td>0</td>\n",
       "      <td>0</td>\n",
       "      <td>0</td>\n",
       "      <td>1</td>\n",
       "      <td>1</td>\n",
       "    </tr>\n",
       "    <tr>\n",
       "      <th>2</th>\n",
       "      <td>570</td>\n",
       "      <td>9.3</td>\n",
       "      <td>0</td>\n",
       "      <td>2319</td>\n",
       "      <td>9</td>\n",
       "      <td>1</td>\n",
       "      <td>590</td>\n",
       "      <td>51.505696</td>\n",
       "      <td>-0.101525</td>\n",
       "      <td>1</td>\n",
       "      <td>...</td>\n",
       "      <td>0</td>\n",
       "      <td>0</td>\n",
       "      <td>0</td>\n",
       "      <td>0</td>\n",
       "      <td>0</td>\n",
       "      <td>0</td>\n",
       "      <td>0</td>\n",
       "      <td>0</td>\n",
       "      <td>1</td>\n",
       "      <td>1</td>\n",
       "    </tr>\n",
       "    <tr>\n",
       "      <th>3</th>\n",
       "      <td>2623</td>\n",
       "      <td>8.7</td>\n",
       "      <td>19</td>\n",
       "      <td>12158</td>\n",
       "      <td>0</td>\n",
       "      <td>2</td>\n",
       "      <td>269</td>\n",
       "      <td>51.500961</td>\n",
       "      <td>-0.116591</td>\n",
       "      <td>0</td>\n",
       "      <td>...</td>\n",
       "      <td>0</td>\n",
       "      <td>0</td>\n",
       "      <td>0</td>\n",
       "      <td>0</td>\n",
       "      <td>0</td>\n",
       "      <td>0</td>\n",
       "      <td>0</td>\n",
       "      <td>0</td>\n",
       "      <td>0</td>\n",
       "      <td>0</td>\n",
       "    </tr>\n",
       "    <tr>\n",
       "      <th>4</th>\n",
       "      <td>365</td>\n",
       "      <td>8.1</td>\n",
       "      <td>13</td>\n",
       "      <td>1567</td>\n",
       "      <td>0</td>\n",
       "      <td>2</td>\n",
       "      <td>373</td>\n",
       "      <td>51.515125</td>\n",
       "      <td>-0.160066</td>\n",
       "      <td>1</td>\n",
       "      <td>...</td>\n",
       "      <td>0</td>\n",
       "      <td>0</td>\n",
       "      <td>0</td>\n",
       "      <td>0</td>\n",
       "      <td>0</td>\n",
       "      <td>0</td>\n",
       "      <td>0</td>\n",
       "      <td>0</td>\n",
       "      <td>0</td>\n",
       "      <td>0</td>\n",
       "    </tr>\n",
       "  </tbody>\n",
       "</table>\n",
       "<p>5 rows × 2745 columns</p>\n",
       "</div>"
      ],
      "text/plain": [
       "   Additional_Number_of_Scoring  Average_Score  \\\n",
       "0                          1005            8.3   \n",
       "1                           487            8.8   \n",
       "2                           570            9.3   \n",
       "3                          2623            8.7   \n",
       "4                           365            8.1   \n",
       "\n",
       "   Review_Total_Negative_Word_Counts  Total_Number_of_Reviews  \\\n",
       "0                                  0                     3469   \n",
       "1                                 46                     1805   \n",
       "2                                  0                     2319   \n",
       "3                                 19                    12158   \n",
       "4                                 13                     1567   \n",
       "\n",
       "   Review_Total_Positive_Word_Counts  \\\n",
       "0                                  6   \n",
       "1                                121   \n",
       "2                                  9   \n",
       "3                                  0   \n",
       "4                                  0   \n",
       "\n",
       "   Total_Number_of_Reviews_Reviewer_Has_Given  days_since_review        lat  \\\n",
       "0                                           2                297  51.559096   \n",
       "1                                           1                  4  51.474469   \n",
       "2                                           1                590  51.505696   \n",
       "3                                           2                269  51.500961   \n",
       "4                                           2                373  51.515125   \n",
       "\n",
       "        lng  weekday_of_review  ...  n_worth  n_would  n_write  n_wrong  \\\n",
       "0 -0.284704                  0  ...        0        0        0        0   \n",
       "1 -0.019428                  6  ...        0        0        0        0   \n",
       "2 -0.101525                  1  ...        0        0        0        0   \n",
       "3 -0.116591                  0  ...        0        0        0        0   \n",
       "4 -0.160066                  1  ...        0        0        0        0   \n",
       "\n",
       "   n_year  n_yes  n_yet  n_young  rating  positive_over_negative  \n",
       "0       0      0      0        0       0                       1  \n",
       "1       0      0      0        0       1                       1  \n",
       "2       0      0      0        0       1                       1  \n",
       "3       0      0      0        0       0                       0  \n",
       "4       0      0      0        0       0                       0  \n",
       "\n",
       "[5 rows x 2745 columns]"
      ]
     },
     "execution_count": 40,
     "metadata": {},
     "output_type": "execute_result"
    }
   ],
   "source": [
    "# Check to make sure it worked\n",
    "feature_testing_test_df.head()"
   ]
  },
  {
   "cell_type": "markdown",
   "id": "1d95f4a2",
   "metadata": {},
   "source": [
    "Now that the new column has been created, I dropped the columns used to create the new feature to eliminate collinearity of the independent variables:"
   ]
  },
  {
   "cell_type": "code",
   "execution_count": 41,
   "id": "562b1d9a",
   "metadata": {},
   "outputs": [],
   "source": [
    "# Drop columns used to create the new feature\n",
    "feature_testing_train_df.drop(['Review_Total_Negative_Word_Counts', 'Review_Total_Positive_Word_Counts'], axis=1, inplace=True)\n",
    "feature_testing_test_df.drop(['Review_Total_Negative_Word_Counts', 'Review_Total_Positive_Word_Counts'], axis=1, inplace=True)"
   ]
  },
  {
   "cell_type": "code",
   "execution_count": 42,
   "id": "c9256139",
   "metadata": {
    "scrolled": true
   },
   "outputs": [
    {
     "data": {
      "text/html": [
       "<div>\n",
       "<style scoped>\n",
       "    .dataframe tbody tr th:only-of-type {\n",
       "        vertical-align: middle;\n",
       "    }\n",
       "\n",
       "    .dataframe tbody tr th {\n",
       "        vertical-align: top;\n",
       "    }\n",
       "\n",
       "    .dataframe thead th {\n",
       "        text-align: right;\n",
       "    }\n",
       "</style>\n",
       "<table border=\"1\" class=\"dataframe\">\n",
       "  <thead>\n",
       "    <tr style=\"text-align: right;\">\n",
       "      <th></th>\n",
       "      <th>Additional_Number_of_Scoring</th>\n",
       "      <th>Average_Score</th>\n",
       "      <th>Total_Number_of_Reviews</th>\n",
       "      <th>Total_Number_of_Reviews_Reviewer_Has_Given</th>\n",
       "      <th>days_since_review</th>\n",
       "      <th>lat</th>\n",
       "      <th>lng</th>\n",
       "      <th>weekday_of_review</th>\n",
       "      <th>month_of_review</th>\n",
       "      <th>year_of_review</th>\n",
       "      <th>...</th>\n",
       "      <th>n_worth</th>\n",
       "      <th>n_would</th>\n",
       "      <th>n_write</th>\n",
       "      <th>n_wrong</th>\n",
       "      <th>n_year</th>\n",
       "      <th>n_yes</th>\n",
       "      <th>n_yet</th>\n",
       "      <th>n_young</th>\n",
       "      <th>rating</th>\n",
       "      <th>positive_over_negative</th>\n",
       "    </tr>\n",
       "  </thead>\n",
       "  <tbody>\n",
       "    <tr>\n",
       "      <th>0</th>\n",
       "      <td>620</td>\n",
       "      <td>9.0</td>\n",
       "      <td>1974</td>\n",
       "      <td>1</td>\n",
       "      <td>562</td>\n",
       "      <td>51.506558</td>\n",
       "      <td>-0.004514</td>\n",
       "      <td>1</td>\n",
       "      <td>1</td>\n",
       "      <td>2016</td>\n",
       "      <td>...</td>\n",
       "      <td>0</td>\n",
       "      <td>0</td>\n",
       "      <td>0</td>\n",
       "      <td>0</td>\n",
       "      <td>0</td>\n",
       "      <td>0</td>\n",
       "      <td>0</td>\n",
       "      <td>0</td>\n",
       "      <td>1</td>\n",
       "      <td>1</td>\n",
       "    </tr>\n",
       "    <tr>\n",
       "      <th>1</th>\n",
       "      <td>1258</td>\n",
       "      <td>9.4</td>\n",
       "      <td>4204</td>\n",
       "      <td>5</td>\n",
       "      <td>276</td>\n",
       "      <td>51.502435</td>\n",
       "      <td>-0.000250</td>\n",
       "      <td>0</td>\n",
       "      <td>10</td>\n",
       "      <td>2016</td>\n",
       "      <td>...</td>\n",
       "      <td>0</td>\n",
       "      <td>0</td>\n",
       "      <td>0</td>\n",
       "      <td>0</td>\n",
       "      <td>0</td>\n",
       "      <td>0</td>\n",
       "      <td>0</td>\n",
       "      <td>0</td>\n",
       "      <td>1</td>\n",
       "      <td>0</td>\n",
       "    </tr>\n",
       "    <tr>\n",
       "      <th>2</th>\n",
       "      <td>995</td>\n",
       "      <td>8.1</td>\n",
       "      <td>3826</td>\n",
       "      <td>1</td>\n",
       "      <td>129</td>\n",
       "      <td>51.504348</td>\n",
       "      <td>-0.033444</td>\n",
       "      <td>0</td>\n",
       "      <td>3</td>\n",
       "      <td>2017</td>\n",
       "      <td>...</td>\n",
       "      <td>0</td>\n",
       "      <td>0</td>\n",
       "      <td>0</td>\n",
       "      <td>0</td>\n",
       "      <td>0</td>\n",
       "      <td>0</td>\n",
       "      <td>0</td>\n",
       "      <td>0</td>\n",
       "      <td>1</td>\n",
       "      <td>1</td>\n",
       "    </tr>\n",
       "    <tr>\n",
       "      <th>3</th>\n",
       "      <td>853</td>\n",
       "      <td>8.4</td>\n",
       "      <td>2726</td>\n",
       "      <td>10</td>\n",
       "      <td>164</td>\n",
       "      <td>51.507377</td>\n",
       "      <td>0.038657</td>\n",
       "      <td>0</td>\n",
       "      <td>2</td>\n",
       "      <td>2017</td>\n",
       "      <td>...</td>\n",
       "      <td>0</td>\n",
       "      <td>0</td>\n",
       "      <td>0</td>\n",
       "      <td>0</td>\n",
       "      <td>0</td>\n",
       "      <td>0</td>\n",
       "      <td>0</td>\n",
       "      <td>0</td>\n",
       "      <td>0</td>\n",
       "      <td>1</td>\n",
       "    </tr>\n",
       "    <tr>\n",
       "      <th>4</th>\n",
       "      <td>1243</td>\n",
       "      <td>8.1</td>\n",
       "      <td>6608</td>\n",
       "      <td>69</td>\n",
       "      <td>639</td>\n",
       "      <td>51.513556</td>\n",
       "      <td>-0.180002</td>\n",
       "      <td>1</td>\n",
       "      <td>11</td>\n",
       "      <td>2015</td>\n",
       "      <td>...</td>\n",
       "      <td>0</td>\n",
       "      <td>0</td>\n",
       "      <td>0</td>\n",
       "      <td>0</td>\n",
       "      <td>0</td>\n",
       "      <td>0</td>\n",
       "      <td>0</td>\n",
       "      <td>0</td>\n",
       "      <td>0</td>\n",
       "      <td>0</td>\n",
       "    </tr>\n",
       "  </tbody>\n",
       "</table>\n",
       "<p>5 rows × 2743 columns</p>\n",
       "</div>"
      ],
      "text/plain": [
       "   Additional_Number_of_Scoring  Average_Score  Total_Number_of_Reviews  \\\n",
       "0                           620            9.0                     1974   \n",
       "1                          1258            9.4                     4204   \n",
       "2                           995            8.1                     3826   \n",
       "3                           853            8.4                     2726   \n",
       "4                          1243            8.1                     6608   \n",
       "\n",
       "   Total_Number_of_Reviews_Reviewer_Has_Given  days_since_review        lat  \\\n",
       "0                                           1                562  51.506558   \n",
       "1                                           5                276  51.502435   \n",
       "2                                           1                129  51.504348   \n",
       "3                                          10                164  51.507377   \n",
       "4                                          69                639  51.513556   \n",
       "\n",
       "        lng  weekday_of_review  month_of_review  year_of_review  ...  n_worth  \\\n",
       "0 -0.004514                  1                1            2016  ...        0   \n",
       "1 -0.000250                  0               10            2016  ...        0   \n",
       "2 -0.033444                  0                3            2017  ...        0   \n",
       "3  0.038657                  0                2            2017  ...        0   \n",
       "4 -0.180002                  1               11            2015  ...        0   \n",
       "\n",
       "   n_would  n_write  n_wrong  n_year  n_yes  n_yet  n_young  rating  \\\n",
       "0        0        0        0       0      0      0        0       1   \n",
       "1        0        0        0       0      0      0        0       1   \n",
       "2        0        0        0       0      0      0        0       1   \n",
       "3        0        0        0       0      0      0        0       0   \n",
       "4        0        0        0       0      0      0        0       0   \n",
       "\n",
       "   positive_over_negative  \n",
       "0                       1  \n",
       "1                       0  \n",
       "2                       1  \n",
       "3                       1  \n",
       "4                       0  \n",
       "\n",
       "[5 rows x 2743 columns]"
      ]
     },
     "execution_count": 42,
     "metadata": {},
     "output_type": "execute_result"
    }
   ],
   "source": [
    "# Check to make sure it worked\n",
    "feature_testing_train_df.head()"
   ]
  },
  {
   "cell_type": "code",
   "execution_count": 43,
   "id": "1b076124",
   "metadata": {},
   "outputs": [
    {
     "data": {
      "text/html": [
       "<div>\n",
       "<style scoped>\n",
       "    .dataframe tbody tr th:only-of-type {\n",
       "        vertical-align: middle;\n",
       "    }\n",
       "\n",
       "    .dataframe tbody tr th {\n",
       "        vertical-align: top;\n",
       "    }\n",
       "\n",
       "    .dataframe thead th {\n",
       "        text-align: right;\n",
       "    }\n",
       "</style>\n",
       "<table border=\"1\" class=\"dataframe\">\n",
       "  <thead>\n",
       "    <tr style=\"text-align: right;\">\n",
       "      <th></th>\n",
       "      <th>Additional_Number_of_Scoring</th>\n",
       "      <th>Average_Score</th>\n",
       "      <th>Total_Number_of_Reviews</th>\n",
       "      <th>Total_Number_of_Reviews_Reviewer_Has_Given</th>\n",
       "      <th>days_since_review</th>\n",
       "      <th>lat</th>\n",
       "      <th>lng</th>\n",
       "      <th>weekday_of_review</th>\n",
       "      <th>month_of_review</th>\n",
       "      <th>year_of_review</th>\n",
       "      <th>...</th>\n",
       "      <th>n_worth</th>\n",
       "      <th>n_would</th>\n",
       "      <th>n_write</th>\n",
       "      <th>n_wrong</th>\n",
       "      <th>n_year</th>\n",
       "      <th>n_yes</th>\n",
       "      <th>n_yet</th>\n",
       "      <th>n_young</th>\n",
       "      <th>rating</th>\n",
       "      <th>positive_over_negative</th>\n",
       "    </tr>\n",
       "  </thead>\n",
       "  <tbody>\n",
       "    <tr>\n",
       "      <th>0</th>\n",
       "      <td>1005</td>\n",
       "      <td>8.3</td>\n",
       "      <td>3469</td>\n",
       "      <td>2</td>\n",
       "      <td>297</td>\n",
       "      <td>51.559096</td>\n",
       "      <td>-0.284704</td>\n",
       "      <td>0</td>\n",
       "      <td>10</td>\n",
       "      <td>2016</td>\n",
       "      <td>...</td>\n",
       "      <td>0</td>\n",
       "      <td>0</td>\n",
       "      <td>0</td>\n",
       "      <td>0</td>\n",
       "      <td>0</td>\n",
       "      <td>0</td>\n",
       "      <td>0</td>\n",
       "      <td>0</td>\n",
       "      <td>0</td>\n",
       "      <td>1</td>\n",
       "    </tr>\n",
       "    <tr>\n",
       "      <th>1</th>\n",
       "      <td>487</td>\n",
       "      <td>8.8</td>\n",
       "      <td>1805</td>\n",
       "      <td>1</td>\n",
       "      <td>4</td>\n",
       "      <td>51.474469</td>\n",
       "      <td>-0.019428</td>\n",
       "      <td>6</td>\n",
       "      <td>7</td>\n",
       "      <td>2017</td>\n",
       "      <td>...</td>\n",
       "      <td>0</td>\n",
       "      <td>0</td>\n",
       "      <td>0</td>\n",
       "      <td>0</td>\n",
       "      <td>0</td>\n",
       "      <td>0</td>\n",
       "      <td>0</td>\n",
       "      <td>0</td>\n",
       "      <td>1</td>\n",
       "      <td>1</td>\n",
       "    </tr>\n",
       "    <tr>\n",
       "      <th>2</th>\n",
       "      <td>570</td>\n",
       "      <td>9.3</td>\n",
       "      <td>2319</td>\n",
       "      <td>1</td>\n",
       "      <td>590</td>\n",
       "      <td>51.505696</td>\n",
       "      <td>-0.101525</td>\n",
       "      <td>1</td>\n",
       "      <td>12</td>\n",
       "      <td>2015</td>\n",
       "      <td>...</td>\n",
       "      <td>0</td>\n",
       "      <td>0</td>\n",
       "      <td>0</td>\n",
       "      <td>0</td>\n",
       "      <td>0</td>\n",
       "      <td>0</td>\n",
       "      <td>0</td>\n",
       "      <td>0</td>\n",
       "      <td>1</td>\n",
       "      <td>1</td>\n",
       "    </tr>\n",
       "    <tr>\n",
       "      <th>3</th>\n",
       "      <td>2623</td>\n",
       "      <td>8.7</td>\n",
       "      <td>12158</td>\n",
       "      <td>2</td>\n",
       "      <td>269</td>\n",
       "      <td>51.500961</td>\n",
       "      <td>-0.116591</td>\n",
       "      <td>0</td>\n",
       "      <td>11</td>\n",
       "      <td>2016</td>\n",
       "      <td>...</td>\n",
       "      <td>0</td>\n",
       "      <td>0</td>\n",
       "      <td>0</td>\n",
       "      <td>0</td>\n",
       "      <td>0</td>\n",
       "      <td>0</td>\n",
       "      <td>0</td>\n",
       "      <td>0</td>\n",
       "      <td>0</td>\n",
       "      <td>0</td>\n",
       "    </tr>\n",
       "    <tr>\n",
       "      <th>4</th>\n",
       "      <td>365</td>\n",
       "      <td>8.1</td>\n",
       "      <td>1567</td>\n",
       "      <td>2</td>\n",
       "      <td>373</td>\n",
       "      <td>51.515125</td>\n",
       "      <td>-0.160066</td>\n",
       "      <td>1</td>\n",
       "      <td>7</td>\n",
       "      <td>2016</td>\n",
       "      <td>...</td>\n",
       "      <td>0</td>\n",
       "      <td>0</td>\n",
       "      <td>0</td>\n",
       "      <td>0</td>\n",
       "      <td>0</td>\n",
       "      <td>0</td>\n",
       "      <td>0</td>\n",
       "      <td>0</td>\n",
       "      <td>0</td>\n",
       "      <td>0</td>\n",
       "    </tr>\n",
       "  </tbody>\n",
       "</table>\n",
       "<p>5 rows × 2743 columns</p>\n",
       "</div>"
      ],
      "text/plain": [
       "   Additional_Number_of_Scoring  Average_Score  Total_Number_of_Reviews  \\\n",
       "0                          1005            8.3                     3469   \n",
       "1                           487            8.8                     1805   \n",
       "2                           570            9.3                     2319   \n",
       "3                          2623            8.7                    12158   \n",
       "4                           365            8.1                     1567   \n",
       "\n",
       "   Total_Number_of_Reviews_Reviewer_Has_Given  days_since_review        lat  \\\n",
       "0                                           2                297  51.559096   \n",
       "1                                           1                  4  51.474469   \n",
       "2                                           1                590  51.505696   \n",
       "3                                           2                269  51.500961   \n",
       "4                                           2                373  51.515125   \n",
       "\n",
       "        lng  weekday_of_review  month_of_review  year_of_review  ...  n_worth  \\\n",
       "0 -0.284704                  0               10            2016  ...        0   \n",
       "1 -0.019428                  6                7            2017  ...        0   \n",
       "2 -0.101525                  1               12            2015  ...        0   \n",
       "3 -0.116591                  0               11            2016  ...        0   \n",
       "4 -0.160066                  1                7            2016  ...        0   \n",
       "\n",
       "   n_would  n_write  n_wrong  n_year  n_yes  n_yet  n_young  rating  \\\n",
       "0        0        0        0       0      0      0        0       0   \n",
       "1        0        0        0       0      0      0        0       1   \n",
       "2        0        0        0       0      0      0        0       1   \n",
       "3        0        0        0       0      0      0        0       0   \n",
       "4        0        0        0       0      0      0        0       0   \n",
       "\n",
       "   positive_over_negative  \n",
       "0                       1  \n",
       "1                       1  \n",
       "2                       1  \n",
       "3                       0  \n",
       "4                       0  \n",
       "\n",
       "[5 rows x 2743 columns]"
      ]
     },
     "execution_count": 43,
     "metadata": {},
     "output_type": "execute_result"
    }
   ],
   "source": [
    "# Check to make sure it worked\n",
    "feature_testing_test_df.head()"
   ]
  },
  {
   "cell_type": "markdown",
   "id": "47de40df",
   "metadata": {},
   "source": [
    "## Question 6 - Part B:\n",
    "\n",
    "\n",
    "Run the model from question 5 again. You will have to re-optimize your hyperparameters. Has the accuracy score of your best model improved on the test set after adding the new feature you created?"
   ]
  },
  {
   "cell_type": "markdown",
   "id": "2ac4f3e2",
   "metadata": {},
   "source": [
    "Now that the new feature has been created and the old features used to create the new one has been dropped, I ran the cross validation and logistic regression again to determine if there is an improvement in accuracy.\n",
    "\n",
    "First, I assigned the independent variables and dependent variable:"
   ]
  },
  {
   "cell_type": "code",
   "execution_count": 44,
   "id": "b9eca030",
   "metadata": {},
   "outputs": [],
   "source": [
    "# Assign independent variable\n",
    "X_train_feature = feature_testing_train_df.drop('rating', axis=1)\n",
    "X_test_feature = feature_testing_test_df.drop('rating', axis=1)\n",
    "\n",
    "# Assign dependent variable\n",
    "y_train_feature = feature_testing_train_df['rating']\n",
    "y_test_feature = feature_testing_test_df['rating']"
   ]
  },
  {
   "cell_type": "markdown",
   "id": "8dd2b35f",
   "metadata": {},
   "source": [
    "The dataset is not scaled, so the next step was to scale the train set, and transform the train and test set."
   ]
  },
  {
   "cell_type": "code",
   "execution_count": 45,
   "id": "02c62fce",
   "metadata": {},
   "outputs": [],
   "source": [
    "# Instantiate the scaler\n",
    "scaler = StandardScaler()\n",
    "\n",
    "# Fit the scaler to the X_train dataset\n",
    "scaler.fit(X_train_feature)\n",
    "\n",
    "# Transform the X_train and X_test dataset\n",
    "X_train_feature = scaler.transform(X_train_feature)\n",
    "X_test_feature = scaler.transform(X_test_feature)"
   ]
  },
  {
   "cell_type": "markdown",
   "id": "0ae0a1bc",
   "metadata": {},
   "source": [
    "Next, I ran the model from question 5 again, the logistic regression model and cross validation to find the optimal hyper-parameter for the logistic regression model."
   ]
  },
  {
   "cell_type": "code",
   "execution_count": 46,
   "id": "ce6dfc64",
   "metadata": {
    "scrolled": false
   },
   "outputs": [
    {
     "data": {
      "image/png": "[encoded data removed]",
      "text/plain": [
       "<Figure size 720x360 with 1 Axes>"
      ]
     },
     "metadata": {
      "needs_background": "light"
     },
     "output_type": "display_data"
    },
    {
     "name": "stdout",
     "output_type": "stream",
     "text": [
      "The best model has C = 0.001\n"
     ]
    }
   ],
   "source": [
    "# Create range for C-value\n",
    "C_range = np.logspace(start=-5, stop=5, num=11, base=10)\n",
    "\n",
    "# List to put in the cross validation scores\n",
    "cross_validation_scores_feature = []\n",
    "\n",
    "# For loop to find the optimal C-value\n",
    "for c in C_range:\n",
    "    \n",
    "    # Instantiate the model\n",
    "    feature_logreg = LogisticRegression(C=c,random_state=1)\n",
    "    \n",
    "    # calculation to get the cross validation score which is the mean of scores from all the folds\n",
    "    scores_feature = np.mean(cross_val_score(feature_logreg, X_train_feature, y_train_feature, cv=5))\n",
    "    \n",
    "    # append the scores to the list above\n",
    "    cross_validation_scores_feature.append(scores_feature)\n",
    "    \n",
    "\n",
    "# Plot the cross validation scores and the C-values\n",
    "plt.figure(figsize=(10,5))\n",
    "plt.plot(C_range, cross_validation_scores_feature, label=\"Cross Validation Score\", marker='.')\n",
    "plt.legend()\n",
    "plt.xscale(\"log\")\n",
    "plt.xlabel(\"Regularization Parameter: C\")\n",
    "plt.ylabel(\"Cross Validation Score\")\n",
    "plt.grid()\n",
    "plt.show()\n",
    "\n",
    "\n",
    "# Print out the C-value with the highest cross validation score\n",
    "max_score_feature = np.array(cross_validation_scores_feature).argmax()\n",
    "\n",
    "print(f\"The best model has C = {C_range[max_score_feature]}\")"
   ]
  },
  {
   "cell_type": "markdown",
   "id": "9442fc6b",
   "metadata": {},
   "source": [
    "My best model so far has been logistic regression with PCA, so I ran the same model again but with the new feature to determine if there would be an improvement in the accuracy score."
   ]
  },
  {
   "cell_type": "code",
   "execution_count": 47,
   "id": "7d0b573e",
   "metadata": {},
   "outputs": [],
   "source": [
    "# Instantiate and fit the PCA model to the data\n",
    "from sklearn.decomposition import PCA\n",
    "model_PCA = PCA(n_components=0.9)\n",
    "model_PCA.fit(X_train_feature)\n",
    "\n",
    "# Transform the data\n",
    "X_train_feature_PCA = model_PCA.transform(X_train_feature)\n",
    "X_test_feature_PCA = model_PCA.transform(X_test_feature)"
   ]
  },
  {
   "cell_type": "code",
   "execution_count": 48,
   "id": "3953b029",
   "metadata": {},
   "outputs": [
    {
     "name": "stdout",
     "output_type": "stream",
     "text": [
      "TRAIN Score with PCA: 0.8376308798249726\n",
      "TEST Score with PCA: 0.7815795640965549\n"
     ]
    }
   ],
   "source": [
    "# Instantiate the model with solver set to lbfgs\n",
    "feature_log_reg_model_PCA = LogisticRegression(random_state=1,C = 0.001)\n",
    "\n",
    "\n",
    "# Fit the model\n",
    "feature_log_reg_model_PCA.fit(X_train_feature_PCA, y_train_feature)\n",
    "\n",
    "# Get the accuracy score on the PCA train and test sets\n",
    "print(f\"TRAIN Score with PCA: {feature_log_reg_model_PCA.score(X_train_feature_PCA,y_train_feature)}\")\n",
    "print(f\"TEST Score with PCA: {feature_log_reg_model_PCA.score(X_test_feature_PCA,y_test_feature)}\")"
   ]
  },
  {
   "cell_type": "markdown",
   "id": "95d7a5db",
   "metadata": {},
   "source": [
    "**The accuracy test score for the Logistic Regression model with the addition of this new feature is 78.16%.**"
   ]
  },
  {
   "cell_type": "markdown",
   "id": "5e34316e",
   "metadata": {},
   "source": [
    "|Model Type || Accuracy Score on the Test Set || \n",
    "|-|-|--------------------||\n",
    "|**Logistic Regression without PCA**||78.11%||\n",
    "|**Logistic Regression with PCA**|| 78.18% || \n",
    "|**KNN with default number of observations (5)**||63.67%||\n",
    "|**KNN with number of observations of 3**||63.21%||\n",
    "|**KNN with optimal value for K=19**||65.95%||\n",
    "|**Decision Tree with unbounded depth**||69.77%||\n",
    "|**Decision Tree with optimal value for depth (5)**||73.96%||\n",
    "|**Logistic Regression after using cross validation**||77.76%||\n",
    "|**Logistic Regression after adding new feature**||78.16%||"
   ]
  },
  {
   "cell_type": "markdown",
   "id": "fda9469f",
   "metadata": {},
   "source": [
    "The accuracy score of my best model, which is Logistic Regression with PCA having an accuracy test score of 78.18%, did not improve after adding the new feature. The accuracy of the test set of the model with the new feature is 78.16%. This tells me that there is potential to add a better feature to improve the accuracy score and model in general."
   ]
  }
 ],
 "metadata": {
  "kernelspec": {
   "display_name": "Python 3 (ipykernel)",
   "language": "python",
   "name": "python3"
  },
  "language_info": {
   "codemirror_mode": {
    "name": "ipython",
    "version": 3
   },
   "file_extension": ".py",
   "mimetype": "text/x-python",
   "name": "python",
   "nbconvert_exporter": "python",
   "pygments_lexer": "ipython3",
   "version": "3.9.7"
  },
  "toc": {
   "base_numbering": 1,
   "nav_menu": {},
   "number_sections": true,
   "sideBar": true,
   "skip_h1_title": false,
   "title_cell": "Table of Contents",
   "title_sidebar": "Contents",
   "toc_cell": false,
   "toc_position": {},
   "toc_section_display": true,
   "toc_window_display": false
  }
 },
 "nbformat": 4,
 "nbformat_minor": 5
}
