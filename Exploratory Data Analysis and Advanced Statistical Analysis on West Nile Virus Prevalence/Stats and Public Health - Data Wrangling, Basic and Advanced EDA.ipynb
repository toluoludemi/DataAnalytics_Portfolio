{
 "cells": [
  {
   "cell_type": "markdown",
   "id": "5ca7c55f",
   "metadata": {},
   "source": [
    "***\n",
    "# Stats and Public Health I Deliverable\n"
   ]
  },
  {
   "cell_type": "markdown",
   "id": "367f56e3",
   "metadata": {},
   "source": [
    "## By: Tolulope Acquah\n",
    "***"
   ]
  },
  {
   "cell_type": "markdown",
   "id": "e0f15cf0",
   "metadata": {},
   "source": [
    "For this deliverable, basic EDA and Data Wrangling was performed to understand and get familiar with the provided West Nile Virus (WNV) dataset from the City of Illinois.\n",
    "\n",
    "**The details for the data provided is as follows:**\n",
    "\n",
    "**Year:** Year that the WNV test is performed. *[int64]*\n",
    "\n",
    "**Month:** \tWeek that the WNV test is performed. *[int64]*\n",
    "\n",
    "**Address Block:** Address of the location of trap. *[string]*\n",
    "\n",
    "**Block:** Block number of address. *[int64]*\n",
    "\n",
    "**Trap:** Id of the trap. *[string]*\n",
    "\n",
    "*Some traps are \"satellite traps\". These are traps that are set up near (usually within 6 blocks) an established trap to enhance surveillance efforts. Satellite traps are post fixed with letters. For example, T220A is a satellite trap to T220.*\n",
    "\n",
    "**Trap Type:** Type of trap. *[string]*\n",
    "\n",
    "**Date:** Date and time that the WNV test is performed. *[string]*\n",
    "\n",
    "*Please note that not all the locations are tested at all times. Also, records exist only when a particular species of mosquitoes is found at a certain trap at a certain time.*\n",
    "\n",
    "**Mosquito number:** Number of mosquitoes caught in this trap. *[int64]*\n",
    "\n",
    "*These test results are organized in such a way that when the number of mosquitoes exceed 50, they are split into another record (another row in the dataset), such that the number of mosquitoes are capped at 50.*\n",
    "\n",
    "**Mosquito ID:** Id for Mosquito species. *[string]*\n",
    "\n",
    "**WNV Present:** Whether West Nile Virus was present in these mosquitos. *[string]*\n",
    "\n",
    "**Species:** Mosquito species. *[string]*\n",
    "\n",
    "**Lat:** Latitude of trap. *[float64]*\n",
    "\n",
    "**Lon:** Longitude of trap. *[float64]*"
   ]
  },
  {
   "cell_type": "markdown",
   "id": "553f65c9",
   "metadata": {},
   "source": [
    "Before performing the Basic EDA and Data Wrangling, Numpy, Pandas, Matplotlib, Scipy, and Seaborn were imported:"
   ]
  },
  {
   "cell_type": "code",
   "execution_count": 1,
   "id": "6848e085",
   "metadata": {},
   "outputs": [],
   "source": [
    "import numpy as np\n",
    "import pandas as pd\n",
    "import matplotlib.pyplot as plt\n",
    "from scipy.stats import norm\n",
    "import seaborn as sns"
   ]
  },
  {
   "cell_type": "markdown",
   "id": "e3d92671",
   "metadata": {},
   "source": [
    "Next, the data from the provided CSV file was loaded:"
   ]
  },
  {
   "cell_type": "code",
   "execution_count": 2,
   "id": "aad9335f",
   "metadata": {},
   "outputs": [],
   "source": [
    "# load from csv\n",
    "mosquito_df = pd.read_csv('mosquito_data.csv')"
   ]
  },
  {
   "cell_type": "markdown",
   "id": "3773e784",
   "metadata": {},
   "source": [
    "To make sure the right data was loaded with the corresponding values, I displayed it by showing the first 5 rows:"
   ]
  },
  {
   "cell_type": "code",
   "execution_count": 3,
   "id": "d4d954a6",
   "metadata": {},
   "outputs": [
    {
     "data": {
      "text/html": [
       "<div>\n",
       "<style scoped>\n",
       "    .dataframe tbody tr th:only-of-type {\n",
       "        vertical-align: middle;\n",
       "    }\n",
       "\n",
       "    .dataframe tbody tr th {\n",
       "        vertical-align: top;\n",
       "    }\n",
       "\n",
       "    .dataframe thead th {\n",
       "        text-align: right;\n",
       "    }\n",
       "</style>\n",
       "<table border=\"1\" class=\"dataframe\">\n",
       "  <thead>\n",
       "    <tr style=\"text-align: right;\">\n",
       "      <th></th>\n",
       "      <th>Year</th>\n",
       "      <th>Week</th>\n",
       "      <th>Address Block</th>\n",
       "      <th>Block</th>\n",
       "      <th>Trap</th>\n",
       "      <th>Trap type</th>\n",
       "      <th>Date</th>\n",
       "      <th>Mosquito number</th>\n",
       "      <th>Mosquito ID</th>\n",
       "      <th>WNV Present</th>\n",
       "      <th>Species</th>\n",
       "      <th>Lat</th>\n",
       "      <th>Lon</th>\n",
       "    </tr>\n",
       "  </thead>\n",
       "  <tbody>\n",
       "    <tr>\n",
       "      <th>0</th>\n",
       "      <td>2019</td>\n",
       "      <td>39</td>\n",
       "      <td>100XX W OHARE AIRPORT</td>\n",
       "      <td>100</td>\n",
       "      <td>T910</td>\n",
       "      <td>GRAVID</td>\n",
       "      <td>2019-09-26 00:09:00</td>\n",
       "      <td>2</td>\n",
       "      <td>Res</td>\n",
       "      <td>negative</td>\n",
       "      <td>CULEX RESTUANS</td>\n",
       "      <td>NaN</td>\n",
       "      <td>NaN</td>\n",
       "    </tr>\n",
       "    <tr>\n",
       "      <th>1</th>\n",
       "      <td>2019</td>\n",
       "      <td>39</td>\n",
       "      <td>52XX S KOLMAR AVE</td>\n",
       "      <td>52</td>\n",
       "      <td>T114</td>\n",
       "      <td>GRAVID</td>\n",
       "      <td>2019-09-26 00:09:00</td>\n",
       "      <td>1</td>\n",
       "      <td>Res</td>\n",
       "      <td>negative</td>\n",
       "      <td>CULEX RESTUANS</td>\n",
       "      <td>41.798211</td>\n",
       "      <td>-87.736925</td>\n",
       "    </tr>\n",
       "    <tr>\n",
       "      <th>2</th>\n",
       "      <td>2019</td>\n",
       "      <td>39</td>\n",
       "      <td>58XX N WESTERN AVE</td>\n",
       "      <td>58</td>\n",
       "      <td>T028</td>\n",
       "      <td>GRAVID</td>\n",
       "      <td>2019-09-26 00:09:00</td>\n",
       "      <td>2</td>\n",
       "      <td>Res</td>\n",
       "      <td>negative</td>\n",
       "      <td>CULEX RESTUANS</td>\n",
       "      <td>41.987245</td>\n",
       "      <td>-87.689417</td>\n",
       "    </tr>\n",
       "    <tr>\n",
       "      <th>3</th>\n",
       "      <td>2019</td>\n",
       "      <td>39</td>\n",
       "      <td>39XX N SPRINGFIELD AVE</td>\n",
       "      <td>39</td>\n",
       "      <td>T228</td>\n",
       "      <td>GRAVID</td>\n",
       "      <td>2019-09-26 00:09:00</td>\n",
       "      <td>1</td>\n",
       "      <td>Res</td>\n",
       "      <td>negative</td>\n",
       "      <td>CULEX RESTUANS</td>\n",
       "      <td>41.953664</td>\n",
       "      <td>-87.724987</td>\n",
       "    </tr>\n",
       "    <tr>\n",
       "      <th>4</th>\n",
       "      <td>2019</td>\n",
       "      <td>39</td>\n",
       "      <td>131XX S BRANDON AVE</td>\n",
       "      <td>131</td>\n",
       "      <td>T209</td>\n",
       "      <td>GRAVID</td>\n",
       "      <td>2019-09-26 00:09:00</td>\n",
       "      <td>9</td>\n",
       "      <td>Res</td>\n",
       "      <td>negative</td>\n",
       "      <td>CULEX RESTUANS</td>\n",
       "      <td>41.657069</td>\n",
       "      <td>-87.546049</td>\n",
       "    </tr>\n",
       "  </tbody>\n",
       "</table>\n",
       "</div>"
      ],
      "text/plain": [
       "   Year  Week           Address Block  Block  Trap Trap type  \\\n",
       "0  2019    39   100XX W OHARE AIRPORT    100  T910    GRAVID   \n",
       "1  2019    39       52XX S KOLMAR AVE     52  T114    GRAVID   \n",
       "2  2019    39      58XX N WESTERN AVE     58  T028    GRAVID   \n",
       "3  2019    39  39XX N SPRINGFIELD AVE     39  T228    GRAVID   \n",
       "4  2019    39     131XX S BRANDON AVE    131  T209    GRAVID   \n",
       "\n",
       "                  Date  Mosquito number Mosquito ID WNV Present  \\\n",
       "0  2019-09-26 00:09:00                2         Res    negative   \n",
       "1  2019-09-26 00:09:00                1         Res    negative   \n",
       "2  2019-09-26 00:09:00                2         Res    negative   \n",
       "3  2019-09-26 00:09:00                1         Res    negative   \n",
       "4  2019-09-26 00:09:00                9         Res    negative   \n",
       "\n",
       "          Species        Lat        Lon  \n",
       "0  CULEX RESTUANS        NaN        NaN  \n",
       "1  CULEX RESTUANS  41.798211 -87.736925  \n",
       "2  CULEX RESTUANS  41.987245 -87.689417  \n",
       "3  CULEX RESTUANS  41.953664 -87.724987  \n",
       "4  CULEX RESTUANS  41.657069 -87.546049  "
      ]
     },
     "execution_count": 3,
     "metadata": {},
     "output_type": "execute_result"
    }
   ],
   "source": [
    "mosquito_df.head()"
   ]
  },
  {
   "cell_type": "markdown",
   "id": "5e07d197",
   "metadata": {},
   "source": [
    "Now that I know the data loaded correctly, I wanted to understand what was in the data:"
   ]
  },
  {
   "cell_type": "code",
   "execution_count": 4,
   "id": "68722067",
   "metadata": {},
   "outputs": [
    {
     "name": "stdout",
     "output_type": "stream",
     "text": [
      "Index(['Year', 'Week', 'Address Block', 'Block', 'Trap', 'Trap type', 'Date',\n",
      "       'Mosquito number', 'Mosquito ID', 'WNV Present', 'Species', 'Lat',\n",
      "       'Lon'],\n",
      "      dtype='object')\n"
     ]
    }
   ],
   "source": [
    "# To see the list of columns:\n",
    "\n",
    "print(mosquito_df.columns)"
   ]
  },
  {
   "cell_type": "code",
   "execution_count": 5,
   "id": "9a4f2273",
   "metadata": {},
   "outputs": [
    {
     "data": {
      "text/html": [
       "<div>\n",
       "<style scoped>\n",
       "    .dataframe tbody tr th:only-of-type {\n",
       "        vertical-align: middle;\n",
       "    }\n",
       "\n",
       "    .dataframe tbody tr th {\n",
       "        vertical-align: top;\n",
       "    }\n",
       "\n",
       "    .dataframe thead th {\n",
       "        text-align: right;\n",
       "    }\n",
       "</style>\n",
       "<table border=\"1\" class=\"dataframe\">\n",
       "  <thead>\n",
       "    <tr style=\"text-align: right;\">\n",
       "      <th></th>\n",
       "      <th>Year</th>\n",
       "      <th>Week</th>\n",
       "      <th>Address Block</th>\n",
       "      <th>Block</th>\n",
       "      <th>Trap</th>\n",
       "      <th>Trap type</th>\n",
       "      <th>Date</th>\n",
       "      <th>Mosquito number</th>\n",
       "      <th>Mosquito ID</th>\n",
       "      <th>WNV Present</th>\n",
       "      <th>Species</th>\n",
       "      <th>Lat</th>\n",
       "      <th>Lon</th>\n",
       "    </tr>\n",
       "  </thead>\n",
       "  <tbody>\n",
       "    <tr>\n",
       "      <th>18490</th>\n",
       "      <td>2016</td>\n",
       "      <td>36</td>\n",
       "      <td>3XX W 18TH ST</td>\n",
       "      <td>3</td>\n",
       "      <td>T043</td>\n",
       "      <td>GRAVID</td>\n",
       "      <td>2016-09-09 00:09:00</td>\n",
       "      <td>4</td>\n",
       "      <td>Pip</td>\n",
       "      <td>positive</td>\n",
       "      <td>CULEX PIPIENS</td>\n",
       "      <td>41.857843</td>\n",
       "      <td>-87.635858</td>\n",
       "    </tr>\n",
       "    <tr>\n",
       "      <th>18491</th>\n",
       "      <td>2007</td>\n",
       "      <td>34</td>\n",
       "      <td>46XX N MILWAUKEE AVE</td>\n",
       "      <td>46</td>\n",
       "      <td>T003</td>\n",
       "      <td>GRAVID</td>\n",
       "      <td>2007-08-24 00:08:00</td>\n",
       "      <td>19</td>\n",
       "      <td>Pip</td>\n",
       "      <td>positive</td>\n",
       "      <td>CULEX PIPIENS</td>\n",
       "      <td>41.965376</td>\n",
       "      <td>-87.758403</td>\n",
       "    </tr>\n",
       "    <tr>\n",
       "      <th>18492</th>\n",
       "      <td>2016</td>\n",
       "      <td>30</td>\n",
       "      <td>127XX S DOTY AVE</td>\n",
       "      <td>127</td>\n",
       "      <td>T115</td>\n",
       "      <td>GRAVID</td>\n",
       "      <td>2016-07-27 00:07:00</td>\n",
       "      <td>34</td>\n",
       "      <td>Res</td>\n",
       "      <td>positive</td>\n",
       "      <td>CULEX RESTUANS</td>\n",
       "      <td>41.662395</td>\n",
       "      <td>-87.590176</td>\n",
       "    </tr>\n",
       "    <tr>\n",
       "      <th>18493</th>\n",
       "      <td>2017</td>\n",
       "      <td>33</td>\n",
       "      <td>20XX N DOMINICK ST</td>\n",
       "      <td>20</td>\n",
       "      <td>T240B</td>\n",
       "      <td>SENTINEL</td>\n",
       "      <td>2017-08-17 00:08:00</td>\n",
       "      <td>50</td>\n",
       "      <td>Res</td>\n",
       "      <td>positive</td>\n",
       "      <td>CULEX RESTUANS</td>\n",
       "      <td>41.919197</td>\n",
       "      <td>-87.664758</td>\n",
       "    </tr>\n",
       "    <tr>\n",
       "      <th>18494</th>\n",
       "      <td>2015</td>\n",
       "      <td>33</td>\n",
       "      <td>100XX W OHARE AIRPORT</td>\n",
       "      <td>100</td>\n",
       "      <td>T902</td>\n",
       "      <td>GRAVID</td>\n",
       "      <td>2015-08-20 00:08:00</td>\n",
       "      <td>6</td>\n",
       "      <td>Res</td>\n",
       "      <td>positive</td>\n",
       "      <td>CULEX RESTUANS</td>\n",
       "      <td>NaN</td>\n",
       "      <td>NaN</td>\n",
       "    </tr>\n",
       "  </tbody>\n",
       "</table>\n",
       "</div>"
      ],
      "text/plain": [
       "       Year  Week          Address Block  Block   Trap Trap type  \\\n",
       "18490  2016    36          3XX W 18TH ST      3   T043    GRAVID   \n",
       "18491  2007    34   46XX N MILWAUKEE AVE     46   T003    GRAVID   \n",
       "18492  2016    30       127XX S DOTY AVE    127   T115    GRAVID   \n",
       "18493  2017    33     20XX N DOMINICK ST     20  T240B  SENTINEL   \n",
       "18494  2015    33  100XX W OHARE AIRPORT    100   T902    GRAVID   \n",
       "\n",
       "                      Date  Mosquito number Mosquito ID WNV Present  \\\n",
       "18490  2016-09-09 00:09:00                4         Pip    positive   \n",
       "18491  2007-08-24 00:08:00               19         Pip    positive   \n",
       "18492  2016-07-27 00:07:00               34         Res    positive   \n",
       "18493  2017-08-17 00:08:00               50         Res    positive   \n",
       "18494  2015-08-20 00:08:00                6         Res    positive   \n",
       "\n",
       "              Species        Lat        Lon  \n",
       "18490   CULEX PIPIENS  41.857843 -87.635858  \n",
       "18491   CULEX PIPIENS  41.965376 -87.758403  \n",
       "18492  CULEX RESTUANS  41.662395 -87.590176  \n",
       "18493  CULEX RESTUANS  41.919197 -87.664758  \n",
       "18494  CULEX RESTUANS        NaN        NaN  "
      ]
     },
     "execution_count": 5,
     "metadata": {},
     "output_type": "execute_result"
    }
   ],
   "source": [
    "# See the last 5 rows\n",
    "\n",
    "mosquito_df.tail()"
   ]
  },
  {
   "cell_type": "code",
   "execution_count": 6,
   "id": "9c13e845",
   "metadata": {},
   "outputs": [
    {
     "data": {
      "text/html": [
       "<div>\n",
       "<style scoped>\n",
       "    .dataframe tbody tr th:only-of-type {\n",
       "        vertical-align: middle;\n",
       "    }\n",
       "\n",
       "    .dataframe tbody tr th {\n",
       "        vertical-align: top;\n",
       "    }\n",
       "\n",
       "    .dataframe thead th {\n",
       "        text-align: right;\n",
       "    }\n",
       "</style>\n",
       "<table border=\"1\" class=\"dataframe\">\n",
       "  <thead>\n",
       "    <tr style=\"text-align: right;\">\n",
       "      <th></th>\n",
       "      <th>count</th>\n",
       "      <th>mean</th>\n",
       "      <th>std</th>\n",
       "      <th>min</th>\n",
       "      <th>25%</th>\n",
       "      <th>50%</th>\n",
       "      <th>75%</th>\n",
       "      <th>max</th>\n",
       "    </tr>\n",
       "  </thead>\n",
       "  <tbody>\n",
       "    <tr>\n",
       "      <th>Year</th>\n",
       "      <td>18495.0</td>\n",
       "      <td>2012.905812</td>\n",
       "      <td>3.725857</td>\n",
       "      <td>2007.000000</td>\n",
       "      <td>2010.000000</td>\n",
       "      <td>2013.000000</td>\n",
       "      <td>2016.000000</td>\n",
       "      <td>2019.000000</td>\n",
       "    </tr>\n",
       "    <tr>\n",
       "      <th>Week</th>\n",
       "      <td>18495.0</td>\n",
       "      <td>31.004001</td>\n",
       "      <td>4.332020</td>\n",
       "      <td>20.000000</td>\n",
       "      <td>28.000000</td>\n",
       "      <td>31.000000</td>\n",
       "      <td>34.000000</td>\n",
       "      <td>40.000000</td>\n",
       "    </tr>\n",
       "    <tr>\n",
       "      <th>Block</th>\n",
       "      <td>18495.0</td>\n",
       "      <td>54.314788</td>\n",
       "      <td>36.712796</td>\n",
       "      <td>1.000000</td>\n",
       "      <td>22.000000</td>\n",
       "      <td>51.000000</td>\n",
       "      <td>89.000000</td>\n",
       "      <td>132.000000</td>\n",
       "    </tr>\n",
       "    <tr>\n",
       "      <th>Mosquito number</th>\n",
       "      <td>18495.0</td>\n",
       "      <td>10.879913</td>\n",
       "      <td>13.475066</td>\n",
       "      <td>1.000000</td>\n",
       "      <td>2.000000</td>\n",
       "      <td>5.000000</td>\n",
       "      <td>14.000000</td>\n",
       "      <td>50.000000</td>\n",
       "    </tr>\n",
       "    <tr>\n",
       "      <th>Lat</th>\n",
       "      <td>15571.0</td>\n",
       "      <td>41.839963</td>\n",
       "      <td>0.111374</td>\n",
       "      <td>41.644720</td>\n",
       "      <td>41.742670</td>\n",
       "      <td>41.845715</td>\n",
       "      <td>41.945961</td>\n",
       "      <td>42.017801</td>\n",
       "    </tr>\n",
       "    <tr>\n",
       "      <th>Lon</th>\n",
       "      <td>15571.0</td>\n",
       "      <td>-87.691642</td>\n",
       "      <td>0.076545</td>\n",
       "      <td>-87.854473</td>\n",
       "      <td>-87.747459</td>\n",
       "      <td>-87.691698</td>\n",
       "      <td>-87.637873</td>\n",
       "      <td>-87.531051</td>\n",
       "    </tr>\n",
       "  </tbody>\n",
       "</table>\n",
       "</div>"
      ],
      "text/plain": [
       "                   count         mean        std          min          25%  \\\n",
       "Year             18495.0  2012.905812   3.725857  2007.000000  2010.000000   \n",
       "Week             18495.0    31.004001   4.332020    20.000000    28.000000   \n",
       "Block            18495.0    54.314788  36.712796     1.000000    22.000000   \n",
       "Mosquito number  18495.0    10.879913  13.475066     1.000000     2.000000   \n",
       "Lat              15571.0    41.839963   0.111374    41.644720    41.742670   \n",
       "Lon              15571.0   -87.691642   0.076545   -87.854473   -87.747459   \n",
       "\n",
       "                         50%          75%          max  \n",
       "Year             2013.000000  2016.000000  2019.000000  \n",
       "Week               31.000000    34.000000    40.000000  \n",
       "Block              51.000000    89.000000   132.000000  \n",
       "Mosquito number     5.000000    14.000000    50.000000  \n",
       "Lat                41.845715    41.945961    42.017801  \n",
       "Lon               -87.691698   -87.637873   -87.531051  "
      ]
     },
     "execution_count": 6,
     "metadata": {},
     "output_type": "execute_result"
    }
   ],
   "source": [
    "# See the summary stats for numeric columns\n",
    "\n",
    "mosquito_df.describe().T"
   ]
  },
  {
   "cell_type": "code",
   "execution_count": 7,
   "id": "3abffcfa",
   "metadata": {},
   "outputs": [
    {
     "name": "stdout",
     "output_type": "stream",
     "text": [
      "<class 'pandas.core.frame.DataFrame'>\n",
      "RangeIndex: 18495 entries, 0 to 18494\n",
      "Data columns (total 13 columns):\n",
      " #   Column           Non-Null Count  Dtype  \n",
      "---  ------           --------------  -----  \n",
      " 0   Year             18495 non-null  int64  \n",
      " 1   Week             18495 non-null  int64  \n",
      " 2   Address Block    18495 non-null  object \n",
      " 3   Block            18495 non-null  int64  \n",
      " 4   Trap             18495 non-null  object \n",
      " 5   Trap type        18495 non-null  object \n",
      " 6   Date             18495 non-null  object \n",
      " 7   Mosquito number  18495 non-null  int64  \n",
      " 8   Mosquito ID      18495 non-null  object \n",
      " 9   WNV Present      18495 non-null  object \n",
      " 10  Species          18495 non-null  object \n",
      " 11  Lat              15571 non-null  float64\n",
      " 12  Lon              15571 non-null  float64\n",
      "dtypes: float64(2), int64(4), object(7)\n",
      "memory usage: 1.8+ MB\n"
     ]
    }
   ],
   "source": [
    "mosquito_df.info()"
   ]
  },
  {
   "cell_type": "markdown",
   "id": "93340b83",
   "metadata": {},
   "source": [
    "The `mosquito_df.info()` shows that **Lat** and **Lon** have some null values."
   ]
  },
  {
   "cell_type": "markdown",
   "id": "98bb06a1",
   "metadata": {},
   "source": [
    "***\n",
    "## PART 1 - BASIC DATA WRANGLING\n"
   ]
  },
  {
   "cell_type": "markdown",
   "id": "49b1d62d",
   "metadata": {},
   "source": [
    "***\n",
    "### **Question 1:**\n",
    "\n",
    "What is the shape of the dataframe?\n",
    "***"
   ]
  },
  {
   "cell_type": "code",
   "execution_count": 8,
   "id": "0872bbe9",
   "metadata": {},
   "outputs": [
    {
     "data": {
      "text/plain": [
       "(18495, 13)"
      ]
     },
     "execution_count": 8,
     "metadata": {},
     "output_type": "execute_result"
    }
   ],
   "source": [
    "#Shape of the DataFrame:\n",
    "\n",
    "mosquito_df.shape"
   ]
  },
  {
   "cell_type": "markdown",
   "id": "1d2cc123",
   "metadata": {},
   "source": [
    "The shape of the dataframe is `(18495,13)`, which is 18,495 rows and 13 columns"
   ]
  },
  {
   "cell_type": "markdown",
   "id": "f64808b9",
   "metadata": {},
   "source": [
    "***\n",
    "### Question 2:\n",
    "\n",
    "Convert the 'Date' column to have a datetime format.\n",
    "***"
   ]
  },
  {
   "cell_type": "code",
   "execution_count": 9,
   "id": "bba58d97",
   "metadata": {},
   "outputs": [
    {
     "data": {
      "text/plain": [
       "Year                 int64\n",
       "Week                 int64\n",
       "Address Block       object\n",
       "Block                int64\n",
       "Trap                object\n",
       "Trap type           object\n",
       "Date                object\n",
       "Mosquito number      int64\n",
       "Mosquito ID         object\n",
       "WNV Present         object\n",
       "Species             object\n",
       "Lat                float64\n",
       "Lon                float64\n",
       "dtype: object"
      ]
     },
     "execution_count": 9,
     "metadata": {},
     "output_type": "execute_result"
    }
   ],
   "source": [
    "# first checking what the current data type is\n",
    "mosquito_df.dtypes"
   ]
  },
  {
   "cell_type": "code",
   "execution_count": 10,
   "id": "2df52f12",
   "metadata": {},
   "outputs": [],
   "source": [
    "# Convert with astypes\n",
    "\n",
    "mosquito_df.Date = mosquito_df.Date.astype('datetime64')"
   ]
  },
  {
   "cell_type": "code",
   "execution_count": 11,
   "id": "a6b105a5",
   "metadata": {},
   "outputs": [
    {
     "data": {
      "text/plain": [
       "Year                        int64\n",
       "Week                        int64\n",
       "Address Block              object\n",
       "Block                       int64\n",
       "Trap                       object\n",
       "Trap type                  object\n",
       "Date               datetime64[ns]\n",
       "Mosquito number             int64\n",
       "Mosquito ID                object\n",
       "WNV Present                object\n",
       "Species                    object\n",
       "Lat                       float64\n",
       "Lon                       float64\n",
       "dtype: object"
      ]
     },
     "execution_count": 11,
     "metadata": {},
     "output_type": "execute_result"
    }
   ],
   "source": [
    "# check if it worked\n",
    "\n",
    "mosquito_df.dtypes"
   ]
  },
  {
   "cell_type": "markdown",
   "id": "4e4b1fc9",
   "metadata": {},
   "source": [
    "According to the results of using `.dtypes` to see the data type of each column, the date column is now `datetime64` which means that the data type has been changed to have a datetime format."
   ]
  },
  {
   "cell_type": "markdown",
   "id": "2cc87cca",
   "metadata": {},
   "source": [
    "***\n",
    "### Question 3:\n",
    "\n",
    "Pick two numeric and two categorical columns: What data are they storing? How are they distributed?\n",
    "***"
   ]
  },
  {
   "cell_type": "markdown",
   "id": "9013cd13",
   "metadata": {},
   "source": [
    "Using the same code from Question 2: `mosquito_df.dtypes`, I chose categorical columns based on the data types not having \"`int64`\", \"`float64`\", or  \"`datetime`\"."
   ]
  },
  {
   "cell_type": "markdown",
   "id": "b0793d22",
   "metadata": {},
   "source": [
    "**Chosen categorical columns:** \n",
    "- Mosquito ID\n",
    "- WNV Present"
   ]
  },
  {
   "cell_type": "markdown",
   "id": "72dd841f",
   "metadata": {},
   "source": [
    "Similar to the approach for choosing categorical columns, for numeric columns, I chose columns with data types of \"`int64`\"."
   ]
  },
  {
   "cell_type": "markdown",
   "id": "ecb5df79",
   "metadata": {},
   "source": [
    "**Chosen numeric columns:**\n",
    "- Mosquito Number\n",
    "- Year"
   ]
  },
  {
   "cell_type": "markdown",
   "id": "4b01efda",
   "metadata": {},
   "source": [
    "#### For Categorical Columns: \n",
    "\n",
    "To determine how the chosen categorical columns are distributed, the `plt.bar()` was used to see the counts of observation in each categorical bin."
   ]
  },
  {
   "cell_type": "code",
   "execution_count": 12,
   "id": "e0c8db1c",
   "metadata": {},
   "outputs": [
    {
     "data": {
      "image/png": "[encoded data removed]",
      "text/plain": [
       "<Figure size 1080x360 with 1 Axes>"
      ]
     },
     "metadata": {
      "needs_background": "light"
     },
     "output_type": "display_data"
    },
    {
     "name": "stdout",
     "output_type": "stream",
     "text": [
      "Res    11866\n",
      "Pip     5486\n",
      "Ter      917\n",
      "Sal      226\n",
      "Name: Mosquito ID, dtype: int64\n"
     ]
    }
   ],
   "source": [
    "# Create a bar chart showing the count of the individual Mosquito ID:\n",
    "\n",
    "MI_value_counts = mosquito_df['Mosquito ID'].value_counts()\n",
    "plt.figure(figsize=(15,5))\n",
    "\n",
    "plt.bar(MI_value_counts.index, \n",
    "        MI_value_counts.values)\n",
    "        \n",
    "plt.title(\"Mosquito ID Distribution\")\n",
    "plt.xlabel(\"Mosquito ID\")\n",
    "plt.ylabel(\"Frequency\")\n",
    "\n",
    "plt.show()\n",
    "\n",
    "print(MI_value_counts)"
   ]
  },
  {
   "cell_type": "code",
   "execution_count": 13,
   "id": "f450ea5f",
   "metadata": {},
   "outputs": [
    {
     "data": {
      "image/png": "[encoded data removed]",
      "text/plain": [
       "<Figure size 1080x360 with 1 Axes>"
      ]
     },
     "metadata": {
      "needs_background": "light"
     },
     "output_type": "display_data"
    },
    {
     "name": "stdout",
     "output_type": "stream",
     "text": [
      "negative    14501\n",
      "positive     3994\n",
      "Name: WNV Present, dtype: int64\n"
     ]
    }
   ],
   "source": [
    "# Create a bar chart showing the count of positive and negative WNV tests:\n",
    "\n",
    "WNV_value_counts = mosquito_df['WNV Present'].value_counts()\n",
    "plt.figure(figsize=(15,5))\n",
    "\n",
    "plt.bar(WNV_value_counts.index, \n",
    "        WNV_value_counts.values)\n",
    "        \n",
    "plt.title(\"West Nile Virus Prevalence\")\n",
    "plt.xlabel(\"WNV Present\")\n",
    "plt.ylabel(\"Frequency\")\n",
    "\n",
    "plt.show()\n",
    "print(WNV_value_counts)"
   ]
  },
  {
   "cell_type": "markdown",
   "id": "d978b6fe",
   "metadata": {},
   "source": [
    "#### Findings from the Distribution of the Categorical Columns:\n",
    "\n",
    "**Mosquito ID:**\n",
    "* The Mosquito ID column stores the type of mosquito species found in the mosquitoes trapped. In this case, there are a total of four (4) mosquito species found: **Res, Pip, Ter, and Sal.**\n",
    "\n",
    "* Based on the distribution, the most common species found in the trap was Res, with a total count of 11,866. The second most common species found in the trap was Pip, with a total count of 5,486 almost 50% lower than the count for Res.\n",
    "\n",
    "* The least common species found in the trap was Ter with a total count of 917, and Sal with a total count of 226."
   ]
  },
  {
   "cell_type": "markdown",
   "id": "507b10f5",
   "metadata": {},
   "source": [
    "**WNV Present:**\n",
    "* The WNV Present column stores the result of the tests on if the WNV was present in the mosquitoes or not. The column has strings of \"negative\" or \"positive\" to identify the presence of WNV in the trapped mosquitoes.\n",
    "\n",
    "* Based on the distribution, a little over 70% of trapped mosquitoes tested negative for the West Nile Virus with a count of 14,501. While almost 30% of trapped mosquitoes tested positive for the WNV with a count of 3,994. This tells me that a majority of the mosquitoes trapped do not carry the WNV."
   ]
  },
  {
   "cell_type": "markdown",
   "id": "587ac08f",
   "metadata": {},
   "source": [
    "#### For Numeric Columns:\n",
    "\n",
    "To determine how the chosen numeric columns are distributed, histograms were created below:"
   ]
  },
  {
   "cell_type": "markdown",
   "id": "23c9d24f",
   "metadata": {},
   "source": [
    "Before making the histograms, to understand the distribution of the data, the mean, mode, median, and standard deviation for both the mosquito number and Year was determined first, and then showed in the histogram."
   ]
  },
  {
   "cell_type": "code",
   "execution_count": 14,
   "id": "e44db5e9",
   "metadata": {},
   "outputs": [
    {
     "name": "stdout",
     "output_type": "stream",
     "text": [
      "10.879913490132468\n",
      "0    1\n",
      "dtype: int64\n",
      "5.0\n",
      "13.475065566131548\n"
     ]
    }
   ],
   "source": [
    "# found the mean, mode, median and standard deviation for the mosquito number to understand how it is distributed.\n",
    "\n",
    "MN_mean = mosquito_df[\"Mosquito number\"].mean()\n",
    "MN_mode = mosquito_df[\"Mosquito number\"].mode()\n",
    "MN_median = mosquito_df[\"Mosquito number\"].median()\n",
    "MN_sdev = mosquito_df[\"Mosquito number\"].std()\n",
    "\n",
    "print(MN_mean)\n",
    "print(MN_mode)\n",
    "print(MN_median)\n",
    "print(MN_sdev)"
   ]
  },
  {
   "cell_type": "code",
   "execution_count": 15,
   "id": "334a8135",
   "metadata": {},
   "outputs": [
    {
     "name": "stdout",
     "output_type": "stream",
     "text": [
      "2012.905812381725\n",
      "0    2007\n",
      "dtype: int64\n",
      "2013.0\n",
      "3.7258571822695075\n"
     ]
    }
   ],
   "source": [
    "# found the mean, mode, median and standard deviation for the year to understand how it is distributed.\n",
    "\n",
    "YR_mean = mosquito_df[\"Year\"].mean()\n",
    "YR_mode = mosquito_df[\"Year\"].mode()\n",
    "YR_median = mosquito_df[\"Year\"].median()\n",
    "YR_sdev = mosquito_df[\"Year\"].std()\n",
    "\n",
    "print(YR_mean)\n",
    "print(YR_mode)\n",
    "print(YR_median)\n",
    "print(YR_sdev)"
   ]
  },
  {
   "cell_type": "code",
   "execution_count": 16,
   "id": "1c49144f",
   "metadata": {},
   "outputs": [
    {
     "data": {
      "image/png": "[encoded data removed]",
      "text/plain": [
       "<Figure size 1440x720 with 2 Axes>"
      ]
     },
     "metadata": {
      "needs_background": "light"
     },
     "output_type": "display_data"
    }
   ],
   "source": [
    "# Histograms for the numeric columns: Mosquito numbers and Year\n",
    "\n",
    "plt.subplots(1, 2, figsize = (20, 10))\n",
    "\n",
    "plt.subplot(1, 2, 1)\n",
    "plt.hist(mosquito_df['Mosquito number'])\n",
    "\n",
    "plt.xlabel(\"Mosquito Number\")\n",
    "plt.ylabel(\"Frequency\")\n",
    "plt.title(\"Mosquito Number Distribution\")\n",
    "\n",
    "plt.axvline(MN_mean, c=\"black\", label=\"Mean\")\n",
    "plt.axvline(MN_median, c=\"purple\", label=\"Median\")\n",
    "plt.axvline(MN_mode[0], c=\"red\", label=\"Mode\")\n",
    "# plt.axvline(MN_sdev, c=\"lightblue\", label=\"Standard Deviation\")\n",
    "\n",
    "plt.legend()\n",
    "\n",
    "#-----------------------------------------\n",
    "\n",
    "plt.subplot(1, 2, 2)\n",
    "plt.hist(mosquito_df['Year'])\n",
    "\n",
    "plt.xlabel(\"Year\")\n",
    "plt.ylabel(\"Frequency\")\n",
    "plt.title(\"Year (Count)\")\n",
    "\n",
    "plt.axvline(YR_mean, c=\"black\", label=\"Mean\")\n",
    "plt.axvline(YR_median, c=\"purple\", label=\"Median\")\n",
    "plt.axvline(YR_mode[0], c=\"red\", label=\"Mode\")\n",
    "#plt.axvline(YR_sdev, c=\"lightblue\", label=\"Standard Deviation\")\n",
    "\n",
    "plt.tight_layout()\n",
    "plt.legend()\n",
    "plt.show()"
   ]
  },
  {
   "cell_type": "markdown",
   "id": "5fa2a413",
   "metadata": {},
   "source": [
    "#### Findings from the Distribution of the Numeric Columns:\n",
    "\n",
    "**Mosquito Number:**\n",
    "* The Mosquito Number column stores the number of mosquitoes caught in the trap.\n",
    "\n",
    "\n",
    "* Based on the distribution, the center mass is close to the median, which is 5. This tells me that majority of set traps collected 5 mosquitoes in the traps. Most records of tested mosquitoes are between 1 and 6 mosquitoes.\n",
    "\n",
    "\n",
    "* It is also understood that the test results of the number of mosquitoes caught are organized in a way that when the number of mosquitoes exceed 50, the remainder of the number of mosquitoes are split into another row in the dataset so that the number of mosquitoes don't exceed 50.\n",
    "\n",
    "\n",
    "* Seeing as there is a suprising frequency of 50 mosquitoes caught in the trap, it could also mean that the traps had more than 50 mosquitoes, and the remainder was split on another row of the dataset where the median is located - 5 mosquitoes. Simply put, the majority of traps having 5 mosquitoes could also be a remnant of the capped 50 mosquitoes.\n",
    "\n",
    "**Year:**\n",
    "* The \"Year\" column stores the year that the WNV tests were performed. Based on the histogram prepared for the Year column, tests were done the most between 2013-2014, followed by 2007-2008, and 2018-2019."
   ]
  },
  {
   "cell_type": "markdown",
   "id": "9de6a924",
   "metadata": {},
   "source": [
    "***\n",
    "### Question 4:\n",
    "\n",
    "Are there any columns that contain duplicate information? If so, remove the redundant columns.\n",
    "***"
   ]
  },
  {
   "cell_type": "code",
   "execution_count": 17,
   "id": "33e98b4a",
   "metadata": {},
   "outputs": [
    {
     "data": {
      "text/plain": [
       "Year               False\n",
       "Week               False\n",
       "Address Block      False\n",
       "Block              False\n",
       "Trap               False\n",
       "Trap type          False\n",
       "Date               False\n",
       "Mosquito number    False\n",
       "Mosquito ID        False\n",
       "WNV Present        False\n",
       "Species            False\n",
       "Lat                False\n",
       "Lon                False\n",
       "dtype: bool"
      ]
     },
     "execution_count": 17,
     "metadata": {},
     "output_type": "execute_result"
    }
   ],
   "source": [
    "# code to find duplicated columns. First transposed the rows to columns, since the .duplicated() only works for rows.\n",
    "\n",
    "mosquito_df.T.duplicated()"
   ]
  },
  {
   "cell_type": "code",
   "execution_count": 18,
   "id": "f7985927",
   "metadata": {},
   "outputs": [
    {
     "data": {
      "text/html": [
       "<div>\n",
       "<style scoped>\n",
       "    .dataframe tbody tr th:only-of-type {\n",
       "        vertical-align: middle;\n",
       "    }\n",
       "\n",
       "    .dataframe tbody tr th {\n",
       "        vertical-align: top;\n",
       "    }\n",
       "\n",
       "    .dataframe thead th {\n",
       "        text-align: right;\n",
       "    }\n",
       "</style>\n",
       "<table border=\"1\" class=\"dataframe\">\n",
       "  <thead>\n",
       "    <tr style=\"text-align: right;\">\n",
       "      <th></th>\n",
       "      <th>Year</th>\n",
       "      <th>Week</th>\n",
       "      <th>Address Block</th>\n",
       "      <th>Block</th>\n",
       "      <th>Trap</th>\n",
       "      <th>Trap type</th>\n",
       "      <th>Date</th>\n",
       "      <th>Mosquito number</th>\n",
       "      <th>Mosquito ID</th>\n",
       "      <th>WNV Present</th>\n",
       "      <th>Species</th>\n",
       "      <th>Lat</th>\n",
       "      <th>Lon</th>\n",
       "    </tr>\n",
       "  </thead>\n",
       "  <tbody>\n",
       "    <tr>\n",
       "      <th>17194</th>\n",
       "      <td>2013</td>\n",
       "      <td>28</td>\n",
       "      <td>70XX N MOSELLE AVE</td>\n",
       "      <td>70</td>\n",
       "      <td>T008</td>\n",
       "      <td>GRAVID</td>\n",
       "      <td>2013-07-12 00:07:00</td>\n",
       "      <td>45</td>\n",
       "      <td>Res</td>\n",
       "      <td>positive</td>\n",
       "      <td>CULEX RESTUANS</td>\n",
       "      <td>42.008002</td>\n",
       "      <td>-87.778229</td>\n",
       "    </tr>\n",
       "    <tr>\n",
       "      <th>15498</th>\n",
       "      <td>2014</td>\n",
       "      <td>37</td>\n",
       "      <td>39XX S ASHLAND AVE</td>\n",
       "      <td>39</td>\n",
       "      <td>T074</td>\n",
       "      <td>GRAVID</td>\n",
       "      <td>2014-09-11 00:09:00</td>\n",
       "      <td>20</td>\n",
       "      <td>Pip</td>\n",
       "      <td>positive</td>\n",
       "      <td>CULEX PIPIENS</td>\n",
       "      <td>41.820862</td>\n",
       "      <td>-87.665103</td>\n",
       "    </tr>\n",
       "    <tr>\n",
       "      <th>652</th>\n",
       "      <td>2019</td>\n",
       "      <td>28</td>\n",
       "      <td>58XX N PULASKI RD</td>\n",
       "      <td>58</td>\n",
       "      <td>T027</td>\n",
       "      <td>GRAVID</td>\n",
       "      <td>2019-07-11 00:07:00</td>\n",
       "      <td>1</td>\n",
       "      <td>Res</td>\n",
       "      <td>negative</td>\n",
       "      <td>CULEX RESTUANS</td>\n",
       "      <td>41.986320</td>\n",
       "      <td>-87.728378</td>\n",
       "    </tr>\n",
       "    <tr>\n",
       "      <th>5345</th>\n",
       "      <td>2014</td>\n",
       "      <td>38</td>\n",
       "      <td>58XX N PULASKI RD</td>\n",
       "      <td>58</td>\n",
       "      <td>T027</td>\n",
       "      <td>GRAVID</td>\n",
       "      <td>2014-09-18 00:09:00</td>\n",
       "      <td>8</td>\n",
       "      <td>Res</td>\n",
       "      <td>negative</td>\n",
       "      <td>CULEX RESTUANS</td>\n",
       "      <td>41.986320</td>\n",
       "      <td>-87.728378</td>\n",
       "    </tr>\n",
       "    <tr>\n",
       "      <th>9965</th>\n",
       "      <td>2011</td>\n",
       "      <td>28</td>\n",
       "      <td>25XX S MILLARD AVE</td>\n",
       "      <td>25</td>\n",
       "      <td>T152</td>\n",
       "      <td>GRAVID</td>\n",
       "      <td>2011-07-15 00:07:00</td>\n",
       "      <td>5</td>\n",
       "      <td>Res</td>\n",
       "      <td>negative</td>\n",
       "      <td>CULEX RESTUANS</td>\n",
       "      <td>41.845715</td>\n",
       "      <td>-87.715899</td>\n",
       "    </tr>\n",
       "    <tr>\n",
       "      <th>4954</th>\n",
       "      <td>2015</td>\n",
       "      <td>26</td>\n",
       "      <td>37XX E 118TH ST</td>\n",
       "      <td>37</td>\n",
       "      <td>T212</td>\n",
       "      <td>GRAVID</td>\n",
       "      <td>2015-07-02 00:07:00</td>\n",
       "      <td>10</td>\n",
       "      <td>Res</td>\n",
       "      <td>negative</td>\n",
       "      <td>CULEX RESTUANS</td>\n",
       "      <td>41.681035</td>\n",
       "      <td>-87.533436</td>\n",
       "    </tr>\n",
       "    <tr>\n",
       "      <th>13317</th>\n",
       "      <td>2008</td>\n",
       "      <td>30</td>\n",
       "      <td>70XX N MOSELLE AVE</td>\n",
       "      <td>70</td>\n",
       "      <td>T008</td>\n",
       "      <td>GRAVID</td>\n",
       "      <td>2008-07-28 00:07:00</td>\n",
       "      <td>1</td>\n",
       "      <td>Pip</td>\n",
       "      <td>negative</td>\n",
       "      <td>CULEX PIPIENS</td>\n",
       "      <td>42.007998</td>\n",
       "      <td>-87.778235</td>\n",
       "    </tr>\n",
       "    <tr>\n",
       "      <th>12627</th>\n",
       "      <td>2009</td>\n",
       "      <td>22</td>\n",
       "      <td>4XX W 127TH</td>\n",
       "      <td>4</td>\n",
       "      <td>T135</td>\n",
       "      <td>GRAVID</td>\n",
       "      <td>2009-06-05 00:06:00</td>\n",
       "      <td>3</td>\n",
       "      <td>Pip</td>\n",
       "      <td>negative</td>\n",
       "      <td>CULEX PIPIENS</td>\n",
       "      <td>NaN</td>\n",
       "      <td>NaN</td>\n",
       "    </tr>\n",
       "    <tr>\n",
       "      <th>2044</th>\n",
       "      <td>2018</td>\n",
       "      <td>24</td>\n",
       "      <td>77XX S EBERHART AVE</td>\n",
       "      <td>77</td>\n",
       "      <td>T080</td>\n",
       "      <td>GRAVID</td>\n",
       "      <td>2018-06-14 00:06:00</td>\n",
       "      <td>23</td>\n",
       "      <td>Res</td>\n",
       "      <td>negative</td>\n",
       "      <td>CULEX RESTUANS</td>\n",
       "      <td>41.754148</td>\n",
       "      <td>-87.612721</td>\n",
       "    </tr>\n",
       "    <tr>\n",
       "      <th>16040</th>\n",
       "      <td>2012</td>\n",
       "      <td>27</td>\n",
       "      <td>52XX S KOLMAR AVE</td>\n",
       "      <td>52</td>\n",
       "      <td>T114</td>\n",
       "      <td>GRAVID</td>\n",
       "      <td>2012-07-09 00:07:00</td>\n",
       "      <td>50</td>\n",
       "      <td>Res</td>\n",
       "      <td>positive</td>\n",
       "      <td>CULEX RESTUANS</td>\n",
       "      <td>41.798217</td>\n",
       "      <td>-87.736918</td>\n",
       "    </tr>\n",
       "  </tbody>\n",
       "</table>\n",
       "</div>"
      ],
      "text/plain": [
       "       Year  Week        Address Block  Block  Trap Trap type  \\\n",
       "17194  2013    28   70XX N MOSELLE AVE     70  T008    GRAVID   \n",
       "15498  2014    37   39XX S ASHLAND AVE     39  T074    GRAVID   \n",
       "652    2019    28    58XX N PULASKI RD     58  T027    GRAVID   \n",
       "5345   2014    38    58XX N PULASKI RD     58  T027    GRAVID   \n",
       "9965   2011    28   25XX S MILLARD AVE     25  T152    GRAVID   \n",
       "4954   2015    26      37XX E 118TH ST     37  T212    GRAVID   \n",
       "13317  2008    30   70XX N MOSELLE AVE     70  T008    GRAVID   \n",
       "12627  2009    22          4XX W 127TH      4  T135    GRAVID   \n",
       "2044   2018    24  77XX S EBERHART AVE     77  T080    GRAVID   \n",
       "16040  2012    27    52XX S KOLMAR AVE     52  T114    GRAVID   \n",
       "\n",
       "                     Date  Mosquito number Mosquito ID WNV Present  \\\n",
       "17194 2013-07-12 00:07:00               45         Res    positive   \n",
       "15498 2014-09-11 00:09:00               20         Pip    positive   \n",
       "652   2019-07-11 00:07:00                1         Res    negative   \n",
       "5345  2014-09-18 00:09:00                8         Res    negative   \n",
       "9965  2011-07-15 00:07:00                5         Res    negative   \n",
       "4954  2015-07-02 00:07:00               10         Res    negative   \n",
       "13317 2008-07-28 00:07:00                1         Pip    negative   \n",
       "12627 2009-06-05 00:06:00                3         Pip    negative   \n",
       "2044  2018-06-14 00:06:00               23         Res    negative   \n",
       "16040 2012-07-09 00:07:00               50         Res    positive   \n",
       "\n",
       "              Species        Lat        Lon  \n",
       "17194  CULEX RESTUANS  42.008002 -87.778229  \n",
       "15498   CULEX PIPIENS  41.820862 -87.665103  \n",
       "652    CULEX RESTUANS  41.986320 -87.728378  \n",
       "5345   CULEX RESTUANS  41.986320 -87.728378  \n",
       "9965   CULEX RESTUANS  41.845715 -87.715899  \n",
       "4954   CULEX RESTUANS  41.681035 -87.533436  \n",
       "13317   CULEX PIPIENS  42.007998 -87.778235  \n",
       "12627   CULEX PIPIENS        NaN        NaN  \n",
       "2044   CULEX RESTUANS  41.754148 -87.612721  \n",
       "16040  CULEX RESTUANS  41.798217 -87.736918  "
      ]
     },
     "execution_count": 18,
     "metadata": {},
     "output_type": "execute_result"
    }
   ],
   "source": [
    "# taken 10 random rows to visually inspect any redundant information/columns:\n",
    "\n",
    "mosquito_df.sample(10)"
   ]
  },
  {
   "cell_type": "markdown",
   "id": "a884f628",
   "metadata": {},
   "source": [
    "To check for duplicates in the columns, I applied the `.duplicated()` to the transpose. Based on the results from the code, and visual inspection of the columns, there seem to be no redundant columns."
   ]
  },
  {
   "cell_type": "markdown",
   "id": "d5422822",
   "metadata": {},
   "source": [
    "***\n",
    "### Question 5:\n",
    "\n",
    "Are there any null values in the dataframe? If so, deal with them appropriately.\n",
    "***"
   ]
  },
  {
   "cell_type": "code",
   "execution_count": 19,
   "id": "258296ad",
   "metadata": {},
   "outputs": [
    {
     "data": {
      "text/plain": [
       "Year                  0\n",
       "Week                  0\n",
       "Address Block         0\n",
       "Block                 0\n",
       "Trap                  0\n",
       "Trap type             0\n",
       "Date                  0\n",
       "Mosquito number       0\n",
       "Mosquito ID           0\n",
       "WNV Present           0\n",
       "Species               0\n",
       "Lat                2924\n",
       "Lon                2924\n",
       "dtype: int64"
      ]
     },
     "execution_count": 19,
     "metadata": {},
     "output_type": "execute_result"
    }
   ],
   "source": [
    "# To check how many missing values there are in each column:\n",
    "\n",
    "mosquito_df.isna().sum()"
   ]
  },
  {
   "cell_type": "markdown",
   "id": "f50f30cf",
   "metadata": {},
   "source": [
    "Based on the results above, there are a total of 2,924 null values in the Lat and Lon columns."
   ]
  },
  {
   "cell_type": "code",
   "execution_count": 20,
   "id": "d6127ded",
   "metadata": {},
   "outputs": [
    {
     "data": {
      "text/plain": [
       "Year                0.000000\n",
       "Week                0.000000\n",
       "Address Block       0.000000\n",
       "Block               0.000000\n",
       "Trap                0.000000\n",
       "Trap type           0.000000\n",
       "Date                0.000000\n",
       "Mosquito number     0.000000\n",
       "Mosquito ID         0.000000\n",
       "WNV Present         0.000000\n",
       "Species             0.000000\n",
       "Lat                15.809678\n",
       "Lon                15.809678\n",
       "dtype: float64"
      ]
     },
     "execution_count": 20,
     "metadata": {},
     "output_type": "execute_result"
    }
   ],
   "source": [
    "# To get the proportion of nulls missing:\n",
    "\n",
    "mosquito_df.isna().mean()*100"
   ]
  },
  {
   "cell_type": "markdown",
   "id": "779d45ad",
   "metadata": {},
   "source": [
    "Seeing as the Latitude and Longitude have a little over 15% of the data filled with NaNs, I thought it would be best not to remove those rows as they may contain valuable information for other columns. I determined the mean, mode, and median for the Latitude and Longitude columns to determine which values are closest to the most popular distribution. I filled the NaNs with the value that is closest to the densest distribution."
   ]
  },
  {
   "cell_type": "code",
   "execution_count": 21,
   "id": "25ec2311",
   "metadata": {},
   "outputs": [
    {
     "data": {
      "text/html": [
       "<div>\n",
       "<style scoped>\n",
       "    .dataframe tbody tr th:only-of-type {\n",
       "        vertical-align: middle;\n",
       "    }\n",
       "\n",
       "    .dataframe tbody tr th {\n",
       "        vertical-align: top;\n",
       "    }\n",
       "\n",
       "    .dataframe thead th {\n",
       "        text-align: right;\n",
       "    }\n",
       "</style>\n",
       "<table border=\"1\" class=\"dataframe\">\n",
       "  <thead>\n",
       "    <tr style=\"text-align: right;\">\n",
       "      <th></th>\n",
       "      <th>Lat</th>\n",
       "      <th>Lon</th>\n",
       "    </tr>\n",
       "  </thead>\n",
       "  <tbody>\n",
       "    <tr>\n",
       "      <th>0</th>\n",
       "      <td>NaN</td>\n",
       "      <td>NaN</td>\n",
       "    </tr>\n",
       "    <tr>\n",
       "      <th>1</th>\n",
       "      <td>41.798211</td>\n",
       "      <td>-87.736925</td>\n",
       "    </tr>\n",
       "    <tr>\n",
       "      <th>2</th>\n",
       "      <td>41.987245</td>\n",
       "      <td>-87.689417</td>\n",
       "    </tr>\n",
       "    <tr>\n",
       "      <th>3</th>\n",
       "      <td>41.953664</td>\n",
       "      <td>-87.724987</td>\n",
       "    </tr>\n",
       "    <tr>\n",
       "      <th>4</th>\n",
       "      <td>41.657069</td>\n",
       "      <td>-87.546049</td>\n",
       "    </tr>\n",
       "    <tr>\n",
       "      <th>...</th>\n",
       "      <td>...</td>\n",
       "      <td>...</td>\n",
       "    </tr>\n",
       "    <tr>\n",
       "      <th>18490</th>\n",
       "      <td>41.857843</td>\n",
       "      <td>-87.635858</td>\n",
       "    </tr>\n",
       "    <tr>\n",
       "      <th>18491</th>\n",
       "      <td>41.965376</td>\n",
       "      <td>-87.758403</td>\n",
       "    </tr>\n",
       "    <tr>\n",
       "      <th>18492</th>\n",
       "      <td>41.662395</td>\n",
       "      <td>-87.590176</td>\n",
       "    </tr>\n",
       "    <tr>\n",
       "      <th>18493</th>\n",
       "      <td>41.919197</td>\n",
       "      <td>-87.664758</td>\n",
       "    </tr>\n",
       "    <tr>\n",
       "      <th>18494</th>\n",
       "      <td>NaN</td>\n",
       "      <td>NaN</td>\n",
       "    </tr>\n",
       "  </tbody>\n",
       "</table>\n",
       "<p>18495 rows × 2 columns</p>\n",
       "</div>"
      ],
      "text/plain": [
       "             Lat        Lon\n",
       "0            NaN        NaN\n",
       "1      41.798211 -87.736925\n",
       "2      41.987245 -87.689417\n",
       "3      41.953664 -87.724987\n",
       "4      41.657069 -87.546049\n",
       "...          ...        ...\n",
       "18490  41.857843 -87.635858\n",
       "18491  41.965376 -87.758403\n",
       "18492  41.662395 -87.590176\n",
       "18493  41.919197 -87.664758\n",
       "18494        NaN        NaN\n",
       "\n",
       "[18495 rows x 2 columns]"
      ]
     },
     "execution_count": 21,
     "metadata": {},
     "output_type": "execute_result"
    }
   ],
   "source": [
    "mosquito_df[[\"Lat\", \"Lon\"]]"
   ]
  },
  {
   "cell_type": "code",
   "execution_count": 22,
   "id": "f6441336",
   "metadata": {},
   "outputs": [
    {
     "name": "stdout",
     "output_type": "stream",
     "text": [
      "41.83996347772076\n",
      "41.845715402\n",
      "0    41.956299\n",
      "dtype: float64\n"
     ]
    }
   ],
   "source": [
    "# found the mean, median, and mode to see which one is closest to the densest region of the distribution\n",
    "\n",
    "print(mosquito_df.Lat.mean())\n",
    "print(mosquito_df.Lat.median())\n",
    "print(mosquito_df.Lat.mode())"
   ]
  },
  {
   "cell_type": "code",
   "execution_count": 23,
   "id": "ac31faef",
   "metadata": {},
   "outputs": [
    {
     "name": "stdout",
     "output_type": "stream",
     "text": [
      "-87.69164248395428\n",
      "-87.691697729\n",
      "0   -87.797517\n",
      "dtype: float64\n"
     ]
    }
   ],
   "source": [
    "print(mosquito_df.Lon.mean())\n",
    "print(mosquito_df.Lon.median())\n",
    "print(mosquito_df.Lon.mode())"
   ]
  },
  {
   "cell_type": "markdown",
   "id": "c8dede75",
   "metadata": {},
   "source": [
    "Now that I have the mean, median and mode for the Lat and Lon, I plotted both columns to visually inspect whether the mean, median, or mode is close to the densest region of the distribution."
   ]
  },
  {
   "cell_type": "code",
   "execution_count": 24,
   "id": "462fb663",
   "metadata": {},
   "outputs": [
    {
     "data": {
      "image/png": "[encoded data removed]",
      "text/plain": [
       "<Figure size 1440x720 with 2 Axes>"
      ]
     },
     "metadata": {
      "needs_background": "light"
     },
     "output_type": "display_data"
    }
   ],
   "source": [
    "plt.subplots(1, 2, figsize = (20, 10))\n",
    "\n",
    "plt.subplot(1, 2, 1)\n",
    "plt.hist(mosquito_df.Lat)\n",
    "\n",
    "plt.axvline(mosquito_df.Lat.mean(), c=\"black\", label='mean')\n",
    "plt.axvline(mosquito_df.Lat.median(), c=\"red\", label='median')\n",
    "plt.axvline(mosquito_df.Lat.mode()[0], c=\"purple\", label='mode')\n",
    "\n",
    "plt.xlabel(\"Latitude\")\n",
    "plt.ylabel(\"Frequency Observed\")\n",
    "plt.title(\"Latitude Distribution\")\n",
    "\n",
    "plt.legend()\n",
    "\n",
    "#-----------------------------------------\n",
    "\n",
    "plt.subplot(1, 2, 2)\n",
    "plt.hist(mosquito_df.Lon)\n",
    "\n",
    "plt.axvline(mosquito_df.Lon.mean(), c=\"black\", label='mean')\n",
    "plt.axvline(mosquito_df.Lon.median(), c=\"red\", label='median')\n",
    "plt.axvline(mosquito_df.Lon.mode()[0], c=\"purple\", label='mode')\n",
    "\n",
    "plt.xlabel(\"Longitude\")\n",
    "plt.ylabel(\"Frequency Observed\")\n",
    "plt.title(\"Longitude Distribution\")\n",
    "\n",
    "plt.legend()\n",
    "\n",
    "plt.tight_layout()\n",
    "plt.show()"
   ]
  },
  {
   "cell_type": "markdown",
   "id": "3dffd571",
   "metadata": {},
   "source": [
    "Based on the visuals above, for Latitude, the ***mode*** is the closest to the densest part of the distribution. Therefore, the NaNs will be filled by the mode.\n",
    "\n",
    "For Longitude, the ***median*** is the closest to the most dense part of the distribution. Therefore, the NaNs for the Longitude will be filled by the median."
   ]
  },
  {
   "cell_type": "code",
   "execution_count": 25,
   "id": "aeaed093",
   "metadata": {},
   "outputs": [],
   "source": [
    "# Filling the NaNs:\n",
    "\n",
    "mosquito_df.Lat = mosquito_df.Lat.fillna(mosquito_df.Lat.mode()[0])\n",
    "\n",
    "mosquito_df.Lon = mosquito_df.Lon.fillna(mosquito_df.Lon.median())"
   ]
  },
  {
   "cell_type": "code",
   "execution_count": 26,
   "id": "118a6b98",
   "metadata": {},
   "outputs": [
    {
     "data": {
      "text/plain": [
       "Year               0.0\n",
       "Week               0.0\n",
       "Address Block      0.0\n",
       "Block              0.0\n",
       "Trap               0.0\n",
       "Trap type          0.0\n",
       "Date               0.0\n",
       "Mosquito number    0.0\n",
       "Mosquito ID        0.0\n",
       "WNV Present        0.0\n",
       "Species            0.0\n",
       "Lat                0.0\n",
       "Lon                0.0\n",
       "dtype: float64"
      ]
     },
     "execution_count": 26,
     "metadata": {},
     "output_type": "execute_result"
    }
   ],
   "source": [
    "# To check that it worked:\n",
    "\n",
    "mosquito_df.isna().mean() * 100"
   ]
  },
  {
   "cell_type": "markdown",
   "id": "1e377e86",
   "metadata": {},
   "source": [
    "There are no more NaN values in the Latitude and Longitude columns!"
   ]
  },
  {
   "cell_type": "markdown",
   "id": "5878bc22",
   "metadata": {},
   "source": [
    "***\n",
    "## PART 2 - BASIC EDA\n",
    "***"
   ]
  },
  {
   "cell_type": "markdown",
   "id": "776b80ec",
   "metadata": {},
   "source": [
    "***\n",
    "### Question 1: \n",
    "\n",
    "Using an appropriate visual, or visuals, explore the relationship between mosquito number and date.\n",
    "***"
   ]
  },
  {
   "cell_type": "code",
   "execution_count": 27,
   "id": "0262332c",
   "metadata": {},
   "outputs": [
    {
     "data": {
      "text/html": [
       "<div>\n",
       "<style scoped>\n",
       "    .dataframe tbody tr th:only-of-type {\n",
       "        vertical-align: middle;\n",
       "    }\n",
       "\n",
       "    .dataframe tbody tr th {\n",
       "        vertical-align: top;\n",
       "    }\n",
       "\n",
       "    .dataframe thead th {\n",
       "        text-align: right;\n",
       "    }\n",
       "</style>\n",
       "<table border=\"1\" class=\"dataframe\">\n",
       "  <thead>\n",
       "    <tr style=\"text-align: right;\">\n",
       "      <th></th>\n",
       "      <th>Date</th>\n",
       "      <th>Mosquito number</th>\n",
       "    </tr>\n",
       "  </thead>\n",
       "  <tbody>\n",
       "    <tr>\n",
       "      <th>0</th>\n",
       "      <td>2019-09-26 00:09:00</td>\n",
       "      <td>2</td>\n",
       "    </tr>\n",
       "    <tr>\n",
       "      <th>1</th>\n",
       "      <td>2019-09-26 00:09:00</td>\n",
       "      <td>1</td>\n",
       "    </tr>\n",
       "    <tr>\n",
       "      <th>2</th>\n",
       "      <td>2019-09-26 00:09:00</td>\n",
       "      <td>2</td>\n",
       "    </tr>\n",
       "    <tr>\n",
       "      <th>3</th>\n",
       "      <td>2019-09-26 00:09:00</td>\n",
       "      <td>1</td>\n",
       "    </tr>\n",
       "    <tr>\n",
       "      <th>4</th>\n",
       "      <td>2019-09-26 00:09:00</td>\n",
       "      <td>9</td>\n",
       "    </tr>\n",
       "  </tbody>\n",
       "</table>\n",
       "</div>"
      ],
      "text/plain": [
       "                 Date  Mosquito number\n",
       "0 2019-09-26 00:09:00                2\n",
       "1 2019-09-26 00:09:00                1\n",
       "2 2019-09-26 00:09:00                2\n",
       "3 2019-09-26 00:09:00                1\n",
       "4 2019-09-26 00:09:00                9"
      ]
     },
     "execution_count": 27,
     "metadata": {},
     "output_type": "execute_result"
    }
   ],
   "source": [
    "# First, let me see the data for the date and mosquito number columns:\n",
    "\n",
    "mosquito_df[[\"Date\", \"Mosquito number\"]].head()"
   ]
  },
  {
   "cell_type": "markdown",
   "id": "f90657a9",
   "metadata": {},
   "source": [
    "To explore the relationship between the mosquito numbers and the date, I decided to group the data by the Year and find the total amount of mosquitoes for each year to see which years had the most number of mosquitoes and which year had the least number of mosquitoes.\n",
    "\n",
    "I did this by grouping the `Date` column. I used `dt.year` to group the date by year, and `.rename` to change the index name from 'Date' to 'Year.'\n",
    "\n",
    "I found the use of `.dt.year` and `.rename` from the following links:\n",
    "\n",
    "https://pandas.pydata.org/docs/reference/api/pandas.Series.dt.year.html\n",
    "\n",
    "https://pandas.pydata.org/docs/reference/api/pandas.Series.rename.html\n",
    "\n"
   ]
  },
  {
   "cell_type": "code",
   "execution_count": 28,
   "id": "d1066846",
   "metadata": {},
   "outputs": [
    {
     "data": {
      "text/html": [
       "<div>\n",
       "<style scoped>\n",
       "    .dataframe tbody tr th:only-of-type {\n",
       "        vertical-align: middle;\n",
       "    }\n",
       "\n",
       "    .dataframe tbody tr th {\n",
       "        vertical-align: top;\n",
       "    }\n",
       "\n",
       "    .dataframe thead th {\n",
       "        text-align: right;\n",
       "    }\n",
       "</style>\n",
       "<table border=\"1\" class=\"dataframe\">\n",
       "  <thead>\n",
       "    <tr style=\"text-align: right;\">\n",
       "      <th></th>\n",
       "      <th>Year</th>\n",
       "      <th>Week</th>\n",
       "      <th>Block</th>\n",
       "      <th>Mosquito number</th>\n",
       "      <th>Lat</th>\n",
       "      <th>Lon</th>\n",
       "    </tr>\n",
       "    <tr>\n",
       "      <th>Date</th>\n",
       "      <th></th>\n",
       "      <th></th>\n",
       "      <th></th>\n",
       "      <th></th>\n",
       "      <th></th>\n",
       "      <th></th>\n",
       "    </tr>\n",
       "  </thead>\n",
       "  <tbody>\n",
       "    <tr>\n",
       "      <th>2007</th>\n",
       "      <td>4296987</td>\n",
       "      <td>67980</td>\n",
       "      <td>116864</td>\n",
       "      <td>25094</td>\n",
       "      <td>89565.053851</td>\n",
       "      <td>-187732.942888</td>\n",
       "    </tr>\n",
       "    <tr>\n",
       "      <th>2008</th>\n",
       "      <td>1975872</td>\n",
       "      <td>30206</td>\n",
       "      <td>55026</td>\n",
       "      <td>3882</td>\n",
       "      <td>41176.948627</td>\n",
       "      <td>-86284.681204</td>\n",
       "    </tr>\n",
       "    <tr>\n",
       "      <th>2009</th>\n",
       "      <td>2280215</td>\n",
       "      <td>33094</td>\n",
       "      <td>63685</td>\n",
       "      <td>5528</td>\n",
       "      <td>47500.850384</td>\n",
       "      <td>-99525.121711</td>\n",
       "    </tr>\n",
       "    <tr>\n",
       "      <th>2010</th>\n",
       "      <td>2807970</td>\n",
       "      <td>43316</td>\n",
       "      <td>79130</td>\n",
       "      <td>8115</td>\n",
       "      <td>58478.365138</td>\n",
       "      <td>-122498.797850</td>\n",
       "    </tr>\n",
       "    <tr>\n",
       "      <th>2011</th>\n",
       "      <td>2252320</td>\n",
       "      <td>34216</td>\n",
       "      <td>63680</td>\n",
       "      <td>7795</td>\n",
       "      <td>46880.601618</td>\n",
       "      <td>-98211.196862</td>\n",
       "    </tr>\n",
       "    <tr>\n",
       "      <th>2012</th>\n",
       "      <td>2800704</td>\n",
       "      <td>42827</td>\n",
       "      <td>73158</td>\n",
       "      <td>11342</td>\n",
       "      <td>58275.064031</td>\n",
       "      <td>-122072.519104</td>\n",
       "    </tr>\n",
       "    <tr>\n",
       "      <th>2013</th>\n",
       "      <td>3269112</td>\n",
       "      <td>51414</td>\n",
       "      <td>84175</td>\n",
       "      <td>24724</td>\n",
       "      <td>67982.278402</td>\n",
       "      <td>-142414.355067</td>\n",
       "    </tr>\n",
       "    <tr>\n",
       "      <th>2014</th>\n",
       "      <td>4028000</td>\n",
       "      <td>64906</td>\n",
       "      <td>103427</td>\n",
       "      <td>29888</td>\n",
       "      <td>83722.551183</td>\n",
       "      <td>-175392.183019</td>\n",
       "    </tr>\n",
       "    <tr>\n",
       "      <th>2015</th>\n",
       "      <td>2373670</td>\n",
       "      <td>35046</td>\n",
       "      <td>66973</td>\n",
       "      <td>11763</td>\n",
       "      <td>49322.416352</td>\n",
       "      <td>-103307.612811</td>\n",
       "    </tr>\n",
       "    <tr>\n",
       "      <th>2016</th>\n",
       "      <td>3717504</td>\n",
       "      <td>58713</td>\n",
       "      <td>98413</td>\n",
       "      <td>36893</td>\n",
       "      <td>77224.886172</td>\n",
       "      <td>-161725.734951</td>\n",
       "    </tr>\n",
       "    <tr>\n",
       "      <th>2017</th>\n",
       "      <td>2238870</td>\n",
       "      <td>34610</td>\n",
       "      <td>63227</td>\n",
       "      <td>10632</td>\n",
       "      <td>46453.495573</td>\n",
       "      <td>-97325.166993</td>\n",
       "    </tr>\n",
       "    <tr>\n",
       "      <th>2018</th>\n",
       "      <td>2746498</td>\n",
       "      <td>40589</td>\n",
       "      <td>75818</td>\n",
       "      <td>15538</td>\n",
       "      <td>56977.032065</td>\n",
       "      <td>-119352.199758</td>\n",
       "    </tr>\n",
       "    <tr>\n",
       "      <th>2019</th>\n",
       "      <td>2440971</td>\n",
       "      <td>36502</td>\n",
       "      <td>60976</td>\n",
       "      <td>10030</td>\n",
       "      <td>50610.745770</td>\n",
       "      <td>-106014.577061</td>\n",
       "    </tr>\n",
       "  </tbody>\n",
       "</table>\n",
       "</div>"
      ],
      "text/plain": [
       "         Year   Week   Block  Mosquito number           Lat            Lon\n",
       "Date                                                                      \n",
       "2007  4296987  67980  116864            25094  89565.053851 -187732.942888\n",
       "2008  1975872  30206   55026             3882  41176.948627  -86284.681204\n",
       "2009  2280215  33094   63685             5528  47500.850384  -99525.121711\n",
       "2010  2807970  43316   79130             8115  58478.365138 -122498.797850\n",
       "2011  2252320  34216   63680             7795  46880.601618  -98211.196862\n",
       "2012  2800704  42827   73158            11342  58275.064031 -122072.519104\n",
       "2013  3269112  51414   84175            24724  67982.278402 -142414.355067\n",
       "2014  4028000  64906  103427            29888  83722.551183 -175392.183019\n",
       "2015  2373670  35046   66973            11763  49322.416352 -103307.612811\n",
       "2016  3717504  58713   98413            36893  77224.886172 -161725.734951\n",
       "2017  2238870  34610   63227            10632  46453.495573  -97325.166993\n",
       "2018  2746498  40589   75818            15538  56977.032065 -119352.199758\n",
       "2019  2440971  36502   60976            10030  50610.745770 -106014.577061"
      ]
     },
     "execution_count": 28,
     "metadata": {},
     "output_type": "execute_result"
    }
   ],
   "source": [
    "# Started by grouping the data by the 'Date', specifically the 'Year':\n",
    "\n",
    "mosquito_df.groupby(mosquito_df[\"Date\"].dt.year).sum()"
   ]
  },
  {
   "cell_type": "code",
   "execution_count": 29,
   "id": "5919af78",
   "metadata": {},
   "outputs": [
    {
     "data": {
      "text/html": [
       "<div>\n",
       "<style scoped>\n",
       "    .dataframe tbody tr th:only-of-type {\n",
       "        vertical-align: middle;\n",
       "    }\n",
       "\n",
       "    .dataframe tbody tr th {\n",
       "        vertical-align: top;\n",
       "    }\n",
       "\n",
       "    .dataframe thead th {\n",
       "        text-align: right;\n",
       "    }\n",
       "</style>\n",
       "<table border=\"1\" class=\"dataframe\">\n",
       "  <thead>\n",
       "    <tr style=\"text-align: right;\">\n",
       "      <th></th>\n",
       "      <th>Year</th>\n",
       "      <th>Week</th>\n",
       "      <th>Block</th>\n",
       "      <th>Mosquito number</th>\n",
       "      <th>Lat</th>\n",
       "      <th>Lon</th>\n",
       "    </tr>\n",
       "    <tr>\n",
       "      <th>Year</th>\n",
       "      <th></th>\n",
       "      <th></th>\n",
       "      <th></th>\n",
       "      <th></th>\n",
       "      <th></th>\n",
       "      <th></th>\n",
       "    </tr>\n",
       "  </thead>\n",
       "  <tbody>\n",
       "    <tr>\n",
       "      <th>2007</th>\n",
       "      <td>4296987</td>\n",
       "      <td>67980</td>\n",
       "      <td>116864</td>\n",
       "      <td>25094</td>\n",
       "      <td>89565.053851</td>\n",
       "      <td>-187732.942888</td>\n",
       "    </tr>\n",
       "    <tr>\n",
       "      <th>2008</th>\n",
       "      <td>1975872</td>\n",
       "      <td>30206</td>\n",
       "      <td>55026</td>\n",
       "      <td>3882</td>\n",
       "      <td>41176.948627</td>\n",
       "      <td>-86284.681204</td>\n",
       "    </tr>\n",
       "    <tr>\n",
       "      <th>2009</th>\n",
       "      <td>2280215</td>\n",
       "      <td>33094</td>\n",
       "      <td>63685</td>\n",
       "      <td>5528</td>\n",
       "      <td>47500.850384</td>\n",
       "      <td>-99525.121711</td>\n",
       "    </tr>\n",
       "    <tr>\n",
       "      <th>2010</th>\n",
       "      <td>2807970</td>\n",
       "      <td>43316</td>\n",
       "      <td>79130</td>\n",
       "      <td>8115</td>\n",
       "      <td>58478.365138</td>\n",
       "      <td>-122498.797850</td>\n",
       "    </tr>\n",
       "    <tr>\n",
       "      <th>2011</th>\n",
       "      <td>2252320</td>\n",
       "      <td>34216</td>\n",
       "      <td>63680</td>\n",
       "      <td>7795</td>\n",
       "      <td>46880.601618</td>\n",
       "      <td>-98211.196862</td>\n",
       "    </tr>\n",
       "    <tr>\n",
       "      <th>2012</th>\n",
       "      <td>2800704</td>\n",
       "      <td>42827</td>\n",
       "      <td>73158</td>\n",
       "      <td>11342</td>\n",
       "      <td>58275.064031</td>\n",
       "      <td>-122072.519104</td>\n",
       "    </tr>\n",
       "    <tr>\n",
       "      <th>2013</th>\n",
       "      <td>3269112</td>\n",
       "      <td>51414</td>\n",
       "      <td>84175</td>\n",
       "      <td>24724</td>\n",
       "      <td>67982.278402</td>\n",
       "      <td>-142414.355067</td>\n",
       "    </tr>\n",
       "    <tr>\n",
       "      <th>2014</th>\n",
       "      <td>4028000</td>\n",
       "      <td>64906</td>\n",
       "      <td>103427</td>\n",
       "      <td>29888</td>\n",
       "      <td>83722.551183</td>\n",
       "      <td>-175392.183019</td>\n",
       "    </tr>\n",
       "    <tr>\n",
       "      <th>2015</th>\n",
       "      <td>2373670</td>\n",
       "      <td>35046</td>\n",
       "      <td>66973</td>\n",
       "      <td>11763</td>\n",
       "      <td>49322.416352</td>\n",
       "      <td>-103307.612811</td>\n",
       "    </tr>\n",
       "    <tr>\n",
       "      <th>2016</th>\n",
       "      <td>3717504</td>\n",
       "      <td>58713</td>\n",
       "      <td>98413</td>\n",
       "      <td>36893</td>\n",
       "      <td>77224.886172</td>\n",
       "      <td>-161725.734951</td>\n",
       "    </tr>\n",
       "    <tr>\n",
       "      <th>2017</th>\n",
       "      <td>2238870</td>\n",
       "      <td>34610</td>\n",
       "      <td>63227</td>\n",
       "      <td>10632</td>\n",
       "      <td>46453.495573</td>\n",
       "      <td>-97325.166993</td>\n",
       "    </tr>\n",
       "    <tr>\n",
       "      <th>2018</th>\n",
       "      <td>2746498</td>\n",
       "      <td>40589</td>\n",
       "      <td>75818</td>\n",
       "      <td>15538</td>\n",
       "      <td>56977.032065</td>\n",
       "      <td>-119352.199758</td>\n",
       "    </tr>\n",
       "    <tr>\n",
       "      <th>2019</th>\n",
       "      <td>2440971</td>\n",
       "      <td>36502</td>\n",
       "      <td>60976</td>\n",
       "      <td>10030</td>\n",
       "      <td>50610.745770</td>\n",
       "      <td>-106014.577061</td>\n",
       "    </tr>\n",
       "  </tbody>\n",
       "</table>\n",
       "</div>"
      ],
      "text/plain": [
       "         Year   Week   Block  Mosquito number           Lat            Lon\n",
       "Year                                                                      \n",
       "2007  4296987  67980  116864            25094  89565.053851 -187732.942888\n",
       "2008  1975872  30206   55026             3882  41176.948627  -86284.681204\n",
       "2009  2280215  33094   63685             5528  47500.850384  -99525.121711\n",
       "2010  2807970  43316   79130             8115  58478.365138 -122498.797850\n",
       "2011  2252320  34216   63680             7795  46880.601618  -98211.196862\n",
       "2012  2800704  42827   73158            11342  58275.064031 -122072.519104\n",
       "2013  3269112  51414   84175            24724  67982.278402 -142414.355067\n",
       "2014  4028000  64906  103427            29888  83722.551183 -175392.183019\n",
       "2015  2373670  35046   66973            11763  49322.416352 -103307.612811\n",
       "2016  3717504  58713   98413            36893  77224.886172 -161725.734951\n",
       "2017  2238870  34610   63227            10632  46453.495573  -97325.166993\n",
       "2018  2746498  40589   75818            15538  56977.032065 -119352.199758\n",
       "2019  2440971  36502   60976            10030  50610.745770 -106014.577061"
      ]
     },
     "execution_count": 29,
     "metadata": {},
     "output_type": "execute_result"
    }
   ],
   "source": [
    "# Renamed the 'Date' column to 'Year'\n",
    "\n",
    "mosquito_df.groupby([mosquito_df['Date'].dt.year.rename('Year')]).sum()"
   ]
  },
  {
   "cell_type": "code",
   "execution_count": 30,
   "id": "85614e74",
   "metadata": {},
   "outputs": [
    {
     "data": {
      "text/plain": [
       "Year\n",
       "2007    25094\n",
       "2008     3882\n",
       "2009     5528\n",
       "2010     8115\n",
       "2011     7795\n",
       "2012    11342\n",
       "2013    24724\n",
       "2014    29888\n",
       "2015    11763\n",
       "2016    36893\n",
       "2017    10632\n",
       "2018    15538\n",
       "2019    10030\n",
       "Name: Mosquito number, dtype: int64"
      ]
     },
     "execution_count": 30,
     "metadata": {},
     "output_type": "execute_result"
    }
   ],
   "source": [
    "# Now found the sum of Mosquito numbers for each year\n",
    "\n",
    "mosquito_df.groupby([mosquito_df['Date'].dt.year.rename('Year')]).sum()[\"Mosquito number\"]"
   ]
  },
  {
   "cell_type": "code",
   "execution_count": 31,
   "id": "de3c72fb",
   "metadata": {},
   "outputs": [
    {
     "data": {
      "text/plain": [
       "Year\n",
       "2007    25094\n",
       "2008     3882\n",
       "2009     5528\n",
       "2010     8115\n",
       "2011     7795\n",
       "2012    11342\n",
       "2013    24724\n",
       "2014    29888\n",
       "2015    11763\n",
       "2016    36893\n",
       "2017    10632\n",
       "2018    15538\n",
       "2019    10030\n",
       "Name: Mosquito number, dtype: int64"
      ]
     },
     "execution_count": 31,
     "metadata": {},
     "output_type": "execute_result"
    }
   ],
   "source": [
    "# assigned the sum of mosquitoes and year to a variable, for easy plotting\n",
    "\n",
    "year_MN = mosquito_df.groupby([mosquito_df['Date'].dt.year.rename('Year')]).sum()[\"Mosquito number\"]\n",
    "\n",
    "year_MN"
   ]
  },
  {
   "cell_type": "code",
   "execution_count": 32,
   "id": "e4f6fef0",
   "metadata": {},
   "outputs": [
    {
     "data": {
      "image/png": "[encoded data removed]",
      "text/plain": [
       "<Figure size 1080x720 with 1 Axes>"
      ]
     },
     "metadata": {
      "needs_background": "light"
     },
     "output_type": "display_data"
    }
   ],
   "source": [
    "# Used a bar chart to visualize the total number of mosquitoes per year:\n",
    "\n",
    "plt.figure(figsize=(15,10))\n",
    "\n",
    "plt.bar(year_MN.index, year_MN.values)\n",
    "\n",
    "plt.xlabel('Year')\n",
    "plt.ylabel('Total Amount of Mosquitoes')\n",
    "plt.title('Total Number of Mosquitoes Per Year')\n",
    "\n",
    "plt.show()"
   ]
  },
  {
   "cell_type": "markdown",
   "id": "8cad799c",
   "metadata": {},
   "source": [
    "**The relationship between the Mosquito Number and the Date:**\n",
    "* Based on the data, the maximum total number of mosquitoes caught in the trap and tested was in the year of 2016. This tells me that WNV tests were conducted the most in 2016. After 2016, 2014 was the year with the next highest amount of mosquitoes caught.\n",
    "\n",
    "\n",
    "* There was significant drop in WNV tests in 2008, with 2007 being the 3rd year with the most tests conducted and total amount of mosquitoes caught."
   ]
  },
  {
   "cell_type": "markdown",
   "id": "474d0174",
   "metadata": {},
   "source": [
    "***\n",
    "## PART 3 - ADVANCED EDA"
   ]
  },
  {
   "cell_type": "markdown",
   "id": "483967ec",
   "metadata": {},
   "source": [
    "***\n",
    "### Question 1:\n",
    "\n",
    "Using an appropriate visual, explore the relationship between mosquito species and WNV prevalence.\n",
    "***"
   ]
  },
  {
   "cell_type": "code",
   "execution_count": 33,
   "id": "4e421b80",
   "metadata": {},
   "outputs": [
    {
     "data": {
      "text/html": [
       "<div>\n",
       "<style scoped>\n",
       "    .dataframe tbody tr th:only-of-type {\n",
       "        vertical-align: middle;\n",
       "    }\n",
       "\n",
       "    .dataframe tbody tr th {\n",
       "        vertical-align: top;\n",
       "    }\n",
       "\n",
       "    .dataframe thead th {\n",
       "        text-align: right;\n",
       "    }\n",
       "</style>\n",
       "<table border=\"1\" class=\"dataframe\">\n",
       "  <thead>\n",
       "    <tr style=\"text-align: right;\">\n",
       "      <th></th>\n",
       "      <th>Species</th>\n",
       "      <th>WNV Present</th>\n",
       "    </tr>\n",
       "  </thead>\n",
       "  <tbody>\n",
       "    <tr>\n",
       "      <th>0</th>\n",
       "      <td>CULEX RESTUANS</td>\n",
       "      <td>negative</td>\n",
       "    </tr>\n",
       "    <tr>\n",
       "      <th>1</th>\n",
       "      <td>CULEX RESTUANS</td>\n",
       "      <td>negative</td>\n",
       "    </tr>\n",
       "    <tr>\n",
       "      <th>2</th>\n",
       "      <td>CULEX RESTUANS</td>\n",
       "      <td>negative</td>\n",
       "    </tr>\n",
       "    <tr>\n",
       "      <th>3</th>\n",
       "      <td>CULEX RESTUANS</td>\n",
       "      <td>negative</td>\n",
       "    </tr>\n",
       "    <tr>\n",
       "      <th>4</th>\n",
       "      <td>CULEX RESTUANS</td>\n",
       "      <td>negative</td>\n",
       "    </tr>\n",
       "  </tbody>\n",
       "</table>\n",
       "</div>"
      ],
      "text/plain": [
       "          Species WNV Present\n",
       "0  CULEX RESTUANS    negative\n",
       "1  CULEX RESTUANS    negative\n",
       "2  CULEX RESTUANS    negative\n",
       "3  CULEX RESTUANS    negative\n",
       "4  CULEX RESTUANS    negative"
      ]
     },
     "execution_count": 33,
     "metadata": {},
     "output_type": "execute_result"
    }
   ],
   "source": [
    "# to see the data with the mosquito species and WNV prevalence columns:\n",
    "\n",
    "mosquito_df[[\"Species\", \"WNV Present\"]].head()"
   ]
  },
  {
   "cell_type": "code",
   "execution_count": 34,
   "id": "52b60cd2",
   "metadata": {},
   "outputs": [
    {
     "data": {
      "text/plain": [
       "Species           WNV Present\n",
       "CULEX PIPIENS     negative       4074\n",
       "                  positive       1412\n",
       "CULEX RESTUANS    negative       9309\n",
       "                  positive       2557\n",
       "CULEX SALINARIUS  negative        215\n",
       "                  positive         11\n",
       "CULEX TERRITANS   negative        903\n",
       "                  positive         14\n",
       "Name: Mosquito number, dtype: int64"
      ]
     },
     "execution_count": 34,
     "metadata": {},
     "output_type": "execute_result"
    }
   ],
   "source": [
    "# to differentiate the data based on the results of the WNV test:\n",
    "\n",
    "species_WNV = mosquito_df.groupby([\"Species\", \"WNV Present\"]).count()[\"Mosquito number\"]\n",
    "species_WNV"
   ]
  },
  {
   "cell_type": "code",
   "execution_count": 35,
   "id": "cce9bf44",
   "metadata": {},
   "outputs": [
    {
     "data": {
      "text/html": [
       "<div>\n",
       "<style scoped>\n",
       "    .dataframe tbody tr th:only-of-type {\n",
       "        vertical-align: middle;\n",
       "    }\n",
       "\n",
       "    .dataframe tbody tr th {\n",
       "        vertical-align: top;\n",
       "    }\n",
       "\n",
       "    .dataframe thead th {\n",
       "        text-align: right;\n",
       "    }\n",
       "</style>\n",
       "<table border=\"1\" class=\"dataframe\">\n",
       "  <thead>\n",
       "    <tr style=\"text-align: right;\">\n",
       "      <th>WNV Present</th>\n",
       "      <th>negative</th>\n",
       "      <th>positive</th>\n",
       "    </tr>\n",
       "    <tr>\n",
       "      <th>Species</th>\n",
       "      <th></th>\n",
       "      <th></th>\n",
       "    </tr>\n",
       "  </thead>\n",
       "  <tbody>\n",
       "    <tr>\n",
       "      <th>CULEX RESTUANS</th>\n",
       "      <td>9309</td>\n",
       "      <td>2557</td>\n",
       "    </tr>\n",
       "    <tr>\n",
       "      <th>CULEX PIPIENS</th>\n",
       "      <td>4074</td>\n",
       "      <td>1412</td>\n",
       "    </tr>\n",
       "    <tr>\n",
       "      <th>CULEX TERRITANS</th>\n",
       "      <td>903</td>\n",
       "      <td>14</td>\n",
       "    </tr>\n",
       "    <tr>\n",
       "      <th>CULEX SALINARIUS</th>\n",
       "      <td>215</td>\n",
       "      <td>11</td>\n",
       "    </tr>\n",
       "  </tbody>\n",
       "</table>\n",
       "</div>"
      ],
      "text/plain": [
       "WNV Present       negative  positive\n",
       "Species                             \n",
       "CULEX RESTUANS        9309      2557\n",
       "CULEX PIPIENS         4074      1412\n",
       "CULEX TERRITANS        903        14\n",
       "CULEX SALINARIUS       215        11"
      ]
     },
     "execution_count": 35,
     "metadata": {},
     "output_type": "execute_result"
    }
   ],
   "source": [
    "# to have a better view of the number of negative and positive tests for each species:\n",
    "\n",
    "species_WNV_unstack = species_WNV.unstack().sort_values(by='negative', ascending=False)\n",
    "\n",
    "species_WNV_unstack"
   ]
  },
  {
   "cell_type": "code",
   "execution_count": 36,
   "id": "a8b4b4a6",
   "metadata": {},
   "outputs": [
    {
     "data": {
      "image/png": "[encoded data removed]",
      "text/plain": [
       "<Figure size 1080x720 with 1 Axes>"
      ]
     },
     "metadata": {
      "needs_background": "light"
     },
     "output_type": "display_data"
    }
   ],
   "source": [
    "plt.figure(figsize=(15, 10))\n",
    "\n",
    "plt.bar(species_WNV_unstack.index, species_WNV_unstack['negative'], label=\"Negative\")\n",
    "plt.bar(species_WNV_unstack.index, species_WNV_unstack['positive'], label=\"Positive\")\n",
    "\n",
    "plt.xlabel('Mosquito Species')\n",
    "plt.ylabel('Frequency')\n",
    "plt.title('Species Distribution by WNV Present')\n",
    "\n",
    "plt.legend()\n",
    "\n",
    "plt.show()"
   ]
  },
  {
   "cell_type": "markdown",
   "id": "e9b668f4",
   "metadata": {},
   "source": [
    "**The relationship between Mosquito Species and WNV Prevalence:**\n",
    "\n",
    "* Based on the data, the species with the most number of tests conducted with a negative result is Culex Restuans.\n",
    "\n",
    "\n",
    "* The species with the most number of tests conducted with a positive result is also Culex Restuans. This could mean that the most popular species of the mosquitoes tested is Culex Restauas, not necessarily that WNV is found more in Culex Restuans than the other species.\n",
    "\n",
    "\n",
    "* After Culex Restuans, the species with the most number of tests conducted with a negative result is Culex Pipiens, and with a positive result (also after Culex Restuans), is still Culex Pipiens. This again could mean that the most common species found in the mosquitoes trapped is Culex Restuans and Culex Pipiens.\n",
    "\n",
    "\n",
    "* For Culex Restuans and Culex Pipiens, a little over 70% of the WNV tests conducted resulted in a negative test.\n",
    "\n",
    "\n",
    "* Regarding the other species, the data shows that it is more likely that the WNV tests are negative for the Culex Salinarius and Culex Territans species (with over 90% of the tests being negative for both species). This insight could change if more species of Culex Salinarius and Culex Territans are tested.\n"
   ]
  },
  {
   "cell_type": "markdown",
   "id": "625b38c8",
   "metadata": {},
   "source": [
    "***\n",
    "### Question 2:\n",
    "\n",
    "Using an appropriate visual, explore the relationship between the number of mosquitos caught and trap type.\n",
    "Note: This visual should be a different type of visualization than the previous one\n",
    "***"
   ]
  },
  {
   "cell_type": "code",
   "execution_count": 37,
   "id": "f0804fed",
   "metadata": {},
   "outputs": [
    {
     "data": {
      "text/html": [
       "<div>\n",
       "<style scoped>\n",
       "    .dataframe tbody tr th:only-of-type {\n",
       "        vertical-align: middle;\n",
       "    }\n",
       "\n",
       "    .dataframe tbody tr th {\n",
       "        vertical-align: top;\n",
       "    }\n",
       "\n",
       "    .dataframe thead th {\n",
       "        text-align: right;\n",
       "    }\n",
       "</style>\n",
       "<table border=\"1\" class=\"dataframe\">\n",
       "  <thead>\n",
       "    <tr style=\"text-align: right;\">\n",
       "      <th></th>\n",
       "      <th>Mosquito number</th>\n",
       "      <th>Trap type</th>\n",
       "    </tr>\n",
       "  </thead>\n",
       "  <tbody>\n",
       "    <tr>\n",
       "      <th>0</th>\n",
       "      <td>2</td>\n",
       "      <td>GRAVID</td>\n",
       "    </tr>\n",
       "    <tr>\n",
       "      <th>1</th>\n",
       "      <td>1</td>\n",
       "      <td>GRAVID</td>\n",
       "    </tr>\n",
       "    <tr>\n",
       "      <th>2</th>\n",
       "      <td>2</td>\n",
       "      <td>GRAVID</td>\n",
       "    </tr>\n",
       "    <tr>\n",
       "      <th>3</th>\n",
       "      <td>1</td>\n",
       "      <td>GRAVID</td>\n",
       "    </tr>\n",
       "    <tr>\n",
       "      <th>4</th>\n",
       "      <td>9</td>\n",
       "      <td>GRAVID</td>\n",
       "    </tr>\n",
       "    <tr>\n",
       "      <th>...</th>\n",
       "      <td>...</td>\n",
       "      <td>...</td>\n",
       "    </tr>\n",
       "    <tr>\n",
       "      <th>18490</th>\n",
       "      <td>4</td>\n",
       "      <td>GRAVID</td>\n",
       "    </tr>\n",
       "    <tr>\n",
       "      <th>18491</th>\n",
       "      <td>19</td>\n",
       "      <td>GRAVID</td>\n",
       "    </tr>\n",
       "    <tr>\n",
       "      <th>18492</th>\n",
       "      <td>34</td>\n",
       "      <td>GRAVID</td>\n",
       "    </tr>\n",
       "    <tr>\n",
       "      <th>18493</th>\n",
       "      <td>50</td>\n",
       "      <td>SENTINEL</td>\n",
       "    </tr>\n",
       "    <tr>\n",
       "      <th>18494</th>\n",
       "      <td>6</td>\n",
       "      <td>GRAVID</td>\n",
       "    </tr>\n",
       "  </tbody>\n",
       "</table>\n",
       "<p>18495 rows × 2 columns</p>\n",
       "</div>"
      ],
      "text/plain": [
       "       Mosquito number Trap type\n",
       "0                    2    GRAVID\n",
       "1                    1    GRAVID\n",
       "2                    2    GRAVID\n",
       "3                    1    GRAVID\n",
       "4                    9    GRAVID\n",
       "...                ...       ...\n",
       "18490                4    GRAVID\n",
       "18491               19    GRAVID\n",
       "18492               34    GRAVID\n",
       "18493               50  SENTINEL\n",
       "18494                6    GRAVID\n",
       "\n",
       "[18495 rows x 2 columns]"
      ]
     },
     "execution_count": 37,
     "metadata": {},
     "output_type": "execute_result"
    }
   ],
   "source": [
    "# to see the data with the mosquito number and trap type columns:\n",
    "mosquito_df[[\"Mosquito number\", \"Trap type\"]]"
   ]
  },
  {
   "cell_type": "code",
   "execution_count": 38,
   "id": "69cc1c3c",
   "metadata": {},
   "outputs": [
    {
     "data": {
      "text/plain": [
       "Trap type\n",
       "GRAVID      186206\n",
       "CDC           9883\n",
       "SENTINEL      5134\n",
       "OVI              1\n",
       "Name: Mosquito number, dtype: int64"
      ]
     },
     "execution_count": 38,
     "metadata": {},
     "output_type": "execute_result"
    }
   ],
   "source": [
    "# to understand the total amount of mosquitoes for each trap type\n",
    "mosquito_df.groupby(\"Trap type\").sum()[\"Mosquito number\"].sort_values(ascending=False)"
   ]
  },
  {
   "cell_type": "code",
   "execution_count": 39,
   "id": "c5410ba7",
   "metadata": {},
   "outputs": [
    {
     "data": {
      "image/png": "[encoded data removed]",
      "text/plain": [
       "<Figure size 1080x720 with 1 Axes>"
      ]
     },
     "metadata": {
      "needs_background": "light"
     },
     "output_type": "display_data"
    }
   ],
   "source": [
    "plt.figure(figsize=(15,10))\n",
    "\n",
    "sns.boxplot(x=mosquito_df[\"Trap type\"], y=mosquito_df['Mosquito number'], palette=[\"pink\", \"lightblue\"])\n",
    "plt.title('Trap Type Distributed by Mosquito Number')\n",
    "\n",
    "plt.show()"
   ]
  },
  {
   "cell_type": "markdown",
   "id": "3a03f937",
   "metadata": {},
   "source": [
    "**The relationship between the number of mosquitoes caught and the trap type:**\n",
    "* Since there is only a total number of one (1) mosquito caught in the OVI trap type, the distribution information regarding this trap type is being excluded.\n",
    "    - OVI's minimum and maximum number of mosquitoes caught is 1.\n",
    "\n",
    "\n",
    "* For all other trap types: Gravid, Sentinel, and CDC, the distribution according to the boxplot is positively skewed,  seeing as the box plots show the median closer to the lower/bottom quartile.\n",
    "\n",
    "\n",
    "* The boxplot shows that the Sentinel trap type has the most diverse number of mosquitoes in the data, followed by the CDC trap type. It is interesting that there are a lot of outliers for the Gravid trap type, seeing as Gravid is the trap that has the highest total amount of mosquitoes caught.\n",
    "\n",
    "\n",
    "* Gravid \n",
    "    - 50% of the data is within 1 and a little below 15 mosquitoes caught.\n",
    "    - The median is about 5 mosquitoes.\n",
    "    \n",
    "    \n",
    "* Sentinel \n",
    "    - 50% of the data is within 8 and 45 mosquitoes caught.\n",
    "    - The median is 20 mosquitoes.\n",
    "    \n",
    "    \n",
    "* CDC \n",
    "    - 50% of the data is within 1 and a little below 40 mosquitoes caught.\n",
    "    - The median is about 8 mosquitoes.\n"
   ]
  },
  {
   "cell_type": "markdown",
   "id": "fbe0b577",
   "metadata": {},
   "source": [
    "***\n",
    "### Question 3:\n",
    "\n",
    "Using an appropriate visual, come up with an additional insight of your choice.\n",
    "Note: This visual should be a different type of visualization than the previous two\n",
    "***"
   ]
  },
  {
   "cell_type": "markdown",
   "id": "06fe1144",
   "metadata": {},
   "source": [
    "I thought it would be interesting to see the relationship between the mosquito number and the mosquito species. I wanted to see what species had the highest and lowest total amount of mosquitoes caught."
   ]
  },
  {
   "cell_type": "code",
   "execution_count": 40,
   "id": "0b2c3b6d",
   "metadata": {},
   "outputs": [
    {
     "data": {
      "text/html": [
       "<div>\n",
       "<style scoped>\n",
       "    .dataframe tbody tr th:only-of-type {\n",
       "        vertical-align: middle;\n",
       "    }\n",
       "\n",
       "    .dataframe tbody tr th {\n",
       "        vertical-align: top;\n",
       "    }\n",
       "\n",
       "    .dataframe thead th {\n",
       "        text-align: right;\n",
       "    }\n",
       "</style>\n",
       "<table border=\"1\" class=\"dataframe\">\n",
       "  <thead>\n",
       "    <tr style=\"text-align: right;\">\n",
       "      <th></th>\n",
       "      <th>Year</th>\n",
       "      <th>Week</th>\n",
       "      <th>Address Block</th>\n",
       "      <th>Block</th>\n",
       "      <th>Trap</th>\n",
       "      <th>Trap type</th>\n",
       "      <th>Date</th>\n",
       "      <th>Mosquito number</th>\n",
       "      <th>Mosquito ID</th>\n",
       "      <th>WNV Present</th>\n",
       "      <th>Species</th>\n",
       "      <th>Lat</th>\n",
       "      <th>Lon</th>\n",
       "    </tr>\n",
       "  </thead>\n",
       "  <tbody>\n",
       "    <tr>\n",
       "      <th>0</th>\n",
       "      <td>2019</td>\n",
       "      <td>39</td>\n",
       "      <td>100XX W OHARE AIRPORT</td>\n",
       "      <td>100</td>\n",
       "      <td>T910</td>\n",
       "      <td>GRAVID</td>\n",
       "      <td>2019-09-26 00:09:00</td>\n",
       "      <td>2</td>\n",
       "      <td>Res</td>\n",
       "      <td>negative</td>\n",
       "      <td>CULEX RESTUANS</td>\n",
       "      <td>41.956299</td>\n",
       "      <td>-87.691698</td>\n",
       "    </tr>\n",
       "    <tr>\n",
       "      <th>1</th>\n",
       "      <td>2019</td>\n",
       "      <td>39</td>\n",
       "      <td>52XX S KOLMAR AVE</td>\n",
       "      <td>52</td>\n",
       "      <td>T114</td>\n",
       "      <td>GRAVID</td>\n",
       "      <td>2019-09-26 00:09:00</td>\n",
       "      <td>1</td>\n",
       "      <td>Res</td>\n",
       "      <td>negative</td>\n",
       "      <td>CULEX RESTUANS</td>\n",
       "      <td>41.798211</td>\n",
       "      <td>-87.736925</td>\n",
       "    </tr>\n",
       "    <tr>\n",
       "      <th>2</th>\n",
       "      <td>2019</td>\n",
       "      <td>39</td>\n",
       "      <td>58XX N WESTERN AVE</td>\n",
       "      <td>58</td>\n",
       "      <td>T028</td>\n",
       "      <td>GRAVID</td>\n",
       "      <td>2019-09-26 00:09:00</td>\n",
       "      <td>2</td>\n",
       "      <td>Res</td>\n",
       "      <td>negative</td>\n",
       "      <td>CULEX RESTUANS</td>\n",
       "      <td>41.987245</td>\n",
       "      <td>-87.689417</td>\n",
       "    </tr>\n",
       "    <tr>\n",
       "      <th>3</th>\n",
       "      <td>2019</td>\n",
       "      <td>39</td>\n",
       "      <td>39XX N SPRINGFIELD AVE</td>\n",
       "      <td>39</td>\n",
       "      <td>T228</td>\n",
       "      <td>GRAVID</td>\n",
       "      <td>2019-09-26 00:09:00</td>\n",
       "      <td>1</td>\n",
       "      <td>Res</td>\n",
       "      <td>negative</td>\n",
       "      <td>CULEX RESTUANS</td>\n",
       "      <td>41.953664</td>\n",
       "      <td>-87.724987</td>\n",
       "    </tr>\n",
       "    <tr>\n",
       "      <th>4</th>\n",
       "      <td>2019</td>\n",
       "      <td>39</td>\n",
       "      <td>131XX S BRANDON AVE</td>\n",
       "      <td>131</td>\n",
       "      <td>T209</td>\n",
       "      <td>GRAVID</td>\n",
       "      <td>2019-09-26 00:09:00</td>\n",
       "      <td>9</td>\n",
       "      <td>Res</td>\n",
       "      <td>negative</td>\n",
       "      <td>CULEX RESTUANS</td>\n",
       "      <td>41.657069</td>\n",
       "      <td>-87.546049</td>\n",
       "    </tr>\n",
       "  </tbody>\n",
       "</table>\n",
       "</div>"
      ],
      "text/plain": [
       "   Year  Week           Address Block  Block  Trap Trap type  \\\n",
       "0  2019    39   100XX W OHARE AIRPORT    100  T910    GRAVID   \n",
       "1  2019    39       52XX S KOLMAR AVE     52  T114    GRAVID   \n",
       "2  2019    39      58XX N WESTERN AVE     58  T028    GRAVID   \n",
       "3  2019    39  39XX N SPRINGFIELD AVE     39  T228    GRAVID   \n",
       "4  2019    39     131XX S BRANDON AVE    131  T209    GRAVID   \n",
       "\n",
       "                 Date  Mosquito number Mosquito ID WNV Present  \\\n",
       "0 2019-09-26 00:09:00                2         Res    negative   \n",
       "1 2019-09-26 00:09:00                1         Res    negative   \n",
       "2 2019-09-26 00:09:00                2         Res    negative   \n",
       "3 2019-09-26 00:09:00                1         Res    negative   \n",
       "4 2019-09-26 00:09:00                9         Res    negative   \n",
       "\n",
       "          Species        Lat        Lon  \n",
       "0  CULEX RESTUANS  41.956299 -87.691698  \n",
       "1  CULEX RESTUANS  41.798211 -87.736925  \n",
       "2  CULEX RESTUANS  41.987245 -87.689417  \n",
       "3  CULEX RESTUANS  41.953664 -87.724987  \n",
       "4  CULEX RESTUANS  41.657069 -87.546049  "
      ]
     },
     "execution_count": 40,
     "metadata": {},
     "output_type": "execute_result"
    }
   ],
   "source": [
    "# To see what is in the data again:\n",
    "mosquito_df.head()"
   ]
  },
  {
   "cell_type": "code",
   "execution_count": 41,
   "id": "0357a038",
   "metadata": {},
   "outputs": [
    {
     "data": {
      "text/plain": [
       "Species\n",
       "CULEX RESTUANS      137586\n",
       "CULEX PIPIENS        61364\n",
       "CULEX TERRITANS       1810\n",
       "CULEX SALINARIUS       464\n",
       "Name: Mosquito number, dtype: int64"
      ]
     },
     "execution_count": 41,
     "metadata": {},
     "output_type": "execute_result"
    }
   ],
   "source": [
    "# Grouped the data by species and the sum of all the mosquitoes caught:\n",
    "\n",
    "species_sum = mosquito_df.groupby(\"Species\").sum()[\"Mosquito number\"]\n",
    "species_sum.sort_values(ascending=False)"
   ]
  },
  {
   "cell_type": "markdown",
   "id": "651081c7",
   "metadata": {},
   "source": [
    "From the result above from the grouping and sum of mosquitoes, it is interesting to see that the Culex Restuans species is the most popular type of mosquitoes caught with a total number of 137,586 mosquitoes. This number is significantly higher than the second most popular mosquito species - Culex Pipiens, with a total number of 61,364 mosquitoes caught.\n",
    "\n",
    "I decided to visualize this in a pie chart to show the significant difference in the species and total number of mosquitoes caught."
   ]
  },
  {
   "cell_type": "code",
   "execution_count": 42,
   "id": "79fbe186",
   "metadata": {},
   "outputs": [
    {
     "data": {
      "image/png": "[encoded data removed]",
      "text/plain": [
       "<Figure size 1080x720 with 1 Axes>"
      ]
     },
     "metadata": {},
     "output_type": "display_data"
    }
   ],
   "source": [
    "plt.figure(figsize=(15, 10))\n",
    "\n",
    "\n",
    "plt.pie(species_sum, labels=species_sum.index, autopct='%1.1f%%', explode=(0,0,2,2))\n",
    "plt.title(\"Total Number of Mosquitoes Caught per Species\")\n",
    "plt.show()"
   ]
  },
  {
   "cell_type": "markdown",
   "id": "0a389c2b",
   "metadata": {},
   "source": [
    "Because the Culex Territans and Culex Salinarius species are too small with regards to the total number of mosquitoes caught, I decided to explode it to avoid the overlapping of the texts. I also wanted to show the percentage of the total number of mosquitoes caught in the pie chart. \n",
    "\n",
    "To do this, I found the use of `autopct=%1.1f%%` to provide the percentage on the pie chart, and the use of `explode` to get the other species with low amounts of mosquitoes caught to a display where the texts don't overlap. The link below was used to understand `autopct` and `explode` :\n",
    "\n",
    "https://datatofish.com/pie-chart-matplotlib/ "
   ]
  }
 ],
 "metadata": {
  "kernelspec": {
   "display_name": "Python 3 (ipykernel)",
   "language": "python",
   "name": "python3"
  },
  "language_info": {
   "codemirror_mode": {
    "name": "ipython",
    "version": 3
   },
   "file_extension": ".py",
   "mimetype": "text/x-python",
   "name": "python",
   "nbconvert_exporter": "python",
   "pygments_lexer": "ipython3",
   "version": "3.9.7"
  }
 },
 "nbformat": 4,
 "nbformat_minor": 5
}
